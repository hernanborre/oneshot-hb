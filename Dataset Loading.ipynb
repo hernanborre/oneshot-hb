{
 "cells": [
  {
   "cell_type": "code",
<<<<<<< HEAD
   "execution_count": 193,
   "metadata": {},
   "outputs": [],
=======
   "execution_count": 1,
   "metadata": {},
   "outputs": [
    {
     "name": "stderr",
     "output_type": "stream",
     "text": [
      "Using TensorFlow backend.\n"
     ]
    }
   ],
>>>>>>> af54a17f2b9fb6e4fe080d554e70a998ee0d4f9f
   "source": [
    "from keras.layers import Input, Conv2D, Lambda, merge, Dense, Flatten,MaxPooling2D\n",
    "from keras.models import Model, Sequential\n",
    "from keras.regularizers import l2\n",
    "from keras import backend as K\n",
    "from keras.optimizers import SGD,Adam\n",
    "from keras.losses import binary_crossentropy\n",
    "import numpy.random as rng\n",
    "import numpy as np\n",
    "import os\n",
    "import pickle\n",
    "import matplotlib.pyplot as plt\n",
    "import seaborn as sns\n",
    "from sklearn.utils import shuffle\n",
<<<<<<< HEAD
    "from numpy import array\n",
    "from scipy.spatial.distance import cosine\n",
    "\n",
=======
>>>>>>> af54a17f2b9fb6e4fe080d554e70a998ee0d4f9f
    "%matplotlib inline\n",
    "\n",
    "input_shape = (105, 105, 1)\n",
    "left_input = Input(input_shape)\n",
    "right_input = Input(input_shape)"
   ]
  },
  {
   "cell_type": "markdown",
   "metadata": {},
   "source": [
<<<<<<< HEAD
    "## Data Loading\n",
=======
    "## Data \n",
>>>>>>> af54a17f2b9fb6e4fe080d554e70a998ee0d4f9f
    "The data is pickled as an N_classes x n_examples x width x height array, and there is an accompanyng dictionary to specify which indexes belong to which languages."
   ]
  },
  {
   "cell_type": "code",
<<<<<<< HEAD
   "execution_count": 25,
=======
   "execution_count": 2,
>>>>>>> af54a17f2b9fb6e4fe080d554e70a998ee0d4f9f
   "metadata": {},
   "outputs": [
    {
     "name": "stdout",
     "output_type": "stream",
     "text": [
      "Training Alphabets\n",
      "dict_keys(['Alphabet_of_the_Magi', 'Anglo-Saxon_Futhorc', 'Arcadian', 'Armenian', 'Asomtavruli_(Georgian)', 'Balinese', 'Bengali', 'Blackfoot_(Canadian_Aboriginal_Syllabics)', 'Braille', 'Burmese_(Myanmar)', 'Cyrillic', 'Early_Aramaic', 'Futurama', 'Grantha', 'Greek', 'Gujarati', 'Hebrew', 'Inuktitut_(Canadian_Aboriginal_Syllabics)', 'Japanese_(hiragana)', 'Japanese_(katakana)', 'Korean', 'Latin', 'Malay_(Jawi_-_Arabic)', 'Mkhedruli_(Georgian)', 'N_Ko', 'Ojibwe_(Canadian_Aboriginal_Syllabics)', 'Sanskrit', 'Syriac_(Estrangelo)', 'Tagalog', 'Tifinagh'])\n",
      "\n",
      "Validation Alphabets:\n",
      "dict_keys(['Angelic', 'Atemayar_Qelisayer', 'Atlantean', 'Aurek-Besh', 'Avesta', 'Ge_ez', 'Glagolitic', 'Gurmukhi', 'Kannada', 'Keble', 'Malayalam', 'Manipuri', 'Mongolian', 'Old_Church_Slavonic_(Cyrillic)', 'Oriya', 'Sylheti', 'Syriac_(Serto)', 'Tengwar', 'Tibetan', 'ULOG'])\n",
      "\n",
      "Total characters in Alphabet \"Greek\": 24\n"
     ]
    }
   ],
   "source": [
    "#CHANGE THIS - path where the pickled data is stored\n",
    "PATH = \"/Users/Hernan/Documents/Artificial Intelligence, Msc - Essex/CE888 - Data Science and Big Data/oneshot-hb\" \n",
    "\n",
    "# Loading \n",
    "with open(os.path.join(PATH, \"train.pickle\"), \"rb\") as f:\n",
    "    (X,c) = pickle.load(f)\n",
    "\n",
    "with open(os.path.join(PATH, \"val.pickle\"), \"rb\") as f:\n",
    "    (Xval,cval) = pickle.load(f)\n",
    "    \n",
    "print(\"Training Alphabets\")\n",
    "print(c.keys())\n",
    "\n",
    "print(\"\\nValidation Alphabets:\")\n",
    "print(cval.keys())\n",
    "\n",
    "alphabetSel = \"Greek\";\n",
    "indexesForLang = c[alphabetSel]\n",
    "totalCharactersLang = indexesForLang[1]-indexesForLang[0]+1\n",
    "#print(c[alphabetSel])\n",
    "print(\"\\nTotal characters in Alphabet \\\"{0}\\\": {1}\".format(alphabetSel, totalCharactersLang))"
   ]
  },
  {
   "cell_type": "code",
<<<<<<< HEAD
   "execution_count": 26,
=======
   "execution_count": 4,
>>>>>>> af54a17f2b9fb6e4fe080d554e70a998ee0d4f9f
   "metadata": {
    "scrolled": false
   },
   "outputs": [
    {
     "name": "stdout",
     "output_type": "stream",
     "text": [
      "loading data from /Users/Hernan/Documents/Artificial Intelligence, Msc - Essex/CE888 - Data Science and Big Data/oneshot-hb/train.pickle\n",
      "loading data from /Users/Hernan/Documents/Artificial Intelligence, Msc - Essex/CE888 - Data Science and Big Data/oneshot-hb/val.pickle\n"
     ]
    }
   ],
   "source": [
    "class DatasetLoader:\n",
    "    \"\"\"Dataset loading batches (both training and testing/evaluation) separately \"\"\"\n",
    "    def __init__(self, path, data_subsets = [\"train\", \"val\"]):\n",
    "        self.data = {}\n",
    "        self.categories = {}\n",
    "        self.info = {}\n",
    "        \n",
    "        for name in data_subsets:\n",
    "            file_path = os.path.join(path, name + \".pickle\")\n",
    "            print(\"loading data from {}\".format(file_path))\n",
    "            with open(file_path,\"rb\") as f:\n",
    "                (X,c) = pickle.load(f)\n",
    "                self.data[name] = X\n",
    "                self.categories[name] = c\n",
    "\n",
    "    def get_batch(self,batch_size,s=\"train\"):\n",
    "        \"\"\"Create batch of n pairs, half same class, half different class \"\"\"\n",
    "        X=self.data[s]\n",
    "        n_classes, n_examples, w, h = X.shape\n",
<<<<<<< HEAD
=======
    "\n",
>>>>>>> af54a17f2b9fb6e4fe080d554e70a998ee0d4f9f
    "        #randomly sample several classes to use in the batch\n",
    "        categories = rng.choice(n_classes,size=(batch_size,),replace=False)\n",
    "        #initialize 2 empty arrays for the input image batch\n",
    "        pairs=[np.zeros((batch_size, h, w,1)) for i in range(2)]\n",
    "        #initialize vector for the targets, and make one half of it '1's, so 2nd half of batch has same class\n",
    "        targets=np.zeros((batch_size,))\n",
    "        targets[batch_size//2:] = 1\n",
    "        for i in range(batch_size):\n",
    "            category = categories[i]\n",
    "            idx_1 = rng.randint(0, n_examples)\n",
    "            pairs[0][i,:,:,:] = X[category, idx_1].reshape(w, h, 1)\n",
    "            idx_2 = rng.randint(0, n_examples)\n",
<<<<<<< HEAD
    "            \n",
    "            \"\"\"pick images of same class for 1st half, different for 2nd \"\"\"\n",
=======
    "            #pick images of same class for 1st half, different for 2nd\n",
>>>>>>> af54a17f2b9fb6e4fe080d554e70a998ee0d4f9f
    "            if i >= batch_size // 2:\n",
    "                category_2 = category  \n",
    "            else: \n",
    "                #add a random number to the category modulo n classes to ensure 2nd image has\n",
    "                # ..different category\n",
    "                category_2 = (category + rng.randint(1,n_classes)) % n_classes\n",
    "            pairs[1][i,:,:,:] = X[category_2,idx_2].reshape(w, h,1)\n",
    "        return pairs, targets\n",
    "    \n",
    "    def generate(self, batch_size, s=\"train\"):\n",
    "        \"\"\"a generator for batches, so model.fit_generator from keras/sk-learn can be used \"\"\"\n",
    "        while True:\n",
    "            pairs, targets = self.get_batch(batch_size,s)\n",
    "            yield (pairs, targets)    \n",
    "\n",
    "    def make_oneshot_task(self,N,s=\"val\",language=None):\n",
    "        \"\"\"Create pairs of test image, support set for testing N way one-shot learning. \"\"\"\n",
    "        X=self.data[s]\n",
    "        n_classes, n_examples, w, h = X.shape\n",
    "        indices = rng.randint(0,n_examples,size=(N,))\n",
    "        if language is not None:\n",
    "            low, high = self.categories[s][language]\n",
    "            if N > high - low:\n",
    "                raise ValueError(\"This language ({}) has less than {} letters\".format(language, N))\n",
    "            categories = rng.choice(range(low,high),size=(N,),replace=False)\n",
    "            \n",
    "        else:#if no language specified just pick a bunch of random letters\n",
    "            categories = rng.choice(range(n_classes),size=(N,),replace=False)            \n",
    "        true_category = categories[0]\n",
    "        ex1, ex2 = rng.choice(n_examples,replace=False,size=(2,))\n",
    "        test_image = np.asarray([X[true_category,ex1,:,:]]*N).reshape(N, w, h,1)\n",
    "        support_set = X[categories,indices,:,:]\n",
    "        support_set[0,:,:] = X[true_category,ex2]\n",
<<<<<<< HEAD
    "        support_set = support_set.reshape(N, w, h,1) # N is the number of characters to compare\n",
    "                                                     # w width h height and 1 is the RGB channels, just GREYSCALE \n",
=======
    "        support_set = support_set.reshape(N, w, h,1)\n",
>>>>>>> af54a17f2b9fb6e4fe080d554e70a998ee0d4f9f
    "        targets = np.zeros((N,))\n",
    "        targets[0] = 1\n",
    "        targets, test_image, support_set = shuffle(targets, test_image, support_set)\n",
    "        pairs = [test_image,support_set]\n",
    "\n",
    "        return pairs, targets\n",
    "    \n",
<<<<<<< HEAD
    "    ## ADDED NEW METHODS FOR TESTING AND TRAINNING THE MODEL\n",
    "    def test_oneshot(self,model,N,k,s=\"val\",verbose=0):\n",
    "        \"\"\"Test average N way oneshot learning accuracy of a siamese neural net over k one-shot tasks\"\"\"\n",
    "        n_correct = 0\n",
    "        if verbose:\n",
    "            print(\"Evaluating model on {} random {} way one-shot learning tasks ...\".format(k,N))\n",
    "        for i in range(k):\n",
    "            inputs, targets = self.make_oneshot_task(N,s)\n",
    "            probs = model.predict(inputs)\n",
    "            if np.argmax(probs) == np.argmax(targets):\n",
    "                n_correct+=1\n",
    "        percent_correct = (100.0*n_correct / k)\n",
    "        if verbose:\n",
    "            print(\"Got an average of {}% {} way one-shot learning accuracy\".format(percent_correct,N))\n",
    "        return percent_correct\n",
    "    \n",
    "    # Train the model that is contained in this class \n",
    "    def train(self, model, epochs, verbosity):\n",
    "        model.fit_generator(self.generate(batch_size),)\n",
    "    \n",
    "#Instantiate an object of this defined class as \"loader\" \n",
=======
    "    \n",
    "#Instantiate the class\n",
>>>>>>> af54a17f2b9fb6e4fe080d554e70a998ee0d4f9f
    "loader = DatasetLoader(PATH)"
   ]
  },
  {
<<<<<<< HEAD
   "cell_type": "markdown",
   "metadata": {},
   "source": [
    "\n",
    "# Shaping the Inputs in Pairwise "
   ]
  },
  {
   "cell_type": "code",
   "execution_count": 381,
   "metadata": {},
   "outputs": [],
   "source": [
    "def training_dataset_shaper(total_batch_p=100, verbose=False):\n",
    "\n",
    "    #trainning model \n",
    "    total_batch = total_batch_p\n",
    "    pairwise_size=6\n",
    "    \n",
    "    # TOTAL GENERATED PAIR IMAGES (INPUTS) WILL BE pairwise_size * total_batch\n",
    "    XX = []\n",
    "    YY = []\n",
    "\n",
    "    for tot in range(total_batch):\n",
    "        (pairs, targets)=loader.get_batch(pairwise_size, s=\"train\")\n",
    "        for i in range(pairwise_size):\n",
    "            img1 = pairs[0][0].reshape(105,105).flatten()\n",
    "            img2 = pairs[1][i].reshape(105,105).flatten()\n",
    "            cosine_distance = cosine(img1, img2)\n",
    "            # An Input will be composed of three features, the flatten img1 and img2 vector, plus their cosine distance\n",
    "            #anInput = [img1, img2, cosine_distance]\n",
    "            #anInput = [1,2,3]\n",
    "            #anInput = img1\n",
    "            anInput = cosine_distance\n",
    "            XX.append(anInput)\n",
    "\n",
    "        YY.append(targets.flatten())\n",
    "\n",
    "    #print(XX)\n",
    "    nXX = np.array(XX)\n",
    "    nYY = np.array(YY).flatten()    \n",
    "    #print(nXX.ndim)\n",
    "    #print(nXX.shape)\n",
    "    rows_size = pairwise_size*total_batch\n",
    "    nXX = nXX.reshape(rows_size,1)\n",
    "    if verbose:\n",
    "        print(len(nXX))\n",
    "        print(len(nYY))\n",
    "        print(nXX)\n",
    "        #print(\"\\n\"*2)\n",
    "        print(nYY)\n",
    "    \n",
    "    return nXX, nYY"
   ]
  },
  {
   "cell_type": "markdown",
   "metadata": {},
   "source": [
    "# Shaping the Test Set "
   ]
  },
  {
   "cell_type": "code",
   "execution_count": 481,
   "metadata": {},
   "outputs": [],
   "source": [
    "def testing_dataset_shaper(N_way=20, total_batch_p=1, verbose=False):\n",
    "    #testing model \n",
    "    pairwise_size=N_way\n",
    "    total_batch = total_batch_p\n",
    "\n",
    "    # TOTAL GENERATED PAIR IMAGES (INPUTS) WILL BE pairwise_size * total_batch\n",
    "    XX = []\n",
    "    YY = []\n",
    "\n",
    "    for tot in range(total_batch):\n",
    "        s=\"val\" # validation set\n",
    "        (pairs, targets) = loader.make_oneshot_task(pairwise_size,s)\n",
    "        #plot_oneshot_task(pairs)\n",
    "        for i in range(pairwise_size):\n",
    "            img1 = pairs[0][0].reshape(105,105).flatten()\n",
    "            img2 = pairs[1][i].reshape(105,105).flatten()\n",
    "            cosine_distance = cosine(img1, img2)\n",
    "            # An Input will be composed of three features, the flatten img1 and img2 vector, \n",
    "            # plus their cosine distance        \n",
    "            anInput = cosine_distance\n",
    "            XX.append(anInput)\n",
    "\n",
    "        YY.append(targets.flatten())\n",
    "\n",
    "    #print(XX)\n",
    "    nXX = np.array(XX)\n",
    "    nYY = np.array(YY).flatten()    \n",
    "    #print(nXX.ndim)\n",
    "    #print(nXX.shape)\n",
    "    rows_size = pairwise_size*total_batch\n",
    "    nXX = nXX.reshape(rows_size,1)\n",
    "    if verbose:\n",
    "        print(len(nXX))\n",
    "        print(len(nYY))\n",
    "        print(nXX)\n",
    "        #print(\"\\n\"*2)\n",
    "        print(nYY)\n",
    "    \n",
    "    return nXX, nYY"
   ]
  },
  {
   "cell_type": "code",
   "execution_count": 375,
   "metadata": {},
   "outputs": [
    {
     "name": "stdout",
     "output_type": "stream",
     "text": [
      "20\n",
      "20\n",
      "[[ 0.092738  ]\n",
      " [ 0.08766913]\n",
      " [ 0.07998051]\n",
      " [ 0.0664054 ]\n",
      " [ 0.07789573]\n",
      " [ 0.07956705]\n",
      " [ 0.07936371]\n",
      " [ 0.05609065]\n",
      " [ 0.06499422]\n",
      " [ 0.09305008]\n",
      " [ 0.06567408]\n",
      " [ 0.05632464]\n",
      " [ 0.05685162]\n",
      " [ 0.08075579]\n",
      " [ 0.06843818]\n",
      " [ 0.09481124]\n",
      " [ 0.07919744]\n",
      " [ 0.08006852]\n",
      " [ 0.06462546]\n",
      " [ 0.05159844]]\n",
      "[ 0.  0.  0.  0.  0.  0.  0.  0.  0.  0.  0.  0.  0.  0.  0.  1.  0.  0.\n",
      "  0.  0.]\n"
     ]
    }
   ],
   "source": [
    "X_test, y_test = testing_dataset_shaper(20, 1, True)"
   ]
  },
  {
   "cell_type": "code",
   "execution_count": 397,
   "metadata": {},
   "outputs": [],
   "source": [
    "def pipeline_score_test_classifier(num_tests=100, verbose=False):\n",
    "    score_test_tot=0\n",
    "    test_count=num_tests\n",
    "    for z in range(test_count):\n",
    "        X_test, y_test = testing_dataset_shaper(20, 1)\n",
    "        # calling the optimized CLASSIFIER TPOT\n",
    "        score_test = pipeline_optimizer_classifier.score(X_test, y_test)\n",
    "        score_test_tot +=score_test\n",
    "        if verbose:            \n",
    "            print(score_test)\n",
    "    print(\"The total average score for {0}# of runs was: {1}\".format(test_count,(score_test_tot/test_count)))\n",
    "\n",
    "    \n",
    "def pipeline_score_test_regressor(num_tests=100, verbose=False):\n",
    "    score_test_tot=0\n",
    "    test_count=num_tests\n",
    "    for z in range(test_count):\n",
    "        X_test, y_test = testing_dataset_shaper(20, 1)\n",
    "        # calling the optimized REGRESSOR TPOT\n",
    "        score_test = pipeline_optimizer_regressor.score(X_test, y_test)\n",
    "        score_test_tot +=score_test\n",
    "        if verbose:            \n",
    "            print(score_test)\n",
    "    print(\"The total average score for {0}# of runs was: {1}\".format(test_count,(score_test_tot/test_count)))\n",
    "    "
   ]
  },
  {
   "cell_type": "markdown",
   "metadata": {},
   "source": [
    "# TPOT RandomForestClassifier Auto-ML"
   ]
  },
  {
   "cell_type": "code",
   "execution_count": 387,
   "metadata": {},
   "outputs": [
    {
     "name": "stderr",
     "output_type": "stream",
     "text": [
      "Optimization Progress:  33%|███▎      | 20/60 [08:13<21:01, 31.53s/pipeline]"
     ]
    },
    {
     "name": "stdout",
     "output_type": "stream",
     "text": [
      "Generation 1 - Current best internal CV score: 0.5\n"
     ]
    },
    {
     "name": "stderr",
     "output_type": "stream",
     "text": [
      "Optimization Progress:  50%|█████     | 30/60 [09:46<04:26,  8.88s/pipeline]"
     ]
    },
    {
     "name": "stdout",
     "output_type": "stream",
     "text": [
      "Generation 2 - Current best internal CV score: 0.5\n"
     ]
    },
    {
     "name": "stderr",
     "output_type": "stream",
     "text": [
      "Optimization Progress:  67%|██████▋   | 40/60 [10:43<03:50, 11.51s/pipeline]"
     ]
    },
    {
     "name": "stdout",
     "output_type": "stream",
     "text": [
      "Generation 3 - Current best internal CV score: 0.5\n"
     ]
    },
    {
     "name": "stderr",
     "output_type": "stream",
     "text": [
      "Optimization Progress:  83%|████████▎ | 50/60 [13:12<01:43, 10.31s/pipeline]"
     ]
    },
    {
     "name": "stdout",
     "output_type": "stream",
     "text": [
      "Generation 4 - Current best internal CV score: 0.5\n"
     ]
    },
    {
     "name": "stderr",
     "output_type": "stream",
     "text": [
      "                                                                            \r"
     ]
    },
    {
     "name": "stdout",
     "output_type": "stream",
     "text": [
      "Generation 5 - Current best internal CV score: 0.5\n",
      "\n",
      "Best pipeline: RandomForestClassifier(CombineDFs(input_matrix, input_matrix), criterion=gini, max_depth=1, max_leaf_nodes=9, min_impurity_decrease=0.2, min_samples_leaf=6, min_samples_split=4, min_weight_fraction_leaf=0.4, n_estimators=20)\n",
      "The total average score for 100# of runs was: 0.9500000000000017\n"
     ]
    },
    {
     "data": {
      "text/plain": [
       "True"
      ]
     },
     "execution_count": 387,
     "metadata": {},
     "output_type": "execute_result"
    }
   ],
   "source": [
    "from tpot import TPOTClassifier\n",
    "import numpy as np\n",
    "\n",
    "tpot_config_classifier = {\n",
    "    'sklearn.ensemble.RandomForestClassifier': {\n",
    "        'n_estimators': [10, 20, 30, 40, 50, 100, 500, 1000],\n",
    "        'max_leaf_nodes': [\"None\", 1, 2, 3, 4, 5, 6, 7, 8, 9, 10],\n",
    "        'max_depth': [\"None\", 1, 2, 3, 4, 5, 6, 7, 8, 9, 10],\n",
    "        'criterion': [\"gini\", \"entropy\"],\n",
    "        'min_samples_split': [2, 3, 4, 5, 6, 7, 8, 9, 10],\n",
    "        'min_weight_fraction_leaf': [0.0, 0.1, 0.2, 0.3, 0.4, 0.5, 0.6, 0.7, 0.8, 0.9],\n",
    "        'min_samples_leaf': [1, 2, 3, 4, 5, 6, 7, 8, 9, 10],\n",
    "        'min_impurity_decrease': [0.0, 0.1, 0.2, 0.3, 0.4, 0.5, 0.6, 0.7, 0.8, 0.9]       \n",
    "    }\n",
    "}\n",
    "# \n",
    "#'class_weight': [\"balanced\", \"balanced_subsample\"]\n",
    "\n",
    "\n",
    "pipeline_optimizer_classifier = TPOTClassifier(generations=5, population_size=10, verbosity=2,\n",
    "                      config_dict=tpot_config_classifier)\n",
    "\n",
    "nXX, nYY = training_dataset_shaper(10000,False)\n",
    "pipeline_optimizer_classifier.fit(nXX, nYY)\n",
    "\n",
    "pipeline_score_test_classifier(100, False)\n",
    "\n",
    "pipeline_optimizer_classifier.export('tpot_exported_pipeline_classification.py')"
   ]
  },
  {
   "cell_type": "markdown",
   "metadata": {},
   "source": [
    "# TPOT RandomForest Classifier Optimized \n",
    "* Based on the Auto-ML tunning run above"
   ]
  },
  {
   "cell_type": "code",
   "execution_count": 392,
   "metadata": {},
   "outputs": [
    {
     "name": "stdout",
     "output_type": "stream",
     "text": [
      "[ 0.  0.  0.  0.  0.  0.  0.  0.  0.  0.  0.  0.  0.  0.  0.  0.  0.  0.\n",
      "  0.  0.]\n"
     ]
    }
   ],
   "source": [
    "# %load tpot_exported_pipeline_classification.py\n",
    "import numpy as np\n",
    "import pandas as pd\n",
    "from sklearn.ensemble import RandomForestClassifier\n",
    "from sklearn.model_selection import train_test_split\n",
    "from sklearn.pipeline import make_pipeline, make_union\n",
    "from tpot.builtins import StackingEstimator\n",
    "from sklearn.preprocessing import FunctionTransformer\n",
    "from copy import copy\n",
    "\"\"\"\n",
    "# NOTE: Make sure that the class is labeled 'target' in the data file\n",
    "tpot_data = pd.read_csv('.', sep='COLUMN_SEPARATOR', dtype=np.float64)\n",
    "features = tpot_data.drop('target', axis=1).values\n",
    "training_features, testing_features, training_target, testing_target = \\\n",
    "            train_test_split(features, tpot_data['target'].values, random_state=42)\n",
    "\"\"\"\n",
    "# Load the trainning and testing features\n",
    "training_features = nXX\n",
    "training_target = nYY\n",
    "testing_features, _ = testing_dataset_shaper(20, 1)\n",
    "\n",
    "# Score on the training set was:0.507\n",
    "exported_pipeline = make_pipeline(\n",
    "    make_union(\n",
    "        FunctionTransformer(copy),\n",
    "        FunctionTransformer(copy)\n",
    "    ),\n",
    "    RandomForestClassifier(criterion=\"gini\", max_depth=1, max_leaf_nodes=9, min_impurity_decrease=0.2, min_samples_leaf=6, min_samples_split=4, min_weight_fraction_leaf=0.4, n_estimators=20)\n",
    ")\n",
    "\n",
    "exported_pipeline.fit(training_features, training_target)\n",
    "\n",
    "results = exported_pipeline.predict(testing_features)\n",
    "\n",
    "print(results)"
   ]
  },
  {
   "cell_type": "markdown",
   "metadata": {},
   "source": [
    "# TPOT RandomForest REGRESSOR"
   ]
  },
  {
   "cell_type": "code",
   "execution_count": 480,
   "metadata": {},
   "outputs": [
    {
     "name": "stderr",
     "output_type": "stream",
     "text": [
      "Optimization Progress:  33%|███▎      | 40/120 [11:03<25:28, 19.11s/pipeline] "
     ]
    },
    {
     "name": "stdout",
     "output_type": "stream",
     "text": [
      "Generation 1 - Current best internal CV score: -0.26396487971590765\n"
     ]
    },
    {
     "name": "stderr",
     "output_type": "stream",
     "text": [
      "Optimization Progress:  50%|█████     | 60/120 [15:24<11:16, 11.27s/pipeline]"
     ]
    },
    {
     "name": "stdout",
     "output_type": "stream",
     "text": [
      "Generation 2 - Current best internal CV score: -0.2632421076427694\n"
     ]
    },
    {
     "name": "stderr",
     "output_type": "stream",
     "text": [
      "Optimization Progress:  67%|██████▋   | 80/120 [18:47<06:38,  9.96s/pipeline]"
     ]
    },
    {
     "name": "stdout",
     "output_type": "stream",
     "text": [
      "Generation 3 - Current best internal CV score: -0.2632421076427694\n"
     ]
    },
    {
     "name": "stderr",
     "output_type": "stream",
     "text": [
      "Optimization Progress:  83%|████████▎ | 100/120 [21:56<02:13,  6.66s/pipeline]"
     ]
    },
    {
     "name": "stdout",
     "output_type": "stream",
     "text": [
      "Generation 4 - Current best internal CV score: -0.2626122477751597\n"
     ]
    },
    {
     "name": "stderr",
     "output_type": "stream",
     "text": [
      "                                                                              \r"
     ]
    },
    {
     "name": "stdout",
     "output_type": "stream",
     "text": [
      "Generation 5 - Current best internal CV score: -0.2626122477751597\n",
      "\n",
      "Best pipeline: RandomForestRegressor(input_matrix, max_features=log2, min_samples_leaf=20, min_samples_split=9, n_estimators=50, n_jobs=-1)\n"
     ]
    },
    {
     "data": {
      "image/png": "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\n",
      "text/plain": [
       "<matplotlib.figure.Figure at 0x1a2b13b828>"
=======
   "cell_type": "code",
   "execution_count": 7,
   "metadata": {},
   "outputs": [
    {
     "data": {
      "image/png": "iVBORw0KGgoAAAANSUhEUgAAAHgAAADuCAYAAADyW8OMAAAABHNCSVQICAgIfAhkiAAAAAlwSFlzAAALEgAACxIB0t1+/AAAADl0RVh0U29mdHdhcmUAbWF0cGxvdGxpYiB2ZXJzaW9uIDIuMS4yLCBodHRwOi8vbWF0cGxvdGxpYi5vcmcvNQv5yAAABCpJREFUeJzt3UFy0zAcRnGJ4QhhjQ/B/U+QHKJregexITNMoTSKLevT6/stmQzj9vkv20lq19ZaEdeX2RugsQwMZ2A4A8MZGM7AcAaGMzCcgeG+9rz4crm0bdsGbYp63G6319bat49e1xV427ZyvV6f3yodptb68sjrXKLhDAxnYDgDwxkYzsBwBoYzMJyB4QwMZ2A4A8MZGM7AcAaGMzCcgeEMDGdgOAPDGRjOwHAGhuv6XvSRaq1//Zu3kzieEwwXFfhfU619pi3R73kbOXHZfmZHnPVzxAV+y6neZ9oS3VqLnE6aqGOwjjc9sFM8VsQxuLX27nVx6jH4vR0z7SQxInAp/4+s501fov8ndXpXEhXYaT1eVGAdz8Bw8YE9Du8TH1j7GPhAiauNgQdKuCowMJyB4QwMZ2A4Ax8k8Qy6FAMPk3AGXYqB8QwMZ2A4A8MZGM7AcAaGMzCcgeEMDGdgOAPDGRjOwHAGhov568KZRnxY/+j/Ofpz4yUCp35b4gi11qGRXaIDjNyBDRzACdbTljgGn2HvFKXdm+NuicApv6wVuUQfIPks38BwBt4p/dZPBt7p7T03k+KWsshJ1grSwt45wXAGhjMwnIHhDAwXHzj17HQV8YG1T9x1sBN7LCcYzsBwBoYzMJyB4QwMZ2A4A8MZGM7AcAaGMzCcgeEMDGdguNrz+Wut9Wcp5WXc5qjD99bat49e1BVY63GJhjMwnIHhDAxnYDgDwxkYzsBwBoYzMJyB4QwMZ2A4A8MZGM7AcAaG67qFw+Vyadu2DdoU9bjdbq+PfGWnK/C2beV6vT6/VTpMrfWh78a5RMMZGM7AcAaGMzCcgeHibmWY6M8Hb6z2lyBOMJwT3OmZh2DNnHoDn2Dmcw1doic481F4S03w/Rczc8k7+imloznBcAbusNolUikGxlsmcMLxd0XLBNZzDAy3RODkR6inWyLw3Yzj75E714wdNT4wcXp9q/K3lT+mSxEdWPvFvhedOL17DhezfobICU6Mu9esc4m4CU6O+8j2pJ0UxgW+S4v7qLTtjlqi0/Z+gpjAyUvzyiICrxA3dbs+Mv0YnL4srxr2bmrgFSZ3ddOWaOOe4/QJnvkd4c/o1Ak27vlOC2zcOU4JbNx5hh+DPZmaa1jg9Ovbz2JIYJfkHEMCGzRHxHvRGsfAcAaGMzCcgeEMDNf1iPdaq9c/OW6ttR8fvcgJhjMwnIHhDAxnYDgDwxkYzsBwBoYzMJyB4QwMZ2A4A8MZGM7AcAaGMzCcgeEMDGdgOAPDGRjOwHAGhjMwnIHhDAxnYDgDwxkYzsBwBoYzMJyB4QwMZ2A4A8MZGM7AcAaGMzCcgeEMDGdgOAPDGRjOwHAGhut9MNZrKeVlxIao2/dHXtR1S3+txyUazsBwBoYzMJyB4QwMZ2A4A8MZGO4XjSriLwDIOOkAAAAASUVORK5CYII=\n",
      "text/plain": [
       "<matplotlib.figure.Figure at 0x1a1b82ed68>"
>>>>>>> af54a17f2b9fb6e4fe080d554e70a998ee0d4f9f
      ]
     },
     "metadata": {},
     "output_type": "display_data"
    },
    {
     "data": {
<<<<<<< HEAD
      "image/png": "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\n",
      "text/plain": [
       "<matplotlib.figure.Figure at 0x1a2b13b048>"
=======
      "image/png": "iVBORw0KGgoAAAANSUhEUgAAAHgAAADuCAYAAADyW8OMAAAABHNCSVQICAgIfAhkiAAAAAlwSFlzAAALEgAACxIB0t1+/AAAADl0RVh0U29mdHdhcmUAbWF0cGxvdGxpYiB2ZXJzaW9uIDIuMS4yLCBodHRwOi8vbWF0cGxvdGxpYi5vcmcvNQv5yAAABGJJREFUeJzt3E1O5DAUAGF7NEdo1pP7n6X7EKzhDp4FCmJ68ucQk7xyfRIrQhR14ZdukpBLKUlcv84+ALVlYDgDwxkYzsBwBoYzMJyB4QwM97tm49vtVoZhaHQoqvF4PN5LKS9r21UFHoYh3e/3/Uelw+ScX7ds54iGMzCcgeEMDGdgOAPDGRjOwHAGhjMwnIHhDAxnYDgDwxkYzsBwBoYzMJyB4QwMV3XT3ZXlnA/ZD+156fArOOd8WNxxfyShA9NitBA2cMu4R0+FM2HOwaM959C5mDnn8OfkkCt4LsjeGKWU8CHnhAzcylTk6KM6XODoL/hPCxV4Ke5RI5Y2qkMFnkOLciREYM0LH9jVuyx84J8Q+Y2dgeEMDGdgOAPDGRjOwHAGhjMwnIHhDAxnYDgDwxkYzsBwBoYzMJyB4QwMZ2C4MIEj3xd1phCBjbtfiMDaz8BPaNMixPPBpZTFZ3jHbfaiRf0qzApeC9gqUvRnh0Os4K2Ojhw57AgV+CiEsKMwI1r7GPgJafWmZGC88Odg2oo7misYzsBwBoYzMJyB4QwMZ2A4A8MZGM7AcAaGMzCcgeEMDGdgOAPDhbrg78X9eq5gOAPDGRjOwHAGhjMwnIHhDAxnYDgDwxkYzsBwBoYzMJyB4QwMl2suouec31JKr+0ORxX+lFJe1jaqCqx4HNFwBoYzMJyB4QwMZ2A4A8MZGM7AcAaGMzCcgeEMDGdgOAPDGRjOwHBV/6PjdruVYRgaHYpqPB6P9y237FQFHoYh3e/3/Uelw+ScN90b54iGMzCcgeEMDGdgOAPDGRjOwHAGhjMwnIHhDAwX6j++t5ZzXt0m2vPU3QfeEnVq+yihuwtcG3RpPxEid3UOPipuq/210E3gVjGuHrmLEV0b4Xn0rv38lcc1OnBN2KVA4/eW9nfVyNjALT7ybAl9Nchz8FmfZ68YHhf4J+JecRTPwQVeEynOEboIXEr5/Dpyn1OuNqa7CNxKhGlgYDgDwxkYzsBwqMBT72AjvBFqCRVY/0MH7n31pgQKfLU/MFwFJrCmYQM7nj9gA+uDgeEMDGdgOETgqY9Ifmz6gAh8lgi/ROEDR3iRzxQ+8JIz4l/t8zc6cEr9PrIywgdOKU6MFroInFK/kbGPrrSy9ItytfNvSsAV3PJFjjgFcIFTOvam9Jzz51dE3Y3o51BLK35r1CuO5hE2cCllU6Dvrswrx00JOqJHrV/8q8dNCR44pTYRjn6QrSXsiP5q67he20dEXQROaToQ4U3Umm4CT4kcbiv8Obh3BoYzMJyB4QwMZ2A4A8MZGM7AcAaGMzAcLnDk22tawAXWv8IH7uGK0HeED6xliMCu4nmYC/5GnoZYwZpnYDgDwxkYzsBwBoYzMJyB4QwMZ2A4A8MZGM7AcAaGMzCcgeEMDGdgOAPDGRjOwHAGhjMwnIHhcs0N4znnt5TSa7vDUYU/pZSXtY2qAiseRzScgeEMDGdgOAPDGRjOwHAGhjMw3F/kvfJYvlUfsAAAAABJRU5ErkJggg==\n",
      "text/plain": [
       "<matplotlib.figure.Figure at 0x1a1c2430b8>"
>>>>>>> af54a17f2b9fb6e4fe080d554e70a998ee0d4f9f
      ]
     },
     "metadata": {},
     "output_type": "display_data"
    },
    {
     "data": {
<<<<<<< HEAD
      "image/png": "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\n",
      "text/plain": [
       "<matplotlib.figure.Figure at 0x1a249f0ba8>"
=======
      "image/png": "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\n",
      "text/plain": [
       "<matplotlib.figure.Figure at 0x1a1c38d518>"
>>>>>>> af54a17f2b9fb6e4fe080d554e70a998ee0d4f9f
      ]
     },
     "metadata": {},
     "output_type": "display_data"
    },
    {
     "data": {
<<<<<<< HEAD
      "image/png": "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\n",
      "text/plain": [
       "<matplotlib.figure.Figure at 0x1a24e40748>"
=======
      "image/png": "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\n",
      "text/plain": [
       "<matplotlib.figure.Figure at 0x1a1c3e2048>"
>>>>>>> af54a17f2b9fb6e4fe080d554e70a998ee0d4f9f
      ]
     },
     "metadata": {},
     "output_type": "display_data"
    },
    {
     "data": {
<<<<<<< HEAD
      "image/png": "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\n",
      "text/plain": [
       "<matplotlib.figure.Figure at 0x1a24b40d30>"
      ]
     },
     "metadata": {},
     "output_type": "display_data"
    },
    {
     "data": {
      "image/png": "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\n",
      "text/plain": [
       "<matplotlib.figure.Figure at 0x1a2da0d748>"
      ]
     },
     "metadata": {},
     "output_type": "display_data"
    },
    {
     "data": {
      "image/png": "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\n",
      "text/plain": [
       "<matplotlib.figure.Figure at 0x1a2d913f28>"
      ]
     },
     "metadata": {},
     "output_type": "display_data"
    },
    {
     "data": {
      "image/png": "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\n",
      "text/plain": [
       "<matplotlib.figure.Figure at 0x1a36668da0>"
      ]
     },
     "metadata": {},
     "output_type": "display_data"
    },
    {
     "data": {
      "image/png": "iVBORw0KGgoAAAANSUhEUgAAAHgAAADuCAYAAADyW8OMAAAABHNCSVQICAgIfAhkiAAAAAlwSFlzAAALEgAACxIB0t1+/AAAADl0RVh0U29mdHdhcmUAbWF0cGxvdGxpYiB2ZXJzaW9uIDIuMS4yLCBodHRwOi8vbWF0cGxvdGxpYi5vcmcvNQv5yAAAB6dJREFUeJztnU2S5CgMRsXEHKF63XmIuf8JMg9R66k7uDfjCILBNj+SkT5/L6I3XU4n5iEBBjvTtm1CcPlrdQGILRQMDgWDQ8HgUDA4FAwOBYNDweBQMDh/9xz89fW1vV4vo6KQHj6fz8+2bb+ujusS/Hq95P1+j5eKqJFS+m45jikaHAoGh4LB6eqDyf9JKZ3+ffVyLCN4giu5+zEtx1nBCL6JUvJdkc0InmB1+m2BETzJmeSVqXmHEWzItm3Lo5wRbEwexStkM4INKVP0ipRNwUZ46H9FKNgEL3JFKPhW2AcDcBS9q0bTFKyIN7kiFKyGR7kiFGzKarkiFKyCp1FzCQUb4SF6RSh4mlr0epErQsHwUPAEnvveHQoexOu0qISCBzhaAvQmVyTIevBZKlxdqd7TtGvBrbsWRe4THSU177hM0SNbTe+IpGhyRRwK9pryvJbrCleCZytxhQTP0SviqA/ufQTkTplRo1fEgeDRZ3u2bVte8d6jV8RZii7xUIERB1Y5yyO4hvfK816+HHcR3FN5kSp6Fe4Ee8L7UmALy1N0tAqLBiMYHAo+ACE9i1AwPBQMDgVXQEnPIhQMDwWDQ8HgUDA4FAzO8luV2oysEUcdIbfACBb/LxSdgYL/Y/XuECsoGBwKBgdukNXaX6Km5BJGMDgUDA4FgxNa8FP60RlCCybXUDA4FNxA5K7gsYJr8+XIIo94rOCnQMHgUDA4FAwOBRegDbQoGJxHCz57/0dJ1Mh+tOAjosqs8XjBkTfUtfB4wSLYkikYnLCCtftJD7/1a0FYwTU0BKFJhhJsSVTxFFyhlBlVrgiQYG0J+/kiyxUJLPiOH8OILlck+JMNCAKsCRvBpA0KBoeCwaFgcCgYHAoGh4LBoWBwKBgcCgaHgsGhYHAoGBwKBoeCwaFgcCgYHAoGJ/Vse0kp/Ssi33bFIR383rbt19VBXYJJPJiiwaFgcCgYHAoGh4LBoWBwKBgcCgaHgsGhYHAoGBwKBoeCwaFgcCgYHAoGh4LB6XrLztfX1/Z6vYyKQnr4fD4/LVt2ugS/Xi95v9/jpSJqpJSa9sYxRTvB6i3zIQUjvXLfmtBvulvFWQPztks1lOC9YmcrcfQ8Z59LKbmTKzIgeDY9jlaChtz8HCPXMfq5lXQLvqOV5pWo/VpfT1FWNhaLLDCdostCzkZoeR6tiy7PM3rOPYo1ReTXqs204PJCjwp5VSH53zUvND9XLTPMnE8D64yiPsiyKvBM1GhHnac0f0WIebBG1OQDpJTS0Dm9jpTPGIrgq8pp6VNaK2o2+o7KoinK88h6SPBV5cxOaSyiZG8oMzIeMU1qweoXUDyc5+gcXsWH6IOfhHZDCXWr0jNef1aPEQwOBYNDwQu5Y05NweAMCa7NJ2ujv/04r1OIJzB1o6O8eV8TufrmgNYmgagMLfifrdEe/d+q+7jay47RuG0e3CNZY1lv5vtXcJT9ZnE7yMojb3Uf3jKW0Frx2v9p0S145st7P5tfsIXklsazR/3VCpnGYoYFYW5VaqbY0YHXkcR8TNIj+GomotFVuU3RNUYuMheSN5LZTNQS1VflKger5Xmh++ArWis1T/EjGeAqKme3EVkTJkXPorFZfsU69+x3hhV853SnTMW1DfSaG/M1cSnY61z1SHT+t9lza+NSsHe8NsAargdZHueV0VCNYKtBiMWty6fgOoJ3ZuecTyZUH8zo7SdEBJNxKBgcCgaHgsEJNcgawfKpwlHu3FkyHcGepy350qAHsTt3bkR0GcFWLdzqmeCR87ZI1iivyjs6LIQcnbPlu47ey3FGa/nLVaPZ542PvkOrPlUi+K4di72y9jKVZZsta/5Z7WvXrkfVFH3HJvOVfalVpso5ylpnfz9DTXD5xRqV4WkAd7Vtp/d6e/ZBz9SjyTx4pA/MqW1C89BYLFbLWq5tpuxmNzrKPk+bnrXi2U30d+3HyjfYtzzc18JUim65cKtng3rP62keXNLzSM+tfXA+lytHlrVjZxhtIHeN7i2+Q2PQqvauSo+3BHcsBnx3TQndbJvV6nOPLuwoW7SU66jvbT2P9tSlPI9lY3H3IrSzz9Zkrep/PWWoM1zeiz4jSsW2YjH3zYFeD0ZrDCNACyYUDA8Fg3OLYE+LBk/DdBT99HdUecAsgjVelfAULDOcu3nw2VadklWNR7ssljtizFO05gKBxaaCUSyWD2f2oR2h/stnOzNia0/Q93zHbMpb0Whq67/5xodRyaqrSRbbUkcuzlOk12gJCq3Ngiop+myLTu921LPoQxqV1xrh1fEjmUl9V+Vo5R8tN2q+xeYM741nWYq2TH9X6alnE3xL6/cqdwb1UfTsQrjVnNBS3kgjzz9z1ghnM4t6Hzw7KOjps6NuthvduDCC2cb3/f+0+rZykLFSXG070ew5amh0f+o/EF37u1ba9RiNlmhc7y2rSU8T4wmuB4NDweBQMDipp39MKbEz9cNn27Z/rg5iBINDweBQMDgUDA4Fg0PB4FAwOBQMDgWDQ8HgUDA4FAwOBYNDweBQMDgUDA4Fg0PB4FAwOL0b339E5NuiIKSb3y0HdW26I/FgigaHgsGhYHAoGBwKBoeCwaFgcCgYHAoG5w91f04FB1Nj9AAAAABJRU5ErkJggg==\n",
      "text/plain": [
       "<matplotlib.figure.Figure at 0x1a2c035dd8>"
      ]
     },
     "metadata": {},
     "output_type": "display_data"
    },
    {
     "data": {
      "image/png": "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\n",
      "text/plain": [
       "<matplotlib.figure.Figure at 0x1a25dbb898>"
      ]
     },
     "metadata": {},
     "output_type": "display_data"
    },
    {
     "data": {
      "image/png": "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\n",
      "text/plain": [
       "<matplotlib.figure.Figure at 0x1a25df4940>"
      ]
     },
     "metadata": {},
     "output_type": "display_data"
    },
    {
     "data": {
      "image/png": "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\n",
      "text/plain": [
       "<matplotlib.figure.Figure at 0x1a25aa9400>"
      ]
     },
     "metadata": {},
     "output_type": "display_data"
    },
    {
     "data": {
      "image/png": "iVBORw0KGgoAAAANSUhEUgAAAHgAAADuCAYAAADyW8OMAAAABHNCSVQICAgIfAhkiAAAAAlwSFlzAAALEgAACxIB0t1+/AAAADl0RVh0U29mdHdhcmUAbWF0cGxvdGxpYiB2ZXJzaW9uIDIuMS4yLCBodHRwOi8vbWF0cGxvdGxpYi5vcmcvNQv5yAAABwpJREFUeJztnUGS3CgQRZOJOUJ5bR1i7n+CqkP0evoOzGbkwDJSCfipSr7+i+iw266WEI9MECB1yjmb4OWvTxdA+CLB5EgwORJMjgSTI8HkSDA5EkyOBJPzd8uHH49HXpbFqSiihdfr9Z1z/vHuc02Cl2Wx5/PZXyoBI6X0deZzStHkSDA5EkyOBJMjweRIMDkSTI4EkyPB5EgwORJMjgSTI8HkSDA5EkxO03pwNFJKw8dgf3RnSsEIsdtjsYqeRjBS6t7xGSVP0Qd7y736PFcSXjBjpV/JNCn6iN7UWms8bKk6fAQfkXMeksEkco8pI/gOYlCEF+wtM+f8R6pmStNTp2jxHgm2epZgGb1LMDkS/D8sfe4WCSZHgsmRYHIkmBwJJif8TJYHLPe4Z6ARfCdpLShFkyPB5EgwORJMDs0ga2QumXmApggmR4LJoUnRK6h0y7J8qAgmR4LJkWByJLgCS/9rRjjI6pGj+2AxLRJMzjQpukyjTH2kN1NEcO3ZIXGOKQSLfiSYHAkmR4LJkWBybi+YfUR+e8Hs3Fowe/SaTTSTheRILNss2bSC7xB9CG6dorewRa+ZBP+CUa7ZxCkaBavYlSkE195GN3q8uzCFYLN7SUGiPpgcCSZHgsmRYHIkmBwJJkeCyZFgciSYHAkmR4LJkWByJJgcCSZHgsmRYHIkmBwJJkeCyZFgciSYHAkmR4LJkWByJJgcCSZHgsmRYHIkmBwJJie1PJaZUvrXzL78iiMa+Jlz/vHuQ02CxXwoRZMjweRIMDkSTI4EkyPB5EgwORJMjgSTI8HkSDA5EkyOBJMjweRIMDkSTI4Ek9P0xvfH45GXZXEqimjh9Xp9n9my0yR4WRZ7Pp/9pRIwUkqn9sbBUrR+UVU/KaVfX2igv5SjLCDbZr6ja0spDV1v+bPreVD1Nyx478LRBf00tWsr/w/VuNG/QmhI8JFEVEFRFTcaZSXrccpjRm3IwxHseWFlBY40lvU4SMkIjq4J1bBD/mKs3vReS53b7yNJLrMcul9f6RbsWVGIAYvXqH573NGxBrrP3RIugmcYnNWibRQvyeEEry16JEN4Rm/ErHVEyLno3jRbi6z1GF4TCbXztuA9QRQugle2klsq8er03hvZV3RHbhGMSmc559D98Qjrte1FMSK6uyP46JYj0q0Ikr1rGr1Wz5H0UIreKxijXG+86iz0TJYYJ+QoWuCQYHIkmBwJJiekYG3/wTEk2HP6T2AIE8FqLD4Mrwe/k3J2vnU79xxtNqyl8UUq93CKLv9E8Im55zPlL/delV97/zZyfmR9dgveXlytUNGicMunu4XauvdePfYyFMFlwbaSERvdyg3hrTJQXYc3eztSUUDXg9Gb2ka3xhxtaKv9ezQQ5XQZRUdIzWV/iErD3hvkPFbm4Ds6vCuhldrOkN4yegwqj/rcj26b3SNC9NbYbuYb2eZaMiL7inqCpuiocldGozfyte0BfXx0rwIipWyz36O5/J4RiOCjvVlmMUer23vPM2XsvWUbYfQ8kD74qHJQfZ0HLZH7iUaKaESuiw3bVIg4HpqI2aUk3G3SlugVaIZ52A0NKijCPtlwd1ANJ8x6sPBBgskZWvAvmaGvvSPDj66sIGd6jgYYakhtdAmuyUQsFb6bGBl9MPyOwNeDezkz6zUypYiaVZttb1aY2yTP+eDa65hGZ9hqmQT52glU4wgj2JPt1qJIhH6NUgte23haKcvduwMSOZj0bnBDT/iXzPC0P6oLiDy3viVciq71l2aYykCkQU8pHsEAm8mqDZJG0rjnZvA74bJttvy+9xjIvU/oEa8n6HLBXwgesdJm2ZKDXj83Awn22JqDbiwRG16NWgYbqQvYG9+PCtBaQK9BljeImbz1OIhHf8wuGEVH3zcciaNnvXrpElybGdorzN0k9eL1EBosgiUyJtrRQY4EkyPB5EhwBzNMmqyEW2yISsvceKTlRAk+AXJm6cy5VkLdJqG4sjLPgj7/0ZwB+lzhBCOn6cze95efaDxXrmzBFhsQBRx9vcI7kEuQaDxewGLmGMGRnnzYW4ZDLQ6MHmvvGGEHWXvbblo52qLae6ze421/Bi3DK23D74PfVcQR5QpKbfnskxyVAV22cAv+Zu/vC8+2yOgPVHs3tPL4iI0U0NWkT0fZHqh0N+PDdS5vuouGd5laG/eVdRTuPrgEMatzVWVGbNhmgd82G7XCZsPtbbPl3yNMN94ViOC9PVqR33R3F1z6YAmNgxb8yUkt0ZZSUmjG4ZVz/ufdhxTB5EgwORJMjgSTI8HkSDA5EkyOBJMjweRIMDkSTI4EkyPB5EgwORJMjgSTI8HkSDA5EkxO667KbzP78iiIaObnmQ81bboT86EUTY4EkyPB5EgwORJMjgSTI8HkSDA5EkzOf+XwxFuMVALtAAAAAElFTkSuQmCC\n",
      "text/plain": [
       "<matplotlib.figure.Figure at 0x1a25a9dd68>"
      ]
     },
     "metadata": {},
     "output_type": "display_data"
    },
    {
     "data": {
      "image/png": "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\n",
      "text/plain": [
       "<matplotlib.figure.Figure at 0x1a24e920f0>"
      ]
     },
     "metadata": {},
     "output_type": "display_data"
    },
    {
     "data": {
      "image/png": "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\n",
      "text/plain": [
       "<matplotlib.figure.Figure at 0x1a26977198>"
      ]
     },
     "metadata": {},
     "output_type": "display_data"
    },
    {
     "data": {
      "image/png": "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\n",
      "text/plain": [
       "<matplotlib.figure.Figure at 0x1a2b091eb8>"
      ]
     },
     "metadata": {},
     "output_type": "display_data"
    },
    {
     "data": {
      "image/png": "iVBORw0KGgoAAAANSUhEUgAAAHgAAADuCAYAAADyW8OMAAAABHNCSVQICAgIfAhkiAAAAAlwSFlzAAALEgAACxIB0t1+/AAAADl0RVh0U29mdHdhcmUAbWF0cGxvdGxpYiB2ZXJzaW9uIDIuMS4yLCBodHRwOi8vbWF0cGxvdGxpYi5vcmcvNQv5yAAAB+FJREFUeJztnVGynSoQRTGVIZx8x0Fk/iM4ZxD3O3cO5ssqigAC3Y3Ndq+qVL3kqSBLWoQ+uh3HEQguP+6uALGFgsGhYHAoGBwKBoeCwaFgcCgYHAoG52fPxq/X69j33agqpIfP5/N9HMevq+26BO/7Ht7v93itiBrbtn21bMcQDQ4Fg0PB4FAwOBQMDgWDQ8HgUDA4FAwOBYNDweBQMDgUDA4Fg0PB4FAwOBQMDgWDQ8HgUDA4FAwOBYNDweBQMDgUDA4Fg0PB4FAwOBQMDgVPZNu2sG3b1DIpeBKx2JmSu34f/HRSMa2vgcwJ3bateX8J7gS3XN13vF/TQtIMybcKHg1VccO0HuPOl64ex1Gsp7XkqYI17z29xzq3H23MmiTp/paSpw2yZo8eS9xZjzuiiLngOx4NZtJ7biXJVm1kKnik0sdx/PfHC1p1mSnZ7B48e/Azu2esgongWqP2Cm0VNOu5UovSU4B0MJgybZA1Em5Lctlb21luqvKUu1JvrWF9Hm4FP6k3Wkp2KzhH2hAovdgSl4Ilvbdl3ydFB5eCexjtxU+RvIzgHpFPkdeCO8Gjs18j/+8JuBOcY0RSfKE8WfISglt4ssQaMILvxPM9/3HrwTGjSQMrYSJYO1xKUnueDlSIHhlN96xWWWF57KmCvfaoq3qtKjcEhz3Ycimw1sNrCXEtjNRvxgVvltFxtaAdb5Pb1ypZ/Cq7UXKMlsX6qzK0xy+350WPJAGk+4wkvkl7j8aFkjumNuYh+qrSo6Et/mNRr5b9NIUsnRc9UnmNE746Rm8Zue1n1FOC65wsyYm37quxnSQaQP82qYXe++Vd0cJree4Fh9Am+e7FhrvLLzFdsMbghrTjbqKD6ELB4FAwOBQMDgWDQ8HgUDA4FAwOBYNDweBQMDgUDA4Fg0PB4FAwOBQMDgWDQ8HgUDA4FAwOBYNDweBQMDgUDA4Fg0PB4FAwOBQMDgWDQ8HgUDA4FAwOBYOzdb4q/28I4cuuOqSD38dx/LraqEswWQ+GaHAoGBwKBoeCwaFgcCgYHAoGh4LBoWBwKBgcCgaHgsGhYHAoGBwKBoeCwaFgcLo+yvF6vY59342qQnr4fD7fLSk7XYL3fQ/v93u8VkSNbduacuMYop1g9alZdx/G6vnEKwqW3xF2Jfj8dGzps7Ma3w+2oOWbyDWW+Til9LOv54lqfN83R+1j1b37xpwfmfR48anfg72eaMqMz6t7wFWITpGGPk3SqKJdH6vbj5rg8+TjRmj5pn2NeL+r+3NL/c794mON1klTdtx22pJVe3BpYGR17F6kdYkvsFi018FfCJNC9EgDaA+0cj1P67haF44FqoJrIkcl544jQSI6F+a9oya41HCS+2aKZqP2HidXtnSMMQPTHqzdAHc2ZFq2Z6kx6vfgpzxfamH9KGg+iiZ1rNuMq0ngUDA4FAwOBYNDweAMCR5d7yXz6RYcT15cSZZeCB4vJG/1uWKoB6eZF7mTljZEvGqzWqN6YmiiIzf7kpMwKied8pSuA5fq6XViRnPOvVtwqeC0AbUbb2Rx4KpekmVMrfOzXpUyGUV76RlpFMiBHv7Vsyo15OZCu8WAS5r6swJqgmf1hJZy4pwrzXqtJjcE5R6sefK5XtybkjtLhucwryLY6gRjyb1iS8/rpf++YtavLbSPp56yk/t3aaWlSXul53Yv4TY33rjtMSnF4goOQafxS/dhL2JDqI/uNeppnjabJsRfVVpr5qq1vJ4LKpdz5uliySES3HKCI8IsIoK0rFw0sJR7e4j2PHIMwabxr8YTHnu0qAf3XP0zypmB9lSlNcOPSauc4NNx/fPREPxeSN5vUSfuBXvE60WXgzlZ4LgWvEoY9IxrwdY84QJ6rOCVHnUkuBQczxg9oZdZ4m4UXfqNsQdaFi1GFkss57jFc9E1cr+IXz0stv7AXXKumrNlwyE6Prk0ue0p+cyl8/R0EYvuwS1ZiyOc92CN+7D2Rdaa/917gVt1BneDrDgCnH/3Qq0uXnuy+XqwxrGlZXi6VdR+aRFvc+sgK01o05as/cqi2mi3tT6544zmiuX+bpUrNiQ4zm7QXvwu7WcRKVrrWOptOVmj0cIqEg6H6BYJHkJjLcpIMjVXwWyiQ/IMqE0qRlJGSw6aJ9zNZFkxI2ndI48RnIIu9sTdczDRhYLBoWBwKBgcCgbH9Si6NqnwlFGwlOmCa/O6KU99dtVkuuDSdN9d0kZmuOJ3gIzOt/eUJ0H9mw0no5XX6KGtqURxWa0vdymV0VPvtMyraCZpD/Wfj5ZWmloa4Gp1qpVaOdJlufScNHKvrsqRIE7ZSXOyLNeHNY6rWbcVxgJmr1HSWlqzfINP7e8trDDgmzrIGgmNuftlT3naa9SrrQerv8qw9O+5cG5NGkXSVKOR46UJgd6FizI6rhLjeh8lLHK8Ygm1W4gkt2pEci2a3Z6TddKTz9RzTO1eUapDmvA2OqqW7GuNy6nK2QOXOwZKtQiiORHiUnANj6NWjfyzVLZWFFtOMCpWFy6XC8GhYKe4mKok/tl6rpRt2/yNcJ7L5ziOP1cbsQeDQ8HgUDA4FAwOBYNDweBQMDgUDA4Fg0PB4FAwOBQMDgWDQ8HgUDA4FAwOBYNDweBQMDi9edHfIYQvi4qQbn63bNSVdEfWgyEaHAoGh4LBoWBwKBgcCgaHgsGhYHAoGJx/dM7SEWyyvBYAAAAASUVORK5CYII=\n",
      "text/plain": [
       "<matplotlib.figure.Figure at 0x1a26827d30>"
      ]
     },
     "metadata": {},
     "output_type": "display_data"
    },
    {
     "data": {
      "image/png": "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\n",
      "text/plain": [
       "<matplotlib.figure.Figure at 0x1a2d3f6c50>"
      ]
     },
     "metadata": {},
     "output_type": "display_data"
    },
    {
     "data": {
      "image/png": "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\n",
      "text/plain": [
       "<matplotlib.figure.Figure at 0x1a249f0ba8>"
      ]
     },
     "metadata": {},
     "output_type": "display_data"
    },
    {
     "data": {
      "image/png": "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\n",
      "text/plain": [
       "<matplotlib.figure.Figure at 0x1a2c032780>"
      ]
     },
     "metadata": {},
     "output_type": "display_data"
    },
    {
     "data": {
      "image/png": "iVBORw0KGgoAAAANSUhEUgAAAHgAAADuCAYAAADyW8OMAAAABHNCSVQICAgIfAhkiAAAAAlwSFlzAAALEgAACxIB0t1+/AAAADl0RVh0U29mdHdhcmUAbWF0cGxvdGxpYiB2ZXJzaW9uIDIuMS4yLCBodHRwOi8vbWF0cGxvdGxpYi5vcmcvNQv5yAAAB4xJREFUeJztnUGSpDgMRcXEHCF73Rxi7n+CzEPUeuoO9IoImjIktr9I+eu/ZTdJGR6SjS1gWpbFBC//fLoBwhcJJkeCyZFgciSYHAkmR4LJkWByJJicf2s2fjweyzzPTk0RNbxer+9lWX69265K8DzP9nw+21slYEzT9HVlO6VociSYHAkmR4LJkWByqkbRozNN049/Yy94UASTI8HkSDA56QWX+mUm0gtmR4LJSSP4KBXrNkkMTQrBWaPXLIFg9lHyO+gFZyet4Azp2YxccOa+d4VyNSl7v7uFLoL3cvfRmil6zQgF79kKzybXjEzwWWrOKNeMpA+W2GOGj2DJPWdowZL7nmFTtO5xrzFkBOs+9zpDCj5C0fuToVK0+tx6ho1gCb3GsIKzz1BdZRjB6FHzNE0pBmvDCEayFcsueQjBuudtZwjB3jBH8bCC0dHLKnlYweIa6QSzRuoR4WeykEIyDtaGjGBmIWiGFIyE/WJJIzhb37sypOBaWVnlmg0quIbsS4zhBR9JuLJYkDlyV8ILFn0MIfgslbZE6bIsKdKz2SCCW1JxxkmNEuFnsq6i/rZM+AhGissWvWYDCBZ9DCm4ZZCUMXrNggt+l56vis4q14xkkLUV+O4J/2yEFdx6m5Nd6J6QKVr3sDhCCi4huW0MI1i0IcHkpBCc5TmkEvSCMz2HVGIYwSg52SQPI1i0EVKw9y1RpigOKVjgGEpwa3lOZoYSbJYrvSIIKzh75KEIK9jsvCb6KtkjPrTgM7KLu8qwgs3aymnNcqX/sAv+K6uMI1m1kZxJrtlAEZzpaQQk4SMYRdaLYzjB71L20fZZGU7wSkncNE3phe4Zpg++guT+hEqw+IkEkyPB5EgwORJMjgSTI8HkSDA5EkyOBJMjweRIMDkSTI4EkyPB5EgwORJMjgSTI8HkTDV1TNM0/W9mX37NERX8Xpbl17uNqgSL8VCKJkeCyZFgciSYHAkmR4LJkWByJJgcCSZHgsmRYHIkmBwJJkeCyZFgciSYHAkmp+o9WY/HY5nn2akpoobX6/V9pWSnSvA8z/Z8PttbJWBM03SpNk4pupLR3lMtweSEfFcl6p2TemGpg+BILwTdtwPRtmVZuvdz50vMQ0Yw4iTuiXrhHbUL1V54H7zKEeesn7z1vuhSDLL2J7L1e8Lrb1BS7sgo3YI9Pr7smQHQkrb7bPmd98eru/vgNSWjR74oAWu7eveL7iv3GQWxzxKQFL1+ESVq3xtpgLXnStt6ziu0D+6VfPVgvW4z7rxA7xpkwW+T7ujbav5G6V4YRc++zo5he5vYexGEvA82O+/zWuk5UaXs5Bl9qC4v1G3SlcHQJ/vS9W8ffYUNneIRX3sLJdgs/ifsIg8mS4QTLLBIcCOle9eIhB1kRWY7ubP/92hIcCMRZZZQiiYntOCo/ZoHXscaWrBZ30rNKHhOWYYVvD1ohKyowr3no7sHWd4N7JlYOPpdS5tr2lCzuHG0LWqEHnIUjbpoztZce/a1x+MiL1WgtPwNeIpGVCnsDyT69KB3+z6+mrRfIPA64JqruHSRoNsyArAI9pZ7ZyH8lf2siyJ3LI70dAGQCEZGy1aCV70won13RXDv3wk5yDrKArXZobSt1wXiWVn68T4YDfJklUp27n70pHXfiO4OUjbrASJKSvvwSu/b1F35HYy/tkefz5ARvGWEJTmztmi74/YvnOD9WmtUoSVaC+A9ZwPDCTYbSyoKL8khBWfjqEIEgQQHId1yocAgweSkEDzKwoAHoQVnEeP5IHjIQdb2QCM/29tLab4Zff8fLoK3Bxj9wXIzTKVIqqnKkaJ1v3QYac16JVwEj0ZPptn+xuuJf2gEI57IL+3P460BUTJFaS4aOT/t/gqHnpJXL7HIMtyzpwxb68fWf0Ocg3B9sNn5RdFz0MhS3FI70MX6CNz74NYC87MF/5aTd0dhXERCDrLO5KIL4mt/dybSo0vpxaXw3Wsfrf0Sskjuanlwb80XqhwX2gejoqs0cIky6i3R2j70XUeJkIMss79P2lY66uCRF+MnB33vCCn4qMIhYhRHbNOWkILN4p+4UQg5ihY4JJicdIKjTkh4kUpwNrlmSQTviwgykUIw4l0dXjVT3qQQjHpoe3t/fodwxP5dF/x7F/pL9OwTUd+FyAZ3AhNcmkpET+Mh39yDALUo7znXDv/qihfRFxyiAovgsyffkSstn+LsGHq7plIm2HYpdO/oMMOl+js4qkPrHS8ggKbo0gjTa404Mh6Dy1bgfTA60rYXS+utyaei/2pbPR/VcUnRPZWFI6wBX6E26xyds95+GPJ5WTSeUj3S/T4CeyZBSu372CBrmzojldLcSSnyIh1DcwTvJ/DPKvwzsH1GqeW3+wsEdf66Irj0PM3R/0ciYrv2bfr4oytHz9MIHIjzmWI1KTMSTM5UkwamaVIOjsNrWZb/3m2kCCZHgsmRYHIkmBwJJkeCyZFgciSYHAkmR4LJkWByJJgcCSZHgsmRYHIkmBwJJkeCyZFgcmrLZr/N7MujIaKa31c2qiq6E+OhFE2OBJMjweRIMDkSTI4EkyPB5EgwORJMzh89RfSUmHpa7wAAAABJRU5ErkJggg==\n",
      "text/plain": [
       "<matplotlib.figure.Figure at 0x1a2d5d6f60>"
      ]
     },
     "metadata": {},
     "output_type": "display_data"
    },
    {
     "data": {
      "image/png": "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\n",
      "text/plain": [
       "<matplotlib.figure.Figure at 0x1a25d26a58>"
      ]
     },
     "metadata": {},
     "output_type": "display_data"
    },
    {
     "data": {
      "image/png": "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\n",
      "text/plain": [
       "<matplotlib.figure.Figure at 0x1a25de38d0>"
      ]
     },
     "metadata": {},
     "output_type": "display_data"
    },
    {
     "data": {
      "image/png": "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\n",
      "text/plain": [
       "<matplotlib.figure.Figure at 0x1a24d9e390>"
      ]
     },
     "metadata": {},
     "output_type": "display_data"
    },
    {
     "data": {
      "image/png": "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\n",
      "text/plain": [
       "<matplotlib.figure.Figure at 0x1a2608b9b0>"
      ]
     },
     "metadata": {},
     "output_type": "display_data"
    },
    {
     "data": {
      "image/png": "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\n",
      "text/plain": [
       "<matplotlib.figure.Figure at 0x1a25c3f7f0>"
      ]
     },
     "metadata": {},
     "output_type": "display_data"
    },
    {
     "data": {
      "image/png": "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\n",
      "text/plain": [
       "<matplotlib.figure.Figure at 0x1a36901c18>"
      ]
     },
     "metadata": {},
     "output_type": "display_data"
    },
    {
     "data": {
      "image/png": "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\n",
      "text/plain": [
       "<matplotlib.figure.Figure at 0x1a29e53518>"
      ]
     },
     "metadata": {},
     "output_type": "display_data"
    },
    {
     "data": {
      "image/png": "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\n",
      "text/plain": [
       "<matplotlib.figure.Figure at 0x1a2738ce48>"
      ]
     },
     "metadata": {},
     "output_type": "display_data"
    },
    {
     "data": {
      "image/png": "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\n",
      "text/plain": [
       "<matplotlib.figure.Figure at 0x1a2b091be0>"
      ]
     },
     "metadata": {},
     "output_type": "display_data"
    },
    {
     "data": {
      "image/png": "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\n",
      "text/plain": [
       "<matplotlib.figure.Figure at 0x1a2da08f98>"
      ]
     },
     "metadata": {},
     "output_type": "display_data"
    },
    {
     "data": {
      "image/png": "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\n",
      "text/plain": [
       "<matplotlib.figure.Figure at 0x1a27312518>"
      ]
     },
     "metadata": {},
     "output_type": "display_data"
    },
    {
     "data": {
      "image/png": "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\n",
      "text/plain": [
       "<matplotlib.figure.Figure at 0x1a24f4cf60>"
      ]
     },
     "metadata": {},
     "output_type": "display_data"
    },
    {
     "data": {
      "image/png": "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\n",
      "text/plain": [
       "<matplotlib.figure.Figure at 0x1a2d5a9eb8>"
      ]
     },
     "metadata": {},
     "output_type": "display_data"
    },
    {
     "data": {
      "image/png": "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\n",
      "text/plain": [
       "<matplotlib.figure.Figure at 0x1a26199048>"
      ]
     },
     "metadata": {},
     "output_type": "display_data"
    },
    {
     "data": {
      "image/png": "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\n",
      "text/plain": [
       "<matplotlib.figure.Figure at 0x1a25b7c908>"
      ]
     },
     "metadata": {},
     "output_type": "display_data"
    },
    {
     "data": {
      "image/png": "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\n",
      "text/plain": [
       "<matplotlib.figure.Figure at 0x1a25d15da0>"
      ]
     },
     "metadata": {},
     "output_type": "display_data"
    },
    {
     "data": {
      "image/png": "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\n",
      "text/plain": [
       "<matplotlib.figure.Figure at 0x1a25de3cc0>"
      ]
     },
     "metadata": {},
     "output_type": "display_data"
    },
    {
     "data": {
      "image/png": "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\n",
      "text/plain": [
       "<matplotlib.figure.Figure at 0x1a25df20b8>"
      ]
     },
     "metadata": {},
     "output_type": "display_data"
    },
    {
     "data": {
      "image/png": "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\n",
      "text/plain": [
       "<matplotlib.figure.Figure at 0x1a2d3cb438>"
      ]
     },
     "metadata": {},
     "output_type": "display_data"
    },
    {
     "data": {
      "image/png": "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\n",
      "text/plain": [
       "<matplotlib.figure.Figure at 0x1a3692d4e0>"
      ]
     },
     "metadata": {},
     "output_type": "display_data"
    },
    {
     "data": {
      "image/png": "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\n",
      "text/plain": [
       "<matplotlib.figure.Figure at 0x1a2d3c3860>"
      ]
     },
     "metadata": {},
     "output_type": "display_data"
    },
    {
     "data": {
      "image/png": "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\n",
      "text/plain": [
       "<matplotlib.figure.Figure at 0x1a266f86d8>"
      ]
     },
     "metadata": {},
     "output_type": "display_data"
    },
    {
     "data": {
      "image/png": "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\n",
      "text/plain": [
       "<matplotlib.figure.Figure at 0x1a2d3cf278>"
      ]
     },
     "metadata": {},
     "output_type": "display_data"
    },
    {
     "data": {
      "image/png": "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\n",
      "text/plain": [
       "<matplotlib.figure.Figure at 0x1a2d400e80>"
      ]
     },
     "metadata": {},
     "output_type": "display_data"
    },
    {
     "data": {
      "image/png": "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\n",
      "text/plain": [
       "<matplotlib.figure.Figure at 0x1a2c041cc0>"
      ]
     },
     "metadata": {},
     "output_type": "display_data"
    },
    {
     "data": {
      "image/png": "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\n",
      "text/plain": [
       "<matplotlib.figure.Figure at 0x1a2d5bef60>"
      ]
     },
     "metadata": {},
     "output_type": "display_data"
    },
    {
     "data": {
      "image/png": "iVBORw0KGgoAAAANSUhEUgAAAHgAAADuCAYAAADyW8OMAAAABHNCSVQICAgIfAhkiAAAAAlwSFlzAAALEgAACxIB0t1+/AAAADl0RVh0U29mdHdhcmUAbWF0cGxvdGxpYiB2ZXJzaW9uIDIuMS4yLCBodHRwOi8vbWF0cGxvdGxpYi5vcmcvNQv5yAAABsJJREFUeJztnUuSpDgQBaWxOUL1ujnE3P8EmYeo9dQdmBVmDC0+kiLIkPN81R+SDNIlEaBA5Hmek+Dy16cDEL5IMBwJhiPBcCQYjgTDkWA4EgxHguH8XbPx19fXPE2TUyiihvf7/TPP86+z7aoET9OUXq9Xe1TCjJzz95XtNETDkWA4EgxHguFIMBwJhiPBcCQYjgTDkWA4EgxHguFIMBwJhiPBcCQYjgTDkWA4EgxHguFIMBwJhiPBcCQYjgTDkWA4EgxHguFIMJyqpwtHJ+dctT1hkbhH9OCcc7Xc5XOjgxfcK2l0yVjBrb12b1+jghTsIWRUybgk60zElcRpbx855+ESL1QPtpB7tt1oPRkj+OiHn+e5uudRJA8v+CyZ6hlSCZKHF3xE7/lyFIlH4JIsiySIIHYB3YMFoAePdtlyN+rBcCS4AGlUGH6IrqWUQG2FKskSw/C4HlyC1GO3qAfDkWA4jxNckyEvkxQjZ9WPE5zSNckjS13zSMFXkirLkp9P8qgs+omVlY/swU9CguE8XvDoWfIZjzoHH4mk3o9+fA+mM3wP3vY08nDbgnrwDpSGIsGNjNIAJHgHr1rru5HgApQMOiUJrmak3psSIIve0voEoNWDa9HACU7JfogdVW5KgCHa+8cfWW5KAMGejC43JYhgjwkDgtyUYOfgeZ67zr8UqWtQglNiSuoBMUSLfSQYjgTDkWA4EgxHguFIMBwJhiPBcCQYjgTDkWA4EgxHguFIMBwJhiPBcCQYjgTDkWA4EgxHguFIMBwJhiPBcCQYTq551CPn/G9K6dsvHFHB73mef51tVCVYjIeGaDgSDEeC4UgwHAmGI8FwJBiOBMORYDgSDEeC4UgwHAmGI8FwJBiOBMORYDhVq81+fX3N0zQ5hSJqeL/fP1dKdqoET9OUXq9Xe1TCjJzzpdo4DdFwJBiOBAcj52z6WiDTJf2jvup1iWuJZ/v33n1b7Sel/8dosV8zwduALFqhxUGufzhr0cvnLeL06gwmQ3TpACP03iWuJRaPGK2PEz9Eb/dhOZxasm7Uy+hg2WAW0b37NBVsNURvD6q3RZcaSfRXyPa+A2qhW7BVyz2idf9HP9L2PFzD3inJMmewwqQHR+4NeyJK/3fG+jgtj3k73Fvuv1vwaO8M7JF0dx4Q6jJpFKIlayn9ObyHzaJFOz2njiMkOBAeo4vuRcORYDgSDEeC4TwuySpdgkS8dLLicYKt73NHBy346ObBJ3vtOpbKheiq477tXnSEYdDjTlEry40N71hMBO/Ja51dsbijc8csVw/bXnwWb+vxhByij86TPVOHNf/uSek7Q5fslLDsQUvZjdUkuAWWw6vnMZkW3ZX+zaJsJ9pQG6WRXcFMcElCT12RV0LUEs9RDFFrxhZc72RFPeiWRrOtuPCqwLDG7DLJo3y09Ofe/bVeF69roLefj5QbbDG7TLKsXPTo+UeZ61mcJYHr69ioI1VKhkP0tp7Xq0CtJh7L7y0V0FsMz94NxPQcvA50fWmT0ufOUXvZfSulKs31cUbD/EbHnRfxZxw1rqhCrAl5J8uaM5kjyG6NURP+H8a7cUkwHAmGI8FwJBiOBMORYDhd18FnU2UWlRgt3+tF9MdNS5g8H3x04C33hEvVkBF+rHVMEeK5gvuEfw1HExReT9T37GOPnmWZrBtOl2DL3ru3zlap4rBnRLDEolGXPm8Za3eSdTaTcjXYo0mKaMPh0TH3xPro54NLlRR3fr72e1qxnsceRnBpHrb2syMlR1aEnS6MvHrP3vxyxLqssIKjs/f0hUV2/thFWCL1EK8qkVCXSXcS8YbHmkiNb80QSZa13LuuiSMwhOCU4v6A0RlGsGjjFsG9vS/qJcgIDNODJbmNYQSnpPNwC0MJFvVIMBxzwTpPXsezqGHBXPBoydBIsbbgcqvyyrpPZ/Qss7C3r9KD6vTEzaSq8uz/ry6PsGVbpmOxRpbHCBN5nrm7Jiul8gHWHLT1Cj0laleWO9tXVKFbws4meSzBsBDxvOsVk0mStV6QxBOr/UdcNc9rRDB9+6inaK8pvpqyXg/Wcj2O0fzdhd4F5Z+c+N+7bo18PjZ9dMWyHulKZm2BRd32Hd/fiul60RaivR5Yeypu7w/+xOfFn2iyAY4Ef5A7RiwJhiPBcCQYTq45D+SclebG4T3P8z9nG6kHw5FgOBIMR4LhSDAcCYYjwXAkGI4Ew5FgOBIMR4LhSDAcCYYjwXAkGI4Ew5FgOBIMp/bJhp+U0rdHIKKa31c2qiq6E+OhIRqOBMORYDgSDEeC4UgwHAmGI8FwJBjOfyHibTBny/RbAAAAAElFTkSuQmCC\n",
      "text/plain": [
       "<matplotlib.figure.Figure at 0x1a25d36438>"
      ]
     },
     "metadata": {},
     "output_type": "display_data"
    },
    {
     "data": {
      "image/png": "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\n",
      "text/plain": [
       "<matplotlib.figure.Figure at 0x1a2619fc88>"
      ]
     },
     "metadata": {},
     "output_type": "display_data"
    },
    {
     "data": {
      "image/png": "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\n",
      "text/plain": [
       "<matplotlib.figure.Figure at 0x1a24d9f320>"
      ]
     },
     "metadata": {},
     "output_type": "display_data"
    },
    {
     "data": {
      "image/png": "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\n",
      "text/plain": [
       "<matplotlib.figure.Figure at 0x1a26035860>"
      ]
     },
     "metadata": {},
     "output_type": "display_data"
    },
    {
     "data": {
      "image/png": "iVBORw0KGgoAAAANSUhEUgAAAHgAAADuCAYAAADyW8OMAAAABHNCSVQICAgIfAhkiAAAAAlwSFlzAAALEgAACxIB0t1+/AAAADl0RVh0U29mdHdhcmUAbWF0cGxvdGxpYiB2ZXJzaW9uIDIuMS4yLCBodHRwOi8vbWF0cGxvdGxpYi5vcmcvNQv5yAAAB3ZJREFUeJztnUuS5CgQRNHYHKF63TrE3P8EmYeo9dQd1Cu1yTCQ+ESA4+nPrBedpSQRTwQIENqO4wiCl39mZ0D4IsHkSDA5EkyOBJMjweRIMDkSTI4Ek/NvzcFfX1/Hvu9OWRE1vN/vn+M4fj0dVyV43/fwer3acyXM2Lbtu+Q4hWhyJJgcCSZHgsmRYHIkmBwJJkeCyZFgciSYHAkmR4LJkWByJJgcCSZHgsmRYHIkmBwJJkeCyZFgciQ4hLBt2+wsuPHRgrdt+yuXVfJHC465CmdBgsmperIBhbtaVrOpzHEcybS2batKB5mlarBHCM2JZAnVywguLfAWMSy1NQW84FEdn5RkhloMLbi1gFu/xygZWvATx3H8/efJypKXFBxLtRTA1ulaTvDMDtGKkpcTPAKmXvXSgj172CyhelnBs26dRv22FcsJRpkQQMhDCcsJHs1de7yCZGjBKJ2dlSVDCw7hWXJuoMNjUmLFNnmJ6cKSmpyb+vPIy0pTjPA1uBSEWoSQhxgawSNZqU2GD9FxgZWGQe9wOapJ6AW2Bufud5EKFbHNjYEU/CQxlo8kHQ04wTWyJPYZKMEtwmZKXuECgxFstRS25XhmIASXyB2xNKeGXJ6R8hgCgODamlsydOnNKnJDmCz4rqDuCmvmQMMK7e6VaYI9a4GXBMt+wijgR7JSlAi8HuN90aDKDQGgDb7yVFCtqzl6a/SqckMAE3yHp6S776wsNwSwEG3x4NhdGqm/tSygX0HsyTTBvbMxuUKuFVabh5XkhjA5RLcW1owpQ7SBllKmt8G1BTdj2HJFsScwbfBTyO4p5Jp22uL3kIARHMK4Qj1/56nTxQCU4NGwyUwxvQ0WvkgwORJMjgSTI8HkSDA5EkyOBJMjweRIMDkSTI4EkyPB5EgwORJMjgSTI8HkSDA5EkyOBJMjweRIMDkSTI4EkyPB5EgwORJMjgSTI8HkSDA5EkyOBJMjweRIMDlbzTYG27b9H0L49suOqOD3cRy/ng6qEizWQyGaHAkmR4LJkWByJJgcCSZHgsmRYHIkmBwJJkeCyZFgciSYHAkmR4LJkWByJJicqreufH19Hfu+O2VF1PB+v39KluxUCd73Pbxer/ZciSy17zvetq1obdxHvzephIaCLz7+7tj4pV2ta+ckuIBU4acKPP48d9z5t1Taqd/seUvrUoKfCmXEb+f+38KI8zAVnDtpixO51oa7mmHN+dLMklocvzEcYUmymeDcCc/G4k2jte8rtjzv3ovZ7T74zFjvm75TtL5v+MzP9Z3FHrWsJM3ScunNH+RARxzqcseUghAqU5ySPSMdnOCR7SsC17DuIdqtF30NQaXCrnJznRsLEPoGJ94XtJngVCZ7Mn6e+FWGlRiPfoEXvRcA1H1w3CGKP6vl7pbl2v551SCrtHvSgWuDLYl7zKm/e/42QjrUgktBDte9eYMK0TOY3WNPdUYtR8M+XjACqfthqwtPghspHa2yTK8FtcHkSDA5EkyOBJOjTlYnubVTKJMm8DUYfRDiabRsNvCCUUGpoU+YLtnJUbrcdIUCq4kopefkuXjBtA1GFJQaBuzJZ81Sm9Rxqc9q5stroe9kpYYBewq59liP79cALTheKhuCTeEgrv70ArKTFU/Ep0TXpBX3dM80mMWemNfgnhmR0sc5etpRr2VAMSidRvMnG3oKvubY0t9KPeOTWr5jxczHa1JAt8F3tESH3MLA3tpWE7U8V4umMG+DV2jfrGpZ3FeoSe/8rnc5uSybRZZrTUuNHNmLdwnR1uHHKj2PzpVFuF1i4Ts6sx4ymw3kfbCwQ4LJkWByJJgcCSZHgsmRYHIkmBz4gQ6UabeY3jVoo4CtwdcJActhxZ7vxhMEI7Zk6qW7Bo/Y62n0FNtdPk5WmVAxCdF3BW+9ccpsydZY7SqbAzZEp1hpd5wS4lDvgUsny3OdEzq1olI7C1myxHywxQoM1PDeu0b7iWbBrZPnpZm3XA+NWvOfNmCxoFnwiNqAVOtS7b+FDC+xJ9ADHZabiVnKCMH+4tMmLGCgRJYnJJgcCSbnYwSvElKt+RjBn4oEkyPB5EDfBzPisaPsHarBA5nx7DCc4NyI04hHLUfQs/qj5fzhBKfwWL4zg2v+R50HhOC7QXy0LREsWOoJ/7srsfQqTU2bnd9PrXZADdcl+Rq9r2VXL7ok3LRerfH3crJL8veERf7itKwjT2s5dgl+WghXk6m4FqcWo9Wkdx6b+k7PvltxOrn8np/PpklwzcR37Q40I7CcH85tk2i9NVNrek2CZ12ZLftjPW2qZg1Crb0C0Ytelbi2pmq0xW/0XDSwQ5V3YRRhrVZutzy0e3VYwSHkw128ARkCHmPMFucILTgHktgTj7XgFmmqDSZHgsmRYFDM2vHKoT+8xu9zeR/H8d/TQarB5EgwORJMjgSTI8HkSDA5EkyOBJMjweRIMDkSTI4EkyPB5EgwORJMjgSTI8HkSDA5EkxO7bronxDCt0dGRDW/Sw6qWnQn1kMhmhwJJkeCyZFgciSYHAkmR4LJkWByJJicPyiv91hlLeqEAAAAAElFTkSuQmCC\n",
      "text/plain": [
       "<matplotlib.figure.Figure at 0x1a25c35278>"
      ]
     },
     "metadata": {},
     "output_type": "display_data"
    },
    {
     "data": {
      "image/png": "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\n",
      "text/plain": [
       "<matplotlib.figure.Figure at 0x1a25c28320>"
      ]
     },
     "metadata": {},
     "output_type": "display_data"
    },
    {
     "data": {
      "image/png": "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\n",
      "text/plain": [
       "<matplotlib.figure.Figure at 0x1a29e3f588>"
      ]
     },
     "metadata": {},
     "output_type": "display_data"
    },
    {
     "data": {
      "image/png": "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\n",
      "text/plain": [
       "<matplotlib.figure.Figure at 0x1a2633cd68>"
      ]
     },
     "metadata": {},
     "output_type": "display_data"
    },
    {
     "data": {
      "image/png": "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\n",
      "text/plain": [
       "<matplotlib.figure.Figure at 0x1a2671ac18>"
      ]
     },
     "metadata": {},
     "output_type": "display_data"
    },
    {
     "data": {
      "image/png": "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\n",
      "text/plain": [
       "<matplotlib.figure.Figure at 0x1a24b6ba20>"
      ]
     },
     "metadata": {},
     "output_type": "display_data"
    },
    {
     "data": {
      "image/png": "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\n",
      "text/plain": [
       "<matplotlib.figure.Figure at 0x1a27332b00>"
      ]
     },
     "metadata": {},
     "output_type": "display_data"
    },
    {
     "data": {
      "image/png": "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\n",
      "text/plain": [
       "<matplotlib.figure.Figure at 0x1a1942f748>"
      ]
     },
     "metadata": {},
     "output_type": "display_data"
    },
    {
     "data": {
      "image/png": "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\n",
      "text/plain": [
       "<matplotlib.figure.Figure at 0x1a2da16080>"
      ]
     },
     "metadata": {},
     "output_type": "display_data"
    },
    {
     "data": {
      "image/png": "iVBORw0KGgoAAAANSUhEUgAAAHgAAADuCAYAAADyW8OMAAAABHNCSVQICAgIfAhkiAAAAAlwSFlzAAALEgAACxIB0t1+/AAAADl0RVh0U29mdHdhcmUAbWF0cGxvdGxpYiB2ZXJzaW9uIDIuMS4yLCBodHRwOi8vbWF0cGxvdGxpYi5vcmcvNQv5yAAAB5dJREFUeJztnUuW4ygQRYM+vQTnuLSI2v8K7EXkuHMP1KR0Ds2R+EUgBU/vjvIjy5irCEAgHGKMQnD55+4CkLlQMDgUDA4Fg0PB4FAwOBQMDgWDQ8Hg/Ntz8Ov1itu2TSoK6eHz+fzEGL9qx3UJ3rZN3u/3eKmIGSGE75bjmKLBoWBwKBgcCgaHgsGhYHAoGBwKBoeCwaFgcCgYHAoGh4LBoWBwKBgcCgaHgsGhYHAoGJyuNVkzCSE0HcfHXftwEcGtcnuPJQ4ieERYCKEYyb3nRM4KtwrWRKNlJNcumJW5TfCZoKOKviIt7++BJvqWNrhH7tWEEKDa+dvb4J2S3BjjUKXXLpjSOVHSthvBNc4q+0hSq5jahYMg2cUwyZJeIZooXwE3gkeHSxbEGE2HXZ5wI1ikvSJndYRqolfklja41PZ5jZZV22NXEeyFFUWecZvgGZU4W4zX7FLi1gi2avNmtJ0oUexiHLxXZk+EoAiYjQvBOytIW62zxU7WACu1xRRcYKVIPYOCK6wumYLBoWBwKBgcCgaHgsGhYHAoGBwKBoeCwaFgcCgYHAoGh4LBoWBwKBgcCgaHgsGhYHAoGBwKBoeCwaFgcCgYHFePruzM2HDlqbiKYM2T+7MeJ1npMZUj3Ai2qEhrGZ7382rFRYq+K0pWj84W3ESwFS3SNE3BStEr4iSCW9HuY6mN2NXkijgV3FORrdscPlGuiFPB1mjkrip2B15wTe7qAmvAdbJSni5XBDSCS2KfIDUFOoJzniZX5EGCnyhXxKlg6ztMT5UrAtAGI9wvnomLCB69Q0W5dVwIFumXQrltuE7RT5jtmY2bCBZh9M3AdQT3wIvjGFcRPArlnuMugls3B6fUNtwJ3qFAGyBSNDmHgsGhYHAoGBwKBoeCwaFgcCgYHAoGh4LBoWBwKBic0HNTP4Twn4h8zysO6eBXjPGrdlCXYLIeTNHgUDA4FAwOBYNDweBQMDgUDA4Fg0PB4FAwOBQMDgWDQ8HgUDA4FAwOBYNDweB0PR/8er3itm2TikJ6+Hw+Py1LdroEb9sm7/d7vFTEjBBC09o4sxQ9Y8sjbqOkx+0WDiLP2MZh9tbHZoJnyNg/PLpo7ZeNlDCN4BCCmQzNB+x9rabMsy7C/ctGtOd1naI1pNsx1SqptSJLx83YO9NCMqzgK+mVfiWmNzos05T2XPu3m7Wcp/W7l6xf2/J67fnNItiq/d3Po2nbru6UHaXSXilHx7vpRc/61k+PvedS2fJ66C1/vo0jZCfrLqmtHZr9uLOIS//eI+ioU2gROCZtsMdI29llWGaZGOP/PnPp97s7WpxN+stoOiy9RvM1BWlfRBNAJoLvvkoROBN5ey/ac4dIpL7/tIfeep7ej2SPRrJKsHe5KaVI6O0I9RxjceGkHbve86kEryA2ZbXypoyWnZ0scCgYHAoGh4LBcXercgbae8QrAy/4bEy5gy4bXvAR+bRe62qO0fe4E3eCWytSu8Sml9pFoXmvmSsr3Qkeia7V6Vk/1stwL7o10rQTEfkMi9V5n8LUYVK6MmH0tTMj2FOGSOvKcv56OEWfrUOyWCxXe8/955Ey5u/TW2bNRVs631Gb7nLJjkXklab4Rs57NA7WrrgoDb0050n/bnERmc4mHa0q1Cw8s0ifedSnkTFSgV5SeivT2uB8nVIPpbSqjRSL+dqVcH8vOpVqkZ5TrNLgLCwuPpeCz1YwWLRzT7sv7e5Gx06+Tin/W895rrj37PVCcSvYEq+VfwUuUzSxg4LBoWBwKBgcCgbHZS+6Nt59cq+4F5cRnI578zGwtVzPd7JE9OVzGcEr0XsT5eq1XS4FXzkRPyLlbMKidYeA/Nwzlym5FHyGxQPRo++bcnaP3GPfwJ1g7YqJq+Z4Le9va+ana7gTLGK3GqR0ntFMkIvVSrFYhFBC/QC4dVo6+5C966ZmpdC0fEfZxluaVi/ZmTFmvautbSXPEhZlnfVZ1ePgfMya/66ZpLdKV5rlQ63nv/P1JUza4NJVnP7vqiu9trx2pBxWKzyv5rJOlmWvuFWy5vUWr7FAGxTmG4If/Sxi1xav+pRfK9ZLjFxv6T/zvJ6x/MwuJxvO8D4x4BGXNzqO8Dxs8swyEUy5YywjmIxBweBwO2FHzKhHRnAnsy9my6f7RRS96LwQnie9r0B7cyIdJbgQXFvl4JH8QfD9Z8tzequDZcbBWvLK185WrZKxpgr2UgnW7abHSD1j2mTD7NeO7v2R/61V1lF6t+BsgsbqIjIVrG2XW+duRyr4bHarVr79/a3mlY/ILzTLC+gxw6R8xckolum5NBVq9R5LCr6y/Zu1nPXofUQeuPB9lc7MCGdPSFjiUrC3DcpKK0u836a9XfBRL3KGLIvUdzSWzv/vjdsFX5GC06cHRt+zZa2Ux+bE/ZosK6yGM6sxtRe9YoWgseQwibRDweCEzqf2mHP98Ikx/q4dxAgGh4LBoWBwKBgcCgaHgsGhYHAoGBwKBoeCwaFgcCgYHAoGh4LBoWBwKBgcCgaHgsGhYHB610X/iMj3jIKQbn61HNS16I6sB1M0OBQMDgWDQ8HgUDA4FAwOBYNDweBQMDh/ALeBUSdOUZBeAAAAAElFTkSuQmCC\n",
      "text/plain": [
       "<matplotlib.figure.Figure at 0x1a24d77470>"
      ]
     },
     "metadata": {},
     "output_type": "display_data"
    },
    {
     "data": {
      "image/png": "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\n",
      "text/plain": [
       "<matplotlib.figure.Figure at 0x1a25d0fb00>"
      ]
     },
     "metadata": {},
     "output_type": "display_data"
    },
    {
     "data": {
      "image/png": "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\n",
      "text/plain": [
       "<matplotlib.figure.Figure at 0x1a25e6bf98>"
      ]
     },
     "metadata": {},
     "output_type": "display_data"
    },
    {
     "data": {
      "image/png": "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\n",
      "text/plain": [
       "<matplotlib.figure.Figure at 0x1a26189fd0>"
      ]
     },
     "metadata": {},
     "output_type": "display_data"
    },
    {
     "data": {
      "image/png": "iVBORw0KGgoAAAANSUhEUgAAAHgAAADuCAYAAADyW8OMAAAABHNCSVQICAgIfAhkiAAAAAlwSFlzAAALEgAACxIB0t1+/AAAADl0RVh0U29mdHdhcmUAbWF0cGxvdGxpYiB2ZXJzaW9uIDIuMS4yLCBodHRwOi8vbWF0cGxvdGxpYi5vcmcvNQv5yAAABwJJREFUeJztnVF22yAQRYeeLsH9rhbR/a/AXkS+mz3QL/UQIiwBM2h4vPvlJIqMuTAgGMkhxigElx93F4DYQsHgUDA4FAwOBYNDweBQMDgUDA4Fg/Oz5uDH4xG3bTMqCqnh9Xp9xhh/nR1XJXjbNnk+n+2lImqEED6uHMcQDQ4Fg0PB4FAwOBQMDgWDQ8HgUDA4FAwOBYNDweBQMDgUDA4Fg0PB4FTtByMSQvjyM9qtPEsKzqXmf0OSfKvgkZX5TioytwhOK3vVih8FJ1ngUDA4twj2MImJMboohzW3TbL2yh05Bq8gNOf2y6Qz0ZZSVpjguR+DR0tA6+XuBYus0dOscCP4bNJDyW24EbwzSvIqDcadYBF7yXdM6O7CpWARO8mr9Nwdt4JFxoXrs/eaGdeCRXQlrxSad9wLFrEVgCxXZBLBImURV3tx6Tj0MXkawSL9kkuEEGBFTyW4ld5ePjPTCbbqxel5kERPJ1ikTjKSrBamFNzLvu69wtr3tIJLgmoT+t6JRgjX0wp+xzspJZmoKTzTC9aedJ1FhdmYXrAI/mpUDxCCRSi5BIxgEUo+Akow+Q6cYPbir8AJfseK8iEFH4lcUa4IqGCRrwsXq8oVARa8oyF35gYCL3h1KBgcCgaHgsGhYHBuvwH8Lq5uAc48gxYBFjzzHq4mUwoeJW/23ivCMbgIglwRCj4ERa7IpCFaCySRJZYUvILYnSkFrySoF47B4FAwOBQMDgWDQ8HgUDA4FAwOBYNDweBQMDgUDA4Fg0PB4FAwOBQMDgWDQ8HgUDA4FAwOBYNDweBQMDgUDA4Fg0PB4FAwOBQMDgWDQ8HgUDA4FAwOBYNDweCEmrvlQwh/ReTDrjikgt8xxl9nB1UJJvPBEA0OBYNDweBQMDgUDA4Fg0PB4FAwOBQMDgWDQ8HgUDA4FAwOBYNDweBQMDgUDE7Vl3I8Ho+4bZtRUUgNr9fr80rKTpXgbdvk+Xy2l4qoEUK4lBun+rU6IQTVr7zJv6OQ+WP1uP3epKPG0tOAtBvfLLgVrMkeCdKIsIrsqWbRMcamr5aNMf4Xmr5e4TuGVXrwUUV5DYl7uWrK19oQzs5/5by9dagWolt71x3UNr68xx9FgPR3Ledu+d8rdIfo0T1VY5LV0xjT99/Dff47Tw1dfZKVt3Jv9JbrrEHXys2P1740VBdseR1s8R417L2zJLmlcR+FaM2o2C3YsrLfVeJdnI3H3iKX28sk7bEs7X1aPSQ/R94btc7bg2qItmi92pI10B6HLXG/kuUp5J2F4dqVshGfzb1gb5SkWIR8DdyOwTuewp2naHIV1z14xgr1hvseTPqgYHAoGBwzwZ4mRytjttlAfOB6s4H0s9QYvK9Dr4TpGOytMleMLiYLHb1ir/5/y4J/KbWmdodplpxt9cR3keOcpVp6K+xsn1ZjY10zn8qqwUBPstJK95rlKWJbNldr0Wkr1k4pXVGuiDPBIjqhs4TGed81wt6crPQ8bkN0C0eVZp0UXvM+6f8chfz8dU95RABTdixDlEYvG4l2uVz0YCuu3DpSW6GlHtrbcM5ScluBFqyNdrpOLtPiroilBd8ZplvmAC2YCvY6znlhRP0stdnghZFr9EuH6LsYGdnYg8GhYHAoGBx3Y/DRBMTjbHyWcroSrHljtTUW9wW7eUbH6HQcT2JzNG9JtaBJ8P7gkZGie5fxvOWHHWGxVNk1yUrD1AwV6BXXGR3Wz3nyiGZjLm04uNzw15KdTly0szB6y1d6SGpPuSyfFKh+HZzLqfnw6RikGQnyh5X1ov3ckLR86WuN9zFd6Ggp6NGTavKUnjvH+3zeoRkJSu/Tg/l1cG/aaqlX91Rsfq6WMh2dVyM7ZNoN/1a5mniaBI4qR5PgO1eWWt57RHkt0317aBJssUyXn7+URtqyGOCt0kfSFaKPJgJalXk2AfHYWzyiMgbfUdGUfI2p94Mp95ypBXvDY4OjYHAoGBwKVsTjlqmrlJ0jZsl98op7wSLfhd55eeSxl77D5El3yD3MU2O7gtoYnG7jWW/p1S5X5uU5+hkV1UlWvmmt8TiD0t9re02+nq3BDA3D/PbR3n3b/bVmlkPvOc6yVjyFbLeTrFKigEZ+lsZuWKlMmo1HA5fXwdY9wHNodXFnw8zkFWixl+0JlyFau4dZ3DFwRE94tSqfS8EiY3pW7yOPdrTGTddP2UkL53mM08IiFFvUm4sn3VmdZyasPvNyk6zVoGBwKBgcCgYnVN4hsN7sxy+vGOOfs4PYg8GhYHAoGBwKBoeCwaFgcCgYHAoGh4LBoWBwKBgcCgaHgsGhYHAoGBwKBoeCwaFgcCgYnNrE908R+bAoCKnm95WDqpLuyHwwRINDweBQMDgUDA4Fg0PB4FAwOBQMDgWD8w9mfa82OXlL2wAAAABJRU5ErkJggg==\n",
      "text/plain": [
       "<matplotlib.figure.Figure at 0x1a25a98b38>"
      ]
     },
     "metadata": {},
     "output_type": "display_data"
    },
    {
     "data": {
      "image/png": "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\n",
      "text/plain": [
       "<matplotlib.figure.Figure at 0x1a2da16dd8>"
      ]
     },
     "metadata": {},
     "output_type": "display_data"
    },
    {
     "data": {
      "image/png": "iVBORw0KGgoAAAANSUhEUgAAAHgAAADuCAYAAADyW8OMAAAABHNCSVQICAgIfAhkiAAAAAlwSFlzAAALEgAACxIB0t1+/AAAADl0RVh0U29mdHdhcmUAbWF0cGxvdGxpYiB2ZXJzaW9uIDIuMS4yLCBodHRwOi8vbWF0cGxvdGxpYi5vcmcvNQv5yAAAB5VJREFUeJztnUuy3CgQRVFHL6E8thbh/a+gahFv3G8P8sChMEHrwycTLlf3RHjgFyUK6ZAJQohatm0Lgpd/RldA+CLB5EgwORJMjgSTI8HkSDA5EkyOBJPzb8mHX6/Xtq6rU1VECZ/P53vbth93nysSvK5reL/f9bUSZizL8pXzOaVociSYHAkmR4LJkWByJJgcCSZHgsmRYHIkmBwJJkeCyZFgciSYHAkmR4LJkWByJJgcCSZHgsmRYHKKVlW2sCzL//6ml8/96SL4SO7Z31uln32XNbM0TlfBNRc7Pmbbtm7CSknriQp0H4wqNwW5ntCCZwJVcrdB1s5VOrO6SN4p825MgZSyuwu+4q7PRblwyGODlGlSNIrcHbT6nAEneJYLF8J5XZGiG07wbKA3yGkEI0VFypFklPpCCp4h9aWgSoYUfAXCRSthdH1hBaP3bUcg1hlWMBMjoxhW8OjUVgtaFEMKnmE2axa6C76LTFa5ozKS61z02Zxt6cnOJhZprhoyRcfMJveKEdLdBdcK2raNSu4oukRwqSgGsSizcd2eBzNIKwWhL4bvg0UbEkyOBJMjwQPo2S9LsDOjB5cSPIheUSzBHRgZxRI8kB5RLMGdGBXFEkyOBJMjweRIMDlQbxem1IwyR08soAEbwbW3EKMfz6EBKbhVkiT/BVKwsEOCyYEbZOWm13QwpbR8jCK4E6MaoASTI8ED6XHPLsHkwA2yakAeYI2u27QRvF+40RfwCoS6TSs4hPMLiDAffSe3Vx3hBCPI8abnOUL2wS2TGOgNpHf9IAWn7BcFoU+7AiUtx8Cl6CuQ3xlGlBvCZIJ3euw5XQKq3BAmFRwCjmRkuSFM0gefcfWCtdfu6zmNZ7TUmKkFh3A/ALP4dRT0wd0V0wveydkuYVmWLMktQpGiN4SJ++AjcuVdRTuT3BCIIrgUy7SLKHaHTnB8sT37TmSpMXSCY6xmwGaReQS14J1S0TMLTaEaZN3BJC6XR0RwzNMkPyqCn4gEkyPB5EgwORJMjgSTI8HkSDA5EkyOBJMjweQsJXOzy7L8F0L48quOKODntm0/7j5UJFjMh1I0ORJMjgSTI8HkSDA5EkyOBJMjweRIMDkSTI4EkyPB5EgwORJMjgSTI8HkSDA5Ra+Pvl6vbV1Xp6qIEj6fz3fOkp0iweu6hvf7XV8rYcayLFlr45SiyTF9w/9oDwyvrQSfsFjQ4lybBVtsFVjzXbm71vWoi1c94s1jar+jOUVb7uHssa/VvnudR9n7uSPvZWmeoltk7xfrqoya8j26ibjM0vKvurK97DRD1KZrU8E5gsSxpLvupzZTwI2iz06EveHs6f5q07aa828WvPdvln2Rdb/m0Qe3lHl3rGVDbhIc9wueEdZS9n4cWvT3qk9TH+z5I81Wjcar4aE1mDPMBlmI0euFReOLjz+7p7boh6H3qkQTG9MiORV7JNXq3OFG0R6ktyDWZdeWeTRJZP3jX9ARbMHRBfQqG5FHRPCTkWByJJgcCSZHgsmRYHLoBSM/jO8BveCnI8HkQM9k9VilOYqW6c0STASnlbWSgCrT4nx7nZtZir6bJC9tseiDI+uHAl6YRLDVr3ymx1utPfbIMFYN8Kwcq8Zj1gdbPZhvWSJ6VWaMxfLeuKwWvLOA2yi69jkpemqeDfd3k0qi8SoyLJfuIL6JkVNWTb1h12RZLp31vN2qLcfrziMF+j7Yqk/3wLIf9wRaMAozT7hIcAazyDxCc9HkSDA5EkyOBJMjweRIMDlNt0npNGSv2RmRT7Xgo9cf07lkxFc/W5jxfMz2yTrbNGT0RSmZz+5dz7N3hC3rYpqiU1o28kqPqX1GnJbRUmbuA5C78tKtL47qaUW14J6t3fMZccl5HDXUs0aT+71H3w+zCUsuLY/+nrQ3pQfQt0l7dFjKbd1SaT/2qJyS6L2qh2XGghZsudAuLrM2o6Rjivj/peXpebAB6Sg1vqitks/+X1uW1+610BHcQk50ea72qP38XfoupUsEj7oXnm1gFo+sIQTnpBUtg73n7FbJIjCaIzhubd5rl2aISLTlveb7RSOW9WSaBlmWfQULaA3TJEULXGhvk8QfJJgcCQbGYnwjweRQz0VbchdNVwsLRiLBBVzN1qHeLsKn6KNnrr13DsiJ3tbn1vt5WTcU6B+nPEp1rd9RW1/vlJs+/YL5zQaL1tub1nVYVmXv5bccf4dZiq5dvhJ/Pv1XU44HvetwtSCvFLdBVsnjrnQZ6dEqjNbFd3dPva6OOztmhqxl0gfH65xqTvpoKerdZ2qwqONsqzxNHzZYPKS2XgBuNWCZTeyO+W1Sj1dWWsS3POL0OB/vBuPSB1uuaEDq+3IaLcKgMAZ+JssqvfZoFGhyQ5hAcCuWy1DvXha7GnGPgl5wCLZ7U541GNTB1yMEW5E7AYEkG/5hAwpI0kqQYHKWwon3OZsxJ59t237dfUgRTI4EkyPB5EgwORJMjgSTI8HkSDA5EkyOBJMjweRIMDkSTI4EkyPB5EgwORJMjgSTI8HklC6b/Q4hfHlURBTzM+dDRYvuxHwoRZMjweRIMDkSTI4EkyPB5EgwORJMjgST8xsD8PdV4R1rmQAAAABJRU5ErkJggg==\n",
      "text/plain": [
       "<matplotlib.figure.Figure at 0x1a3692a550>"
      ]
     },
     "metadata": {},
     "output_type": "display_data"
    },
    {
     "data": {
      "image/png": "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\n",
      "text/plain": [
       "<matplotlib.figure.Figure at 0x1a2d3cb278>"
      ]
     },
     "metadata": {},
     "output_type": "display_data"
    },
    {
     "data": {
      "image/png": "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\n",
      "text/plain": [
       "<matplotlib.figure.Figure at 0x1a2b157d68>"
      ]
     },
     "metadata": {},
     "output_type": "display_data"
    },
    {
     "data": {
      "image/png": "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\n",
      "text/plain": [
       "<matplotlib.figure.Figure at 0x1a24995c88>"
      ]
     },
     "metadata": {},
     "output_type": "display_data"
    },
    {
     "data": {
      "image/png": "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\n",
      "text/plain": [
       "<matplotlib.figure.Figure at 0x1a24e403c8>"
      ]
     },
     "metadata": {},
     "output_type": "display_data"
    },
    {
     "data": {
      "image/png": "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\n",
      "text/plain": [
       "<matplotlib.figure.Figure at 0x1a24d52b70>"
      ]
     },
     "metadata": {},
     "output_type": "display_data"
    },
    {
     "data": {
      "image/png": "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\n",
      "text/plain": [
       "<matplotlib.figure.Figure at 0x1a273007b8>"
      ]
     },
     "metadata": {},
     "output_type": "display_data"
    },
    {
     "data": {
      "image/png": "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\n",
      "text/plain": [
       "<matplotlib.figure.Figure at 0x1a25ad2828>"
      ]
     },
     "metadata": {},
     "output_type": "display_data"
    },
    {
     "data": {
      "image/png": "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\n",
      "text/plain": [
       "<matplotlib.figure.Figure at 0x1a25b6a0b8>"
      ]
     },
     "metadata": {},
     "output_type": "display_data"
    },
    {
     "data": {
      "image/png": "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\n",
      "text/plain": [
       "<matplotlib.figure.Figure at 0x1a25c61ef0>"
      ]
     },
     "metadata": {},
     "output_type": "display_data"
    },
    {
     "data": {
      "image/png": "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\n",
      "text/plain": [
       "<matplotlib.figure.Figure at 0x1a25c1ec50>"
      ]
     },
     "metadata": {},
     "output_type": "display_data"
    },
    {
     "data": {
      "image/png": "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\n",
      "text/plain": [
       "<matplotlib.figure.Figure at 0x1a25c532e8>"
      ]
     },
     "metadata": {},
     "output_type": "display_data"
    },
    {
     "data": {
      "image/png": "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\n",
      "text/plain": [
       "<matplotlib.figure.Figure at 0x1a3652eb00>"
      ]
     },
     "metadata": {},
     "output_type": "display_data"
    },
    {
     "data": {
      "image/png": "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\n",
      "text/plain": [
       "<matplotlib.figure.Figure at 0x1a2b091400>"
      ]
     },
     "metadata": {},
     "output_type": "display_data"
    },
    {
     "data": {
      "image/png": "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\n",
      "text/plain": [
       "<matplotlib.figure.Figure at 0x10b1759b0>"
      ]
     },
     "metadata": {},
     "output_type": "display_data"
    },
    {
     "data": {
      "image/png": "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\n",
      "text/plain": [
       "<matplotlib.figure.Figure at 0x1a2c0326a0>"
      ]
     },
     "metadata": {},
     "output_type": "display_data"
    },
    {
     "data": {
      "image/png": "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\n",
      "text/plain": [
       "<matplotlib.figure.Figure at 0x1a24b379e8>"
      ]
     },
     "metadata": {},
     "output_type": "display_data"
    },
    {
     "data": {
      "image/png": "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\n",
      "text/plain": [
       "<matplotlib.figure.Figure at 0x1a2c045c18>"
      ]
     },
     "metadata": {},
     "output_type": "display_data"
    },
    {
     "data": {
      "image/png": "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\n",
      "text/plain": [
       "<matplotlib.figure.Figure at 0x1a24d1b710>"
      ]
     },
     "metadata": {},
     "output_type": "display_data"
    },
    {
     "data": {
      "image/png": "iVBORw0KGgoAAAANSUhEUgAAAHgAAADuCAYAAADyW8OMAAAABHNCSVQICAgIfAhkiAAAAAlwSFlzAAALEgAACxIB0t1+/AAAADl0RVh0U29mdHdhcmUAbWF0cGxvdGxpYiB2ZXJzaW9uIDIuMS4yLCBodHRwOi8vbWF0cGxvdGxpYi5vcmcvNQv5yAAAB0JJREFUeJztnUmS3CAQRcHhI5TX1iF8/xNUHaLX7jvglcIEARJDJiRf/626q6slxINklORDCI7g8mN1AoguFAwOBYNDweBQMDgUDA4Fg0PB4FAwOD9bvvx6vcJxHEpJIS18Pp/vEMKvu+81CT6Ow73f7/5UETG8918132OIBoeCwaFgcCgYHAoGh4LBoWBwKBgcCgaHgsGhYHAoGBwKBoeCwaFgcCgYHAoGh4LBoWBwKBgcCgaHgsGhYHAoGBwKBoeCwaFgcCgYHAoGh4LBoWBwKBgcCgaHgsGhYHAoGBwKBoeCwaFgcCgYHAoGh4LBoWBwKBicpoeRzsJ7vzoJRXZ7z5QZwZalxnjvt5K8PER777eRe7JTepcK3imjUnZJ+zLBu2TQ7phpg1PSdi5XICTbwlKBO8+xa4FcIvgqs2Z3YCylRQMzNXhFZqLLdW5BG7xDqEOR69xkwXft3Ex2KGgSLB8Hr+AJoflkuWBLGWopLVIsFzwbS83EDJYLttAWosp1zoBgostUwVZryl0UsRBlejFRg2dmcGsh273Nni64lDGlZcNZGdxy7p0wM1V5MiNTQwhD59ml9jq3KESPZpBWBsfSdw/NJ8va4N6Mksrg1qZC8twzWdrJCiFsmWk7YaIXXStZujC0HG/Xgmimk7UqA2s6XLvKdc5IDV7NlcCd5TpnqAavZneRJViDwaFgcCgYHAoGh4LBoWBwKBgcCgaHgsGhYHAoGBwKBoeCwaFgcCgYHAoGh4LBoWBwKBgcCgaHgsGhYHAoGBwKBoeCwaFgcCgYHN9yT473/q9z7ksvOaSB3yGEX3dfahJM9oMhGhwKBoeCwaFgcCgYHAoGh4LBoWBwKBgcCgaHgsGhYHAoGBwKBoeCwaFgcCgYnKbHCb9er3Ach1JSSAufz+e7ZstOk+DjONz7/e5PFRHDe1+1N+4xIRrhJVc9POqJ79774Se77/bKnWHBEpk2g9G3nTlXvlbL0cFUDW7NqMY93a3JyZ4vJzkuPNYKu6jgNBNbL7aUgVJRonT8HuJrPV/wZbEmi9dgayXYOflmZJdmyTkBwXGtkKwhWoym8e4dS63Hrqn1I/mp0gZbkmwpLSk1aRsN+yKCc7V4JGNrXtY8Ik0i0lhsb3OY6kWfXHWyWsRo1d6dhksqvegZIfFKXs2LnuO/SUx+9PSkZ/RZxATPaudqM7GllktyJ62m+Sn9vSePzYXoXAaln1noNJ3pycmx9DZTc4Kdy2eCBaknPf2BVTxmNUkD63KdAxX8hFe31wIpmPyHgsGhYHAoGByTwyQN0vVbC8zY/jMkuGcWqHcpbfSi47GrBBJj4NxOkHOhJv7OCEOC45NLDvpzU3MWdnWkGS+ZptzvEoXRXBscT9zHrN4Sk5sqlUpTWmslEV1skFhjnbVjwso0Yyk0SwHdybpat01r35Xsq8IgFaq1IpS5ED2T2tWpNPPTn6UigUZEURGs2aa0kqbl/LlnW1HtRoIRpCWrhOi0F7iqrUt74bnPW4/Vu31oFaohevadB1fkeua9x8n9bBUzbXDN2M9K2N8J1V50771GpYmO9DNyj/owabS9GzkOURCsMX9M+hEVvIOQeGLCei9YIm1mOlmzsS5XCuipyhJPEHvy2Br8FCgYHAoGh4INobFIIy7Y0kqSc3tNb2p0/lQewmItU2vTg9i7NjNMys2AScw/3y3tWRgPa6ZBdaqy5X+uFhYk5ORmrizI1UalkyWxDqyd8VaakVwhk+zHmOlFxxeV2xAnuWF9xtabWnLbg83c2ZDSG/Kk7zpIuVvhqkm35HNBZiJWg+MVmlZRmrUojgq9AnLPDNHcuiPZN1CrwbU94JpCEe+E7EEis66uR7KAShd2EcG5i2/ZeXj30BXN0NebvqvPRzHXBt/dbrKaq9pnIX0nGsM2MxMdWlgSeIXWmNzMMIn8R3IcDF+Dd0JjFykFG0GrKWGIBoeCwaFgcCgYHNGZrJRdxqDIiLzazrm6OVoE4do3xElXFtWpyvQ+oN0p7Txxrl1AqfBL7zjZYhxcu4Wn5VgpNevBpdtac8e8W02bFc1M3QCe/o/0HYClTL9LZ+mpOiWx53pxukulNZ0SiHWySrWrR5Jm6e49dun/rrb/tFy7Vtsu9u7CqzA6W+7MJwPk9lSlv19J1n40hcg4uBTyVnSs4hCpfR6JY2inVWyi464k95ArKD37veIIMyqmdUSweu+16oPQeiiF19KW2qtzt2yKb/l7rpMVF6DaXaLxtVx1/Eby09wwqWZYYWnCJNfrb5FzVRgkrtP0U3ask6uB0r30UR73lB1prF8zV5PAoWBwKBgcCgbHN06C2+5RPItPCOHP3ZdYg8GhYHAoGBwKBoeCwaFgcCgYHAoGh4LBoWBwKBgcCgaHgsGhYHAoGBwKBoeCwaFgcCgYnNaN79/OuS+NhJBmftd8qWnTHdkPhmhwKBgcCgaHgsGhYHAoGBwKBoeCwaFgcP4BqmIeN6b56n4AAAAASUVORK5CYII=\n",
      "text/plain": [
       "<matplotlib.figure.Figure at 0x1a368bedd8>"
      ]
     },
     "metadata": {},
     "output_type": "display_data"
    },
    {
     "data": {
      "image/png": "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\n",
      "text/plain": [
       "<matplotlib.figure.Figure at 0x1a2600aac8>"
      ]
     },
     "metadata": {},
     "output_type": "display_data"
    },
    {
     "data": {
      "image/png": "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\n",
      "text/plain": [
       "<matplotlib.figure.Figure at 0x1a25d178d0>"
      ]
     },
     "metadata": {},
     "output_type": "display_data"
    },
    {
     "data": {
      "image/png": "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\n",
      "text/plain": [
       "<matplotlib.figure.Figure at 0x1a25aab9e8>"
      ]
     },
     "metadata": {},
     "output_type": "display_data"
    },
    {
     "data": {
      "image/png": "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\n",
      "text/plain": [
       "<matplotlib.figure.Figure at 0x1a26106ac8>"
      ]
     },
     "metadata": {},
     "output_type": "display_data"
    },
    {
     "data": {
      "image/png": "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\n",
      "text/plain": [
       "<matplotlib.figure.Figure at 0x1a2618eeb8>"
      ]
     },
     "metadata": {},
     "output_type": "display_data"
    },
    {
     "data": {
      "image/png": "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\n",
      "text/plain": [
       "<matplotlib.figure.Figure at 0x1a261147b8>"
      ]
     },
     "metadata": {},
     "output_type": "display_data"
    },
    {
     "data": {
      "image/png": "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\n",
      "text/plain": [
       "<matplotlib.figure.Figure at 0x1a26430978>"
      ]
     },
     "metadata": {},
     "output_type": "display_data"
    },
    {
     "data": {
      "image/png": "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\n",
      "text/plain": [
       "<matplotlib.figure.Figure at 0x1a2d438cc0>"
      ]
     },
     "metadata": {},
     "output_type": "display_data"
    },
    {
     "data": {
      "image/png": "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\n",
      "text/plain": [
       "<matplotlib.figure.Figure at 0x1a2b13ba58>"
      ]
     },
     "metadata": {},
     "output_type": "display_data"
    },
    {
     "data": {
      "image/png": "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\n",
      "text/plain": [
       "<matplotlib.figure.Figure at 0x1a2da08208>"
      ]
     },
     "metadata": {},
     "output_type": "display_data"
    },
    {
     "data": {
      "image/png": "iVBORw0KGgoAAAANSUhEUgAAAHgAAADuCAYAAADyW8OMAAAABHNCSVQICAgIfAhkiAAAAAlwSFlzAAALEgAACxIB0t1+/AAAADl0RVh0U29mdHdhcmUAbWF0cGxvdGxpYiB2ZXJzaW9uIDIuMS4yLCBodHRwOi8vbWF0cGxvdGxpYi5vcmcvNQv5yAAACANJREFUeJztnUuW5CYQRcHHS8getxbh/a8gcxE1du1BPfDRaawGCYIICJ7eHdnZShJx+RMqxX3fA8Hlr9kZILZQMDgUDA4Fg0PB4FAwOBQMDgWDQ8Hg/N1y8ev12rdtM8oKaeHz+Xzv+/7j7romwdu2hff7Lc8VUSPG+FVzHbtocCgYHAoGh4LBoWBwKBgcCgaHgsGhYHAoGBwKBoeCwaFgcCgYHAoGh4LBoWBwmiI6ViHG+MdnT33I7jEtOMaYFY8OnOA7iU+TDCe4pit+UmuGExxC/Xj7BNGQk6wQ/i+5tttGnIjBCk6plZ3+G4psF4Jbusnegt/3ver3YowQkqcJlo59Gq2spftenSmTLK1CPSZJPent+16sKAjyhwv2Wmgl0avPtIcKXrmgVs27i0lWCPfj6agCvpqErTjxmi64tsCeNDHSZLpgCdat6EgfoSJBblWS31AwOBQMznTBCOOcZ6YLDoGSLRk6i/awxnxaZXK1TLIOlnua3BAmCF51w2K1HawDF2PwKDSOF1fDVRc9gtoD/5Wlprg78B9RsDXDxIoHCzke1UXnuJK40hyhhKuIjlktBjmqgxEdCQhd8hk3XbSXwi2F7ayKi5AdL3IRmb5MstqpYqX5DzdddC8rd6OWwAgmeSgYHAjB7J7LQAgmZaYL7m19bL3XDBWsvXSh3Humt2ArJPJLD5qtvKZ2IdiqJdY+GXh13cpyQ3Cwk3XQ8ncyWivEk7vyKTFZtX8nYzart94QJnXRVgWnle7V+fBqTBuDvRag13xJmToG1wbA1aST+++Rf73HK9MnWdJncWuEoEprYbrgA8qwwcU6mNhBweBQMDgUDA4Fg0PB4FAwOBQMDgWDQ8HgUDA4FAwOBYNDweBQMDgUDA4Fg0PB4FAwOBQMDgWDQ8HgUDA4FAwOBYNDweBQMDgUDA4Fg0PB4FAwOBQMTmx58DrG+G8I4csuO6SBn/u+/7i7qEkwWQ920eBQMDgUDA4Fg0PB4FAwOBQMDgWDQ8HgUDA4FAwOBYNDweBQMDgUDA4Fg0PB4DS9s+H1eu3bthllhbTw+Xy+a0J2mgRv2xbe7/cfn8cY+VKNwcQYq2Lj3Lx15elYvfX0UWOwp/ci5jheqSd9l1QO8xZ8zuSsrtyz3CNvuTymn0nKzlTweWw+3tMryWjL62dXJHdfGnOboWNwzbsKczU2lVsj2nNrHY2J4N4CvhqDaipJqTU8ETXBVy0v5RDU0vXkWjIaubmKxn2qCdYu9KMSpOO29DfStHryk6J5v9JX4tZgvkySZDht4VoF2Sv3vITpTbPE8RtHxe7FdJIlzah2b9C7rrwa03uXMWl65xdduxccQvtNn2fK3rZBS3nTkGFxry63KnsKbdRsWft3NLvlFJeCDyS1eURrTytgKqSnBbau9WtxLdgj53Eyh0RQTboSHnXYMArJks5qaFER7GkStCqPHIOfhkVDYRcNDgWD09VFI2/+57AKq7FELLh1t+muMmht+VlRyr/3St7VRdful7ZsAGjtwWpydZplJVZrRt0luGYv1ttesgXSSnlILO2ITY2qTDNQktzacnNpeKA2ikSS99wxpCZqs+j0HDMEWcu1vNFcS7H6ndrrRvRs6sskjTFUcxw+R4T0pH1XQTwORWbr4N6b1ZTcmxetClL7W5qoC9bsejzMqK8mjz2ke89pz6DdC6gKtopRmim5ZWkkCU1aZpJ1YBVdqZleK+fJYylPI7rwVlTjoj3KPe+0SdOribTwJPbgEYcNmnOCq7S0Q301UBGs0dI045tmohFg7ypkpzZDNTd9fpJhVXoku5pFS+Re3bj3k5kWvEy2xIKlS4Ka64geolm0pKXVbNaj4eGeRIIlhwhkDo9YJj0ZCgYHPi66NPanw0bvsszzss6tYI0l01Ua0omiV5El3AoOwU5u+rmHtaolQ8fg0YW54ro7FzXSU25DBXvZ3fFEbpfvXE495dYd+F7CW8u4YlZejzFd4zizhKgFl+J2c59pRDKOiIYcjeuoypzY2mtbOEdEtkpOK0YpbHZmxRlxctYsWFLIUnpildLvel3eXN2f1nyle5LleeJ0Hkqsny1qKYfacutt5c2TrPOk4Pgsl7Hc/0sz2vNYjCaaYbS52fL533sx2egoCW/NcK7QeipKKQ+1ebu7RirZkiHHhdLv9Hzv+O5VC3kCsFuVmmmsjNvjwpFikCuBW8Gr4XUpRsEKeJUbAgWr4FVuCBQMDwWDQ8HgqKyDz7tLT9tc8PzITfezSbmz4fSp9ZbtO6+HFrX0PlVoQVdEh/ZJTM3W4rkgrvKQy2PL92sohdl4wXQMlm6+lyIez3/tRpKfnjPmEulxpNVjo9KoFpUuuua6O9LCOQeiSW7sqofR6n0006n5d8lvibvo3Llw7poQ6lvy+WA+TT8n38N5cO+RZo3cnvs0i6rsTbNUOTzMVLXPhS17mq5lkkW4y9Ez5FqBZlSH9Lu1PZeX1YPp+4OlzxFfFWJrwVmszbWfmOi9zyu6x+ArWkSnUkvpSgrN8yZECPfhTdPG4BBsCk1biFexo3AVsvN0GRa4Ekx+o9WTUbBDNHsyHheCQ8HgxJbuIMbIWZAfPvu+/3N3EVswOBQMDgWDQ8HgUDA4FAwOBYNDweBQMDgUDA4Fg0PB4FAwOBQMDgWDQ8HgUDA4FAwOBYPTGjb7HUL4ssgIaeZnzUVNQXdkPdhFg0PB4FAwOBQMDgWDQ8HgUDA4FAwOBYPzCzfSsZSeuvlkAAAAAElFTkSuQmCC\n",
      "text/plain": [
       "<matplotlib.figure.Figure at 0x1a24d52d68>"
      ]
     },
     "metadata": {},
     "output_type": "display_data"
    },
    {
     "data": {
      "image/png": "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\n",
      "text/plain": [
       "<matplotlib.figure.Figure at 0x1a366687f0>"
      ]
     },
     "metadata": {},
     "output_type": "display_data"
    },
    {
     "data": {
      "image/png": "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\n",
      "text/plain": [
       "<matplotlib.figure.Figure at 0x1a265b1470>"
      ]
     },
     "metadata": {},
     "output_type": "display_data"
    },
    {
     "data": {
      "image/png": "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\n",
      "text/plain": [
       "<matplotlib.figure.Figure at 0x1a25a94588>"
      ]
     },
     "metadata": {},
     "output_type": "display_data"
    },
    {
     "name": "stdout",
     "output_type": "stream",
     "text": [
      "The total average score for 100# of runs was: -0.2591634763000537\n"
     ]
    },
    {
     "data": {
      "image/png": "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\n",
      "text/plain": [
       "<matplotlib.figure.Figure at 0x1a24d29630>"
      ]
     },
     "metadata": {},
     "output_type": "display_data"
    },
    {
     "name": "stdout",
     "output_type": "stream",
     "text": [
      "[ 0.39106624  0.63681619  0.35099175  0.35831444  0.50159757  0.46748086\n",
      "  0.6350378   0.54340983  0.5694078   0.31249343  0.34766499  0.45587929\n",
      "  0.34960815  0.77010595  0.40998467  0.62876904  0.43913624  0.58488519\n",
      "  0.55666374  0.63127649]\n"
     ]
    },
    {
     "data": {
      "image/png": "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\n",
      "text/plain": [
       "<matplotlib.figure.Figure at 0x1a25ffd5f8>"
      ]
     },
     "metadata": {},
     "output_type": "display_data"
    },
    {
     "name": "stdout",
     "output_type": "stream",
     "text": [
      "[ 0.41837793  0.42983561  0.40772182  0.40219002  0.5388903   0.41730946\n",
      "  0.5427517   0.54283352  0.63325017  0.353427    0.40105371  0.65372298\n",
      "  0.39367391  0.52767957  0.60179035  0.45563008  0.66139662  0.38933972\n",
      "  0.58489513  0.48003678]\n"
     ]
    },
    {
     "data": {
      "image/png": "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\n",
      "text/plain": [
       "<matplotlib.figure.Figure at 0x1a25c7f3c8>"
      ]
     },
     "metadata": {},
     "output_type": "display_data"
    },
    {
     "name": "stdout",
     "output_type": "stream",
     "text": [
      "[ 0.52260656  0.49419296  0.30623783  0.36351858  0.69328783  0.39590664\n",
      "  0.60488884  0.50920463  0.45496499  0.54480274  0.53051854  0.46084107\n",
      "  0.62132042  0.67034875  0.47743034  0.54180305  0.37936254  0.47624212\n",
      "  0.54027082  0.58261353]\n"
     ]
    },
    {
     "data": {
      "image/png": "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\n",
      "text/plain": [
       "<matplotlib.figure.Figure at 0x1a25f04b00>"
      ]
     },
     "metadata": {},
     "output_type": "display_data"
    },
    {
     "name": "stdout",
     "output_type": "stream",
     "text": [
      "[ 0.56196552  0.44340033  0.62224516  0.4104477   0.48467808  0.54381114\n",
      "  0.39778474  0.47075975  0.57434637  0.53651669  0.59810533  0.37762728\n",
      "  0.49730371  0.51413073  0.41038895  0.45727312  0.46207172  0.5357574\n",
      "  0.52809378  0.34010162]\n"
     ]
    },
    {
     "data": {
      "image/png": "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\n",
      "text/plain": [
       "<matplotlib.figure.Figure at 0x1a36518ef0>"
      ]
     },
     "metadata": {},
     "output_type": "display_data"
    },
    {
     "name": "stdout",
     "output_type": "stream",
     "text": [
      "[ 0.47530948  0.53814211  0.60571623  0.49526     0.60350882  0.64953184\n",
      "  0.75565602  0.47263058  0.50067486  0.5466229   0.37353048  0.57618581\n",
      "  0.53199535  0.50865818  0.62202894  0.41526182  0.3377427   0.4476377\n",
      "  0.48519386  0.593805  ]\n"
     ]
    },
    {
     "data": {
      "image/png": "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\n",
      "text/plain": [
       "<matplotlib.figure.Figure at 0x1a24b54ac8>"
      ]
     },
     "metadata": {},
     "output_type": "display_data"
    },
    {
     "name": "stdout",
     "output_type": "stream",
     "text": [
      "[ 0.33184774  0.35215258  0.52582197  0.50350117  0.59191384  0.62189671\n",
      "  0.66882035  0.48068925  0.577157    0.4951575   0.45651503  0.52730418\n",
      "  0.60433785  0.41543485  0.39179684  0.44250786  0.3623566   0.54724106\n",
      "  0.59720066  0.64668118]\n"
     ]
    },
    {
     "data": {
      "image/png": "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\n",
      "text/plain": [
       "<matplotlib.figure.Figure at 0x1a2d400a20>"
      ]
     },
     "metadata": {},
     "output_type": "display_data"
    },
    {
     "name": "stdout",
     "output_type": "stream",
     "text": [
      "[ 0.61645927  0.50022105  0.63105882  0.40178112  0.46019148  0.48918054\n",
      "  0.50676704  0.59528845  0.52934184  0.66350674  0.66208248  0.53199488\n",
      "  0.31450191  0.48193395  0.50516867  0.61578085  0.4627487   0.47507462\n",
      "  0.43141073  0.45258832]\n"
     ]
    },
    {
     "data": {
      "image/png": "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\n",
      "text/plain": [
       "<matplotlib.figure.Figure at 0x1a2d8f69e8>"
      ]
     },
     "metadata": {},
     "output_type": "display_data"
    },
    {
     "name": "stdout",
     "output_type": "stream",
     "text": [
      "[ 0.2871      0.50813768  0.37228311  0.62159249  0.41457756  0.29784994\n",
      "  0.43621388  0.41876751  0.46453078  0.28399075  0.5038556   0.67355895\n",
      "  0.47987859  0.43573915  0.48266613  0.50988179  0.42455499  0.43542075\n",
      "  0.638427    0.53504476]\n"
     ]
    },
    {
     "data": {
      "image/png": "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\n",
      "text/plain": [
       "<matplotlib.figure.Figure at 0x1a24b40f60>"
      ]
     },
     "metadata": {},
     "output_type": "display_data"
    },
    {
     "name": "stdout",
     "output_type": "stream",
     "text": [
      "[ 0.47702729  0.35768848  0.59192165  0.41540405  0.35527287  0.57134193\n",
      "  0.46373959  0.47361947  0.57415236  0.5372698   0.48312306  0.48945318\n",
      "  0.43624199  0.4283315   0.43859125  0.44955785  0.50535069  0.69135053\n",
      "  0.4014605   0.39646488]\n"
     ]
    },
    {
     "data": {
      "image/png": "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\n",
      "text/plain": [
       "<matplotlib.figure.Figure at 0x1a29e3cc18>"
      ]
     },
     "metadata": {},
     "output_type": "display_data"
    },
    {
     "name": "stdout",
     "output_type": "stream",
     "text": [
      "[ 0.5688466   0.52670922  0.39003183  0.56656899  0.56913406  0.53692631\n",
      "  0.4402181   0.44964772  0.6968842   0.27273032  0.422212    0.53403748\n",
      "  0.36051002  0.40241208  0.58540953  0.44647391  0.68582211  0.49780312\n",
      "  0.56075655  0.31067257]\n"
     ]
    },
    {
     "data": {
      "image/png": "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\n",
      "text/plain": [
       "<matplotlib.figure.Figure at 0x1a24e40ef0>"
      ]
     },
     "metadata": {},
     "output_type": "display_data"
    },
    {
     "name": "stdout",
     "output_type": "stream",
     "text": [
      "[ 0.53209472  0.57623343  0.65558171  0.56811552  0.49284783  0.35003587\n",
      "  0.42248148  0.33750224  0.43899207  0.33364798  0.60062131  0.51324688\n",
      "  0.4018161   0.41837793  0.60882372  0.52571668  0.58694181  0.28381108\n",
      "  0.4623838   0.6019625 ]\n"
     ]
    },
    {
     "data": {
      "image/png": "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\n",
      "text/plain": [
       "<matplotlib.figure.Figure at 0x1a19402f98>"
      ]
     },
     "metadata": {},
     "output_type": "display_data"
    },
    {
     "name": "stdout",
     "output_type": "stream",
     "text": [
      "[ 0.44365322  0.50159757  0.48025555  0.69336021  0.64649752  0.42334599\n",
      "  0.30697761  0.62644346  0.484751    0.35344964  0.51727448  0.58755727\n",
      "  0.39711179  0.34423719  0.60138987  0.56903531  0.51290001  0.50550964\n",
      "  0.50542189  0.46243987]\n"
     ]
    },
    {
     "data": {
      "image/png": "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\n",
      "text/plain": [
       "<matplotlib.figure.Figure at 0x1a25b6b0b8>"
      ]
     },
     "metadata": {},
     "output_type": "display_data"
    },
    {
     "name": "stdout",
     "output_type": "stream",
     "text": [
      "[ 0.51222573  0.56340125  0.47445285  0.65678869  0.41714185  0.55124372\n",
      "  0.42697891  0.60373012  0.2871      0.45974694  0.70152148  0.59464944\n",
      "  0.56602551  0.60573636  0.38712914  0.4923644   0.38344614  0.49622531\n",
      "  0.25437248  0.49810971]\n"
     ]
    },
    {
     "data": {
      "image/png": "iVBORw0KGgoAAAANSUhEUgAAAHgAAADuCAYAAADyW8OMAAAABHNCSVQICAgIfAhkiAAAAAlwSFlzAAALEgAACxIB0t1+/AAAADl0RVh0U29mdHdhcmUAbWF0cGxvdGxpYiB2ZXJzaW9uIDIuMS4yLCBodHRwOi8vbWF0cGxvdGxpYi5vcmcvNQv5yAAABs9JREFUeJztnUmS5CgQRZ22PkLUunSIvv8JIg6R6847UCu6KUoDg7vkfP4zS7MclATSEw4SLhRijEJw+evpChBbKBgcCgaHgsGhYHAoGBwKBoeCwaFgcP5u2fj1esVt24yqQlr4fD7fMcYfV9s1Cd62Td7vd3+tiBohhK+a7RiiwaFgcCgYHAoGh4LBoWBwKBgcCgaHgsGhYHAoGBwKBoeCwaFgcCgYHAoGh4LBoWBwKBgcCgaHgsGhYHAoGBwKBoeCwaFgcJoeXbEghPB0FbqYZXUituBOZjkxKRgcCgaHgjuZpQ9+fJBlcaD2+sdZhGjDFgwOBYNDweBQMDgUDA4Fg0PB4MAJnuUe8V3ACd5j1ZscIosIXhkKBoeCwXl8skEDDqyOmVowxV4zpeBWsStPH04lWLPFprLQRU8j2Coc5+Uiyp5iFF0rd1QQYp/uvgVfHXTtVhdCgGrJrgWfya2RsLcNYis9w7XgI87kXonP/34kG6kVu+2Djw6+5oGPMR6Wh9LS3Qq+E5TWuodLwXe03jvLfhKXgvdAFWDNNIJJH+4EPzW4QRlUlbgTTHSZQrB1/4s82zSFYNLP8oKRW6/I4oJRB1Y5SwtegWUFP3G37AmWFLxCaE4sJ3h0jnk2ppwP7uHuzBAvTNGCrUMqqlyRSQRbgixXxGGIjjHuttje9NbV+twSd4JFjiUnNEL2CnJFHIdoZm/o4LIFJ5IIrUHWSmITrgUnalJda/9/NaYQnLOyrB7c9sFEBwoGh4LBoWBwKBgcCgaHgsGhYHAoGBwKBoeCwaFgcCgYHAoGh4LBoWBwKBgcCgaHgsGhYHBC41MC/4rIl111SAM/Y4w/rjZqEkzmgyEaHAoGh4LBoWBwKBgcCgaHgsGhYHAoGBwKBoeCwaFgcCgYHAoGh4LBoWBwKBicpnWyXq9X3LbNqCqkhc/n812TstMkeNs2eb/fp9ukleiYCmRLCKEqN254pbv0tuxc7ErvRNBG+2UhKksZrtZqe9euriFfgFWjbLW1KleRm9AQcUekUxFsJVdjtfaj6NL7SrtSaOqSeo+BdcNQX21W86ws+/aeetS0tNpxw1EZI5Kt352och0cQvjvK8b4xwEbkT6ys2f/27MGtUV/m76sPsMsRI+0Pg1qP1OrbqOhWrMuOeYLgmuErdEdT+WNdh9XJ+yoZItwbSbY08BDo7zyel8bqyhndi8a6bJJ65r0CTjZ0MCMoim4khnlilBwFS03VbydBBRcSRpgHQ2yPMoVmfC9SU9yJtmjXBEFwV53zIrZ9pchGhwKBoeCwaFgcLoFn10yED8MjaKvZk+0Z4VIO6pJd3tov8X7afYS7iyT8EYZElymytbkPZ2VdXZwrJPbWsreSwMamUrMy9G+I9YtuKYSLVkdZ+HeY6ZEQuPEy/ddIzMk55ZRdEv6TD54swjro4ND7VSks3Qnjf13d5lkFaryMjUO4J7kxqWZL5MCNTJI3AkW+X/n8p8tPkOkL0pYtVyLz3Ip2IryYHkb8VqwlGCUS7UWlhIs8rtkT8Kny6r0SN7vjo6EZwnvy2V0zCJGi6Va8IpQMDhqgs+e1yHPwRYMDgWDQ8HgUDA4FAyOW8GebiPOjFvBvLzSQWUpQ5E/c5I8CGqNAq1rb+39T0+iguWTiSoPn+VLKIn4Ca9H+V0129WUa7nf7pYy1EZ7CaaWFe9qKVN/PEStEreCR3Oz7k661yzfbVZlGbI06E08K/O6LDha2W+0TE1UBOfJ397ClLaAhFXWp4huNHAbou/A27oaFnVxex2cGJVg0W2I/N51eH7yQu3hM6tKjpZrefAslzbUwn0LtmZUkMdxR86wYO9n8OosvYzSzHWvZfkQjQ4Fg0PB4FAwOBQMDgWDM4Vgy7U60K/j1SYbyreSjF5jlgde83ZoWZbG/W4R/etqjRQok9kkizUsPLS0PZH5iV17oty5L1OEaA/kk/vl78rtrtibPy9/t/e3HlTuRVuta2VVbjnVp1muJhp1G17K0DqUWoYzrX7d83SpSR+stcNlOOypx1GZrf3mrKglvu/93sOBK08SzeQ4D/t3hep60eUo0+NB2OtSNEa/Hkb5e6iG6BlSWEpq63y1rqQVo41E7dGV/Oe97z3goT4tj864eXTljgPX8xl3LfjZwt2RgDc6wKFgcCgYHAoGJ7R07CGE54ehJPGJMf5ztRFbMDgUDA4Fg0PB4FAwOBQMDgWDQ8HgUDA4FAwOBYNDweBQMDgUDA4Fg0PB4FAwOBQMDgWD05r4/i0iXxYVIc38rNmoKemOzAdDNDgUDA4Fg0PB4FAwOBQMDgWDQ8HgUDA4vwAVF4gB7zWJEAAAAABJRU5ErkJggg==\n",
      "text/plain": [
       "<matplotlib.figure.Figure at 0x1a25d36e10>"
      ]
     },
     "metadata": {},
     "output_type": "display_data"
    },
    {
     "name": "stdout",
     "output_type": "stream",
     "text": [
      "[ 0.62053474  0.57259616  0.6206508   0.67913479  0.67686586  0.47447026\n",
      "  0.37936254  0.60439751  0.62808574  0.46777448  0.58640439  0.22141444\n",
      "  0.57297163  0.38421584  0.59884358  0.49715831  0.30195576  0.43173114\n",
      "  0.64100503  0.53624159]\n"
     ]
    },
    {
     "data": {
      "image/png": "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\n",
      "text/plain": [
       "<matplotlib.figure.Figure at 0x1a260acac8>"
      ]
     },
     "metadata": {},
     "output_type": "display_data"
    },
    {
     "name": "stdout",
     "output_type": "stream",
     "text": [
      "[ 0.63719862  0.56064528  0.47111785  0.43073221  0.50815833  0.54182608\n",
      "  0.61239942  0.43971451  0.49608704  0.3978675   0.55502256  0.5557195\n",
      "  0.607724    0.50752239  0.34787782  0.49849831  0.4228795   0.58972115\n",
      "  0.51700357  0.51077633]\n"
     ]
    },
    {
     "data": {
      "image/png": "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\n",
      "text/plain": [
       "<matplotlib.figure.Figure at 0x1a25acc208>"
      ]
     },
     "metadata": {},
     "output_type": "display_data"
    },
    {
     "name": "stdout",
     "output_type": "stream",
     "text": [
      "[ 0.70766593  0.63438007  0.3379061   0.62294763  0.53877386  0.58992298\n",
      "  0.31318521  0.42099041  0.46928556  0.50151497  0.48675253  0.52169749\n",
      "  0.56883719  0.54371252  0.59912522  0.49409409  0.45447088  0.46556487\n",
      "  0.47891984  0.53079744]\n"
     ]
    },
    {
     "data": {
      "image/png": "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\n",
      "text/plain": [
       "<matplotlib.figure.Figure at 0x1a25a96400>"
      ]
     },
     "metadata": {},
     "output_type": "display_data"
    },
    {
     "name": "stdout",
     "output_type": "stream",
     "text": [
      "[ 0.36951321  0.61408297  0.39814555  0.58987986  0.50184729  0.44335119\n",
      "  0.40822044  0.57638832  0.53810974  0.50660163  0.52785742  0.40080817\n",
      "  0.62946032  0.35862176  0.54172089  0.52052741  0.53403748  0.54243519\n",
      "  0.4929078   0.55831081]\n"
     ]
    },
    {
     "data": {
      "image/png": "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\n",
      "text/plain": [
       "<matplotlib.figure.Figure at 0x1a2c0356a0>"
      ]
     },
     "metadata": {},
     "output_type": "display_data"
    },
    {
     "name": "stdout",
     "output_type": "stream",
     "text": [
      "[ 0.58510196  0.59027389  0.54227638  0.51607532  0.40564702  0.43429651\n",
      "  0.49936386  0.48792666  0.46138095  0.54020868  0.53538943  0.35791463\n",
      "  0.63307768  0.38894138  0.35099175  0.65818046  0.56397852  0.58927637\n",
      "  0.60048635  0.47602883]\n"
     ]
    },
    {
     "data": {
      "image/png": "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\n",
      "text/plain": [
       "<matplotlib.figure.Figure at 0x1a2b091f28>"
      ]
     },
     "metadata": {},
     "output_type": "display_data"
    },
    {
     "name": "stdout",
     "output_type": "stream",
     "text": [
      "[ 0.55391617  0.27503899  0.53528272  0.47384298  0.55109958  0.48670774\n",
      "  0.38968324  0.47748216  0.37376373  0.37746811  0.49671976  0.49267975\n",
      "  0.60985599  0.58805009  0.31271896  0.52773723  0.50925003  0.57554202\n",
      "  0.37762728  0.45363866]\n"
     ]
    },
    {
     "data": {
      "image/png": "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\n",
      "text/plain": [
       "<matplotlib.figure.Figure at 0x1a29e5e748>"
      ]
     },
     "metadata": {},
     "output_type": "display_data"
    },
    {
     "name": "stdout",
     "output_type": "stream",
     "text": [
      "[ 0.47081725  0.55252553  0.66971431  0.50629472  0.55390415  0.45119549\n",
      "  0.49781374  0.50615424  0.3259006   0.43806634  0.36199176  0.354097\n",
      "  0.43938485  0.65651768  0.4669421   0.64787615  0.55215774  0.57794597\n",
      "  0.4841231   0.44762936]\n"
     ]
    },
    {
     "data": {
      "image/png": "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\n",
      "text/plain": [
       "<matplotlib.figure.Figure at 0x1a368fcf60>"
      ]
     },
     "metadata": {},
     "output_type": "display_data"
    },
    {
     "name": "stdout",
     "output_type": "stream",
     "text": [
      "[ 0.39874175  0.6484008   0.49586721  0.40488319  0.42432328  0.41888678\n",
      "  0.34016417  0.40725662  0.62879413  0.38701981  0.50079097  0.63335681\n",
      "  0.57346832  0.52655714  0.57178217  0.63920239  0.59840016  0.54734836\n",
      "  0.63735543  0.38022043]\n"
     ]
    },
    {
     "data": {
      "image/png": "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\n",
      "text/plain": [
       "<matplotlib.figure.Figure at 0x1a2730c320>"
      ]
     },
     "metadata": {},
     "output_type": "display_data"
    },
    {
     "name": "stdout",
     "output_type": "stream",
     "text": [
      "[ 0.44706828  0.3939436   0.3358472   0.3163462   0.58568222  0.56091498\n",
      "  0.54873155  0.49237278  0.35831444  0.50165649  0.56411932  0.56004319\n",
      "  0.40859144  0.3508511   0.4601863   0.542807    0.45202953  0.45198\n",
      "  0.40424023  0.49468103]\n"
     ]
    },
    {
     "data": {
      "image/png": "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\n",
      "text/plain": [
       "<matplotlib.figure.Figure at 0x1a27325e10>"
      ]
     },
     "metadata": {},
     "output_type": "display_data"
    },
    {
     "name": "stdout",
     "output_type": "stream",
     "text": [
      "[ 0.73991239  0.71336228  0.48056     0.54260932  0.34054133  0.46233116\n",
      "  0.55034764  0.45119549  0.4232232   0.76183832  0.45169655  0.49746341\n",
      "  0.61078705  0.40473161  0.49613593  0.40424967  0.50231062  0.57846222\n",
      "  0.47356885  0.51935184]\n"
     ]
    },
    {
     "data": {
      "image/png": "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\n",
      "text/plain": [
       "<matplotlib.figure.Figure at 0x1a24995cc0>"
      ]
     },
     "metadata": {},
     "output_type": "display_data"
    },
    {
     "name": "stdout",
     "output_type": "stream",
     "text": [
      "[ 0.41680159  0.43978119  0.40187501  0.51436541  0.32348583  0.41253593\n",
      "  0.46178964  0.45443164  0.56589075  0.59427438  0.43645846  0.27273032\n",
      "  0.77793648  0.42908833  0.44490378  0.47242194  0.58518023  0.47401019\n",
      "  0.58176645  0.46918004]\n"
     ]
    },
    {
     "data": {
      "image/png": "iVBORw0KGgoAAAANSUhEUgAAAHgAAADuCAYAAADyW8OMAAAABHNCSVQICAgIfAhkiAAAAAlwSFlzAAALEgAACxIB0t1+/AAAADl0RVh0U29mdHdhcmUAbWF0cGxvdGxpYiB2ZXJzaW9uIDIuMS4yLCBodHRwOi8vbWF0cGxvdGxpYi5vcmcvNQv5yAAABzxJREFUeJztnU2SnDAMRk0qR+hZD4fI/U/QfYhZZ+7gbEKV4xjaP5Isf3yvKpsMbQwPy8YWsMUYA8Hlx+wKEF0oGBwKBoeCwaFgcCgYHAoGh4LBoWBwfrZs/Hg84r7vSlUhLbxer+8Y48e77ZoE7/sens9nf62IGNu2fdVsxxANDgWDQ8HgUDA4FAwOBYNDweBQMDgUDA4Fg0PB4FAwOBQMDgWDQ8HgUDA4FAwOBYNDweBQMDgUDA4Fg0PB4FAwOBQMDgWD0/ToihXbtjVtzzcFneNOcKvc4zclybxQHAnuEZv/PsY4VM7xWyTRLvrgUbnS5SDhQrA3kC6U6SH66mRehUptCWf9+mpME9wrtoXacpBabM4UwZpye34/OjjzjHkf7PVEIoTjEq4GWTNaLzqmgi36XfIv00fRFKuLWQv22veiM7UPZuvVx0QwW+88XI2iiTzTBDM82zB9FB3C/yG8Rj4vkDqmCy71zz3CSZmpfXDt4IuDtH6WGWRRch/TBPfmXpE2lmnBpI/pg6yUfDBl2WJRo4NJC15xFLxinUswRINjJthri9i2DTY8h+CsBVv3uchiD1wNskKwSYe9E6aCZ2Qv9uzPa3fSg3kLlnp+SBokqSlTQrTEk4Ba9UDDTR9sOclxB7EHLgRbtN47SU2ZLlhC7l3l1eDy4bMrKLMNdw+fnUGxfZgL5nszbJneB6dQpjymgs9ab49Y7ZE3ysU2vQXXnMgZkyB8hYMQd5v8t8bVcqEnEFpvCMaCVzlpq9SzhuVWk/KyyDXTVpN4P2zDtEEWhdnAQRY4FAwOBYNDweBQMDgUDA4Fg0PB4FAwOBQMDgWDQ8HgUDA4FAwOBYNDweBQMDgUDA4Fg0PB4FAwOBQMDgWDQ8HgbC0J6Nu2/Q4hfOlVhzTwGWP8eLdRk2CyHgzR4FAwOBQMDgWDQ8HgUDA4FAwOBYNDweBQMDgUDA4Fg0PB4FAwOBQMDgWDQ8HgNL2r8vF4xH3flapCWni9Xt81KTtNgvd9D8/ns79WRIxt26py4xiiwaHgDlb6evj0j3KsxCF1pUzUrhbccvWOfgxaurWMlreS3BAct+D8u0US3zE6yvDwYcy8DloXjivBVyHQQ8uRklI6TsmvwqW4EZy2Ls2vjh0nMj2hLfuSqtdxrEd5aWSRjFzdgrWuuFTyaLlnZaQnrSVcS8hNL+QryVJ0Cy4d7GjlelvVFR5Ce4qGxCvEQ7TEAKZURk+oKoU9qfA/cst0FqU0aBZc6sNqf3NQ+8VRCRF5KB4pUzLCnP1eOuI0C7YIefkV7km05q2Sxv7cjKJzpO+B83J7Q74UVt8nXmIuWuNE5CNYa6z2u4RgLbyNsDW4teA7QMHgUDA4FAzOLQRbzBilE0Cesj3gBVvdCuX78CJ5CcEjrWLGrZCn2y/3glfMgzrwEK5dTlVeLU7MnH1qobWOWsc1JPiqUiMVzueLc+FW+Uy9++tZdTrL6BhFdT14RHKe6SBRZi+ltWqN9BqNlCVRwaVMSOnykdE4vmHBGmk2pbJH9iFVx7T1nqXe9LY+rcHksOCe5LXesntPXCmqjIbSnr/VlisZokVvk/L+V4qRiyg/UVInTmvmyk1WZU4pkUxiwJH/30yuEvJHxWglIAwJLrUOjfSaEc5OvKfcLM0yxW+TZreyM7TrZZ3vXIv7qcpRYoymF503yfCCLfEYvShYGG+SKRgcCgaHgsGhYHAo+C/ebm+kcJnRkaK9/tu6fn11IXgbQYfgWHBp4UJrOTKdT34n+SqDZaQOrfurRUywdEWlMiVa38FRs73Gg+Auc7JSzt7ZMSts1abU9LypQDNrRRq3ITqnttVoZpiUypReZJCu/zKCW0K2x8FOLdIJhip98ConWPpFLx4REWzd12rta2Z/midLSNVFZKLD62J3Su1F+C70ax+n9NuFlumDW+jJz265ALQilvvbJA8Pip2FuLOEud46r/KMlGgLlshjvipX4ze9ZXvvkg5UFhus86BmsIpkriaBQ8HgUPAAK3RDFAwOBYNDweBAzmRp0Jo44AVowe9mm1pmo95lXki9j0Qa8QfAJR6IlppAKD2zLL0PCc7eJCRRRxHBabLa8c/LCbxafvMUSnPcv8KhpYK1qz29V3UpD8uzXElEBWsuxEvMb49EFe2IpBX1xBb8R7IVr15JlLe23hMhkZ7qpdtpQS0vevSVRxpryyOtxOLpCul0nRAc5WTlI17UrMmUs2OVPD71JxtaKnt2BXt7nVIJzaSEEUQEW7zBJoR7jX6lWGYuesUBjgdcTlXmgyHJFKC7RQCXgkO4nwgtlgnRpA8KBoeCwdkaFwXYMfrhFWP89W4jtmBwKBgcCgaHgsGhYHAoGBwKBoeCwaFgcCgYHAoGh4LBoWBwKBgcCgaHgsGhYHAoGBwKBqc1L/o7hPClURHSzGfNRk1Jd2Q9GKLBoWBwKBgcCgaHgsGhYHAoGBwKBoeCwfkDPOLHjnIM2esAAAAASUVORK5CYII=\n",
      "text/plain": [
       "<matplotlib.figure.Figure at 0x1a24d52e80>"
      ]
     },
     "metadata": {},
     "output_type": "display_data"
    },
    {
     "name": "stdout",
     "output_type": "stream",
     "text": [
      "[ 0.60961978  0.53567228  0.46586207  0.30255352  0.52689121  0.40709224\n",
      "  0.52493952  0.69493205  0.57202554  0.55746192  0.31572968  0.67072493\n",
      "  0.52984893  0.56262644  0.7284065   0.44922152  0.57793941  0.60902636\n",
      "  0.69516001  0.38651072]\n"
     ]
    },
    {
     "data": {
      "image/png": "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\n",
      "text/plain": [
       "<matplotlib.figure.Figure at 0x1a26193518>"
      ]
     },
     "metadata": {},
     "output_type": "display_data"
    },
    {
     "name": "stdout",
     "output_type": "stream",
     "text": [
      "[ 0.46066637  0.72378581  0.48265125  0.60661071  0.5308796   0.58483093\n",
      "  0.31162408  0.46987407  0.3041812   0.46060543  0.38244218  0.29402553\n",
      "  0.36013386  0.38344679  0.55565601  0.42007287  0.46153459  0.41918886\n",
      "  0.46708645  0.66892894]\n"
     ]
    },
    {
     "data": {
      "image/png": "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\n",
      "text/plain": [
       "<matplotlib.figure.Figure at 0x1a26030e10>"
      ]
     },
     "metadata": {},
     "output_type": "display_data"
    },
    {
     "name": "stdout",
     "output_type": "stream",
     "text": [
      "[ 0.43134309  0.31621281  0.52480245  0.65908591  0.52213017  0.48529003\n",
      "  0.44712394  0.39498074  0.38244218  0.42272435  0.43369818  0.71940836\n",
      "  0.42695725  0.5197643   0.57722446  0.5908864   0.54959603  0.56366162\n",
      "  0.46411449  0.4425246 ]\n"
     ]
    },
    {
     "data": {
      "image/png": "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\n",
      "text/plain": [
       "<matplotlib.figure.Figure at 0x1a26014da0>"
      ]
     },
     "metadata": {},
     "output_type": "display_data"
    },
    {
     "name": "stdout",
     "output_type": "stream",
     "text": [
      "[ 0.54277995  0.60367156  0.59501066  0.51842841  0.47836621  0.39711179\n",
      "  0.34055366  0.39282664  0.55161642  0.47756718  0.51600544  0.45011946\n",
      "  0.5718543   0.54419276  0.53822601  0.48201484  0.55080699  0.51429687\n",
      "  0.44264114  0.51602237]\n"
     ]
    },
    {
     "data": {
      "image/png": "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\n",
      "text/plain": [
       "<matplotlib.figure.Figure at 0x1a25ee38d0>"
      ]
     },
     "metadata": {},
     "output_type": "display_data"
    },
    {
     "name": "stdout",
     "output_type": "stream",
     "text": [
      "[ 0.60750327  0.49187998  0.39638805  0.58756608  0.32094021  0.46886892\n",
      "  0.5728755   0.67049947  0.54380574  0.55280029  0.46714832  0.33394584\n",
      "  0.61947865  0.53030662  0.26866119  0.62942385  0.45794295  0.59941344\n",
      "  0.39324226  0.29993629]\n"
     ]
    },
    {
     "data": {
      "image/png": "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\n",
      "text/plain": [
       "<matplotlib.figure.Figure at 0x1a25eaa470>"
      ]
     },
     "metadata": {},
     "output_type": "display_data"
    },
    {
     "name": "stdout",
     "output_type": "stream",
     "text": [
      "[ 0.48420943  0.50665577  0.33583725  0.65050988  0.53239214  0.50914151\n",
      "  0.45345397  0.45375709  0.41623753  0.39801096  0.37604947  0.43525084\n",
      "  0.62988387  0.44529996  0.59836055  0.61463575  0.40622492  0.4578761\n",
      "  0.52245962  0.69734019]\n"
     ]
    },
    {
     "data": {
      "image/png": "iVBORw0KGgoAAAANSUhEUgAAAHgAAADuCAYAAADyW8OMAAAABHNCSVQICAgIfAhkiAAAAAlwSFlzAAALEgAACxIB0t1+/AAAADl0RVh0U29mdHdhcmUAbWF0cGxvdGxpYiB2ZXJzaW9uIDIuMS4yLCBodHRwOi8vbWF0cGxvdGxpYi5vcmcvNQv5yAAACE5JREFUeJztnU126ygQRlGfXoLf+GkRvf8V2IvIuLMHvUEfdQgBi58qqPr03ZEdOzLiQoEAoe04jkBw+Wt1AoguFAwOBYNDweBQMDgUDA4Fg0PB4FAwOH+3fPnxeBz7vislhbTwer0+j+P4dfW9JsH7vofn89mfKiLGtm0fNd9jiAaHgsGhYHAoGBwKBoeCwaFgcCgYHAoGh4LBoWBwmsaiLbJt2/+vuQT4J65rcCw39544F5yDkr8DJzgESo6BFEy+cC34OI5ix4q1+D9cCz5h77kMhOAQKLkEjOAcDNNgglmLfwIlmPwESjBD8k9gBOfkMmSDTTbErJBrceLDbQ3ets10SLaSNlc1uDbTrNSebduWp0VMsFSJHR16XJ2hKaslm6vBIwVltdzjOLLpXynZnOBeejIwlaEpYZVkt52sEL5mkyTklv7WkyZLuBTcK3UWlqYwxUL0uwy3cskQo91elo4/G/U2eKT3W/pfNAmaqIbomsx7F24th+FeZhcoFcE1o0y17ah2e9YSOSSOPRtxwVJiJX6LTO5F94rV7sBp1uIcMwumqOB3CR+ttWiSZ6FegyVDskfJq9thdwMd2hm2Wog0YoJnrqiYPVKkcdxZ4d9dDT7xVNNWplVNsCcByIgIXtXbZCG6xm2ILmH10mbVZZiK4Jk1C/X6VQq4Gky+AyGYbXEZCMGkzLBgC+2dhTRYBbIGM2R/IS6YmWsL9zWY4fk97gWnaEQQz1Fp+pId67+FFhGGBa8q3WgitFBbVbmC0cL2bh22V9zdfOZpUt8CIjX4DgP+Xs9n+Z0NUscbCc+16fQoWUywdmdLc0luy/G8SVa/DpbIkKtjjPxGzy49niRPGejQEDCDK8keRIsKli71Lf/Tk+FS0aUmwqwqDFMnG1o6M9oZchWaz89r2/czzS0PCpkxSDR9LPpK3ujdiTUFo7XX3Hr7TUn2ClQGOtJakKPn5ONMfnd3fm/Glq7nz79L7ggwa4hXtQZLnkTuWNLHrwmzUltHzGLK3YWax5iV4anknrsmV+wONGUsuiZkl/6n9ruSYblEbvOX9L21bY2nTjbUiu7JkNZCNPvOx1UsmU3SzISRYyNuqwS3ZId8h4IbsBZ+a6BgcCg4Aq39DYGC4aFgcCgYHAoGh4IjtMe8V0DBCdqzVrNxt/B9Bp6FprAGg0PB4FAwOBQMDgWDQ8HgUDA4FAwOBYNDweBQMDgUDA4Fg7M13rrxbwjhQy85pIHfx3H8uvpSk2DiD4ZocCgYHAoGh4LBoWBwKBgcCgaHgsGhYHAoGBwKBoeCwaFgcCgYHAoGh4LBoWBwmm4Afzwex77vSkkhLbxer8+aJTtNgvd9D8/nsz9VAPQ8hkcpHVVr4267hUPPLu65/aJrPlvJbdvgePd1iS0MrW5F7OrZhRpoPPfBEi4ebWeFq8Jg8VyH22CN7fkluWobpdvO1eebMiw4PqFU9uqTPeXN6ABpPrpvJO2iNTj3BJKWHmoLNcctPdBK4lHwozvi1ebNaNgXuUzSeiJYnAnp65FjxzW7hfj7uecoSdD6zMQrxK6DJZ7AfbUZqPTJ9x4rLYSS6ep9OGYJ0V70SC1e3V7X8k6AZC9aKiqI1OA0dEmE7NzzAyWfcNbT8Yo7bL1tcCnMt6ShBdFe9Elr5pV6uqVMXDksmDYVraF0drpVBjp627Uzs1KBGkJHn5AWgs2BjRRTY9HxZc1Jbc3u+Z3RY+TSaw1TgnNYzjwPmBdMxqDgAdgGg+Oh+aDgQaxLpmBwoAV7aCO1Mb3ornZ48mpC/wrrYXaEKYJH5oXTocCWY+WGNXPvR7C6mvLEXA3WHqKM6Tm+xpSlJmJtcKkmrG4HtcewLa6kjBFdsmNl1X8tVtMlieqKjt4QqDklKDEvrEWuvxG/70EkREtnkHSmlzpuIayrxaUFDefr3JxzD+augyUXsOXIFR5LbWicNjNLdu5ArtZL96jjwie1yJCCG5GqYaXQG69qGf2NEG4iWKLTNqPDp4G5Nng2lnrRGgwLvlqsbhl0uSE4rMG9lw3pqk1LPWdN3AkOoT8ypJdg6LU3BKeCJbiD3BBuKvguckO4qeA7QcHgUPAAHnriFGwAzcs2F0OVEgMS0osRpIRI3U9dQlywtTVLpRu2RzdBOaWMFD6N2aMUFzV4JbnVnFe1rVb6uxvca79/xXAbrLU31lk70uFFSx0brSiVjrYtX7IjnelxWI1DWO/OAaXjt6bnfJ37fJTcMXrWgqe46kVLZaSV/kGKRrrE10VL9i5z71fKsVw4SojudCclIXdriUTG9i6HSffiyO20M1qwS01JSzpzDAlOu/kaSF8jpktTR6Yec6+lkDpmd4j2GK6kpVjq0ZfoFuxN7l1x0YvWKEwStc9DIb/tSJYHORK4qMGkHwoGh4LBoWBwKBgctV605kCI1hQlIqKCR1c3tECpdYgJ1hhs1/qtEWp/u3VfMK0JFrFddnKTAh7Hq2u4OqeWApjLN4mJ/hO1h3KUPmvh3SoHFN7tL2aiBqdIh0/LG6ZIoVloxQVr1zDNNcRS9OwNlv6v1F5h5q+DtZYAaf1OK/HiQo3Cqz6bNLLpWM+a5Ku0WG/DpSWrCpbK0HQlRmsG1BQQS+IlCvOJqmALmZYWshlLdaTO22QvegYtJy5dyCwU2hbMd7LIGKKCvZXuO8AaDA4Fg0PB4GyN03RsZO3wOo7jn6svsQaDQ8HgUDA4FAwOBYNDweBQMDgUDA4Fg0PB4FAwOBQMDgWDQ8HgUDA4FAwOBYNDweBQMDitdzZ8hhA+NBJCmvld86WmRXfEHwzR4FAwOBQMDgWDQ8HgUDA4FAwOBYNDweD8AbX+1RMQ6QYVAAAAAElFTkSuQmCC\n",
      "text/plain": [
       "<matplotlib.figure.Figure at 0x1a24d4ce48>"
      ]
     },
     "metadata": {},
     "output_type": "display_data"
    },
    {
     "name": "stdout",
     "output_type": "stream",
     "text": [
      "[ 0.4185434   0.45738435  0.47836621  0.2871      0.48757816  0.36479705\n",
      "  0.4892772   0.63185428  0.51394103  0.44493898  0.56802554  0.49549295\n",
      "  0.42983561  0.26751982  0.44251786  0.54594304  0.47485879  0.4945859\n",
      "  0.37950618  0.43435051]\n"
     ]
    },
    {
     "data": {
      "image/png": "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\n",
      "text/plain": [
       "<matplotlib.figure.Figure at 0x1a249f0e48>"
      ]
     },
     "metadata": {},
     "output_type": "display_data"
    },
    {
     "name": "stdout",
     "output_type": "stream",
     "text": [
      "[ 0.46014165  0.50171031  0.37595286  0.54556447  0.7287868   0.41559632\n",
      "  0.5394883   0.64477102  0.51927905  0.54754498  0.53867681  0.3728262\n",
      "  0.39464071  0.53065223  0.43834811  0.42798564  0.54439517  0.40603267\n",
      "  0.53962099  0.51876301]\n"
     ]
    },
    {
     "data": {
      "image/png": "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\n",
      "text/plain": [
       "<matplotlib.figure.Figure at 0x1a25a44908>"
      ]
     },
     "metadata": {},
     "output_type": "display_data"
    },
    {
     "name": "stdout",
     "output_type": "stream",
     "text": [
      "[ 0.39885914  0.44988176  0.42983561  0.24205427  0.43256916  0.57012511\n",
      "  0.28743239  0.35250302  0.58280113  0.36199176  0.56176885  0.46888228\n",
      "  0.56684655  0.4209414   0.55504916  0.58006524  0.36341528  0.50821923\n",
      "  0.49711968  0.32641509]\n"
     ]
    },
    {
     "data": {
      "image/png": "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\n",
      "text/plain": [
       "<matplotlib.figure.Figure at 0x1a2d8f6e80>"
      ]
     },
     "metadata": {},
     "output_type": "display_data"
    },
    {
     "name": "stdout",
     "output_type": "stream",
     "text": [
      "[ 0.4953906   0.45135003  0.36751502  0.45786136  0.48295058  0.53071625\n",
      "  0.44521867  0.56989038  0.46893723  0.75994545  0.48528126  0.60952039\n",
      "  0.50400463  0.55047245  0.5688466   0.43063785  0.56979306  0.70884569\n",
      "  0.61684042  0.61372989]\n"
     ]
    },
    {
     "data": {
      "image/png": "iVBORw0KGgoAAAANSUhEUgAAAHgAAADuCAYAAADyW8OMAAAABHNCSVQICAgIfAhkiAAAAAlwSFlzAAALEgAACxIB0t1+/AAAADl0RVh0U29mdHdhcmUAbWF0cGxvdGxpYiB2ZXJzaW9uIDIuMS4yLCBodHRwOi8vbWF0cGxvdGxpYi5vcmcvNQv5yAAAB2hJREFUeJztnVGOmzAURU3VJaTfzR4m+19BWMR8d/bgflRUlBrws5/N9eUeaaRoQhzD4dnPxpApxhgEL9+uroBoiwSTI8HkSDA5EkyOBJMjweRIMDkSTM53y8aPxyM+n89GVREW5nn+ijH+ONvOJPj5fIb3+11eK+HGNE2fOdupiSZHgsmRYHIkmBwJJkeCyZFgciSYHAkmR4LJkWByTHPRIoRpmnbfQ1yCrAg2cCQ35/0rkGByJJgcCXYEsQ9WklUJotQ1imBy4CP4LDNFj6CrgY3gaZqyhh2IQxMkIAVbpUnyPnCCS2VJcho4wcIXqCRrLwpTiVRq22malHRtgI9gCasDRnAqIkeQi973wwj2YIQTojewghFl7dUJOYphBR+BfEDRGE7w1XIRW5YjhhI82nIZBIYRfHXkjsoQgnVFqRx4wZJbB7zgIyT3HGjBSqrqgRUsuT7ACt5Dcm0MJVhy7cAIlrw2wAgWbZBgI6PNqEEt2Ykx/ncAkZru0eSGMEAE566P7lGPPZBOwi3wgheuFI1wgpUyjOCF3qJHnwuHE5x7wHpIHl1uCGBJ1sJy4HIemeB5kC0nzQhyQwAVvJAjujTrrmkBRpEbAmATncJyQM/66No+fCS5IYBH8JrUGPkI7z56NLELwwgOIb9vbvGdozKU4IWWokcXumVIwQu5dx1ay2BiiCTLQq6wGCO93BAGj+A97iAuF7oIFv8iweRIMDkSTI4EkyPB5EgwORJMjgSTI8HkSDA5EkyOBJMjweRIMDkSTI4EkyPB5EgwORJMjgSTI8HkSDA5EkyOBJMjweRIMDkSTI4EkyPB5EgwORJMjgSTI8HkSDA5EkyOBJMjweRIMDkSTI4EkzMZn8X8K4Tw2a46wsDPGOOPs41MgsV4qIkmR4LJkWByJJgcCSZHgsmRYHIkmBwJJkeCyZFgciSYHAkmR4LJkWByJJgcCSbH9OOUj8cjPp/PRlVJM8/z39cfHx9dvxuZeZ6/3JfsvF6v+H6/qypmYfkt4PXPu2uJ0R+maZpjjK+z7Vx+XjbnR5lLxSxy15JFPtWCl4N/tk1N+bVl3JkqwTlya1GTXEex4JZye/a3lv3IbUWQTkq4n3jPkXtVwpXTFSHJDQFsHGyRu3293Wb9t/d5TxDlhlAh2CurXSdRMcbsyD07mMs2rbPv5STylOtZ32bDJOsOe54wvSIJNWrXuAyTQvh/MsIydl1vkzpg2/cRhkwt5XqWWyU4JbIkco9IlYsaNYgR7ZZk7e1YTT+Y0y+XgDh50qou3bJoi+SaxGX5nlT2vM3APU8e74TTi67j4JLm2ON7Wlys2J6wXnX2jmS3LHpbwdLoa0WLskcos1rwuklESzCEUwRLLC5QU5XCHwkmR4LBSA3xapBgMLwvkEgwOfCCvZusuwG3osMby8lRsnSn5RUlj7mFYQS3vFplfF6n27Ti9vN7l0prJEMKZm+SUydrajbQI9mCE5y6uN8qYq4kJa9Fc+8q2KPP2JPpJWdbP2u5Z5+37H+PKV7XLLrlOmnU+e714j5E4JroLZ5LdVLRhyomBJ9WC3Yc3OLAt+6Dc5MiS/J0m2GSF0iJ1hFerYvbstkzEJrC2gTLk6OJDLg1WTny0Pu7UmpkHDXVXseq6+2jaJI96uKd+HnTrQ9GEuvFCPtUlUWPsIN3B3aYJHyQYHIkmJzbTXQg0eNqkiL4YlpfqLhNBB9NSDCPBm4h+Gi5zyhz06VUNdGpg5P7v5yyPVdUIkZpjzq5PcJhD6ugvfVKre7y9yj3bB+vPLm6NNG1y1hayV1el5Zvfa7XFbjdH+yx5HO7vdcw4qg1qBXg1QK0inL4JKvVow1a0WNsa+F242DPG7u2ZXklmJ5ARfC2ufe6fSP1PSH4NY1HUWt5slDq87U0X7JTm616RtyaVredpP5/diLtLSWCWJOVemTR3nsl5ZWWU/pd3p8taSU8T2qoJroXrZcO1TS33s/zupVg74OXwjosrC3jjFsI7iG2BPipylFAE9uT242D74YEkyPBILR62Mwt+mBkzm50192FRtAuBhxNm0LfH3z1JPse6Hfke9Mkgr3klsw4nU0eXFm3nDK9qb67sCe5B/Xo6TxnV3pyvmP5nKfkVgsCXdZkLa/XeMu33Gjeaq55u6+o3dCaJjeAl+743uesU401a6wsl/U8Se375ZcL9w5IyQX1vbVStdG4Lufo/RCuzai9FyEsuC6b3UZarVxLGXvlepTTixZNfpNhknVWJrXq0aOfG2lIdLa2qxS3ZbPL6xpSzVPLpAmJVB7jsc8uEewRJWc3h42QsXqy7HPtfkNdbDha33VHYCK4llbzsC3p0W1Az0VbGC1Se+YEtd8DITgFcnM9itwQgAULHySYnMm4jhennRRzjPF1tpEimBwJJkeCyZFgciSYHAkmR4LJkWByJJgcCSZHgsmRYHIkmBwJJkeCyZFgciSYHAkmR4LJsd6b9BVC+GxREWHmZ85GpkV3YjzURJMjweRIMDkSTI4EkyPB5EgwORJMjgST8xsaOuDbOTjNKAAAAABJRU5ErkJggg==\n",
      "text/plain": [
       "<matplotlib.figure.Figure at 0x1a29e655c0>"
      ]
     },
     "metadata": {},
     "output_type": "display_data"
    },
    {
     "name": "stdout",
     "output_type": "stream",
     "text": [
      "[ 0.56727237  0.75915509  0.42574696  0.33382697  0.75921399  0.41895541\n",
      "  0.36744464  0.5457518   0.43105446  0.60825531  0.66068038  0.40321347\n",
      "  0.48632327  0.4048953   0.60899725  0.4476377   0.43232891  0.46028691\n",
      "  0.56221187  0.57557132]\n"
     ]
    },
    {
     "data": {
      "image/png": "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\n",
      "text/plain": [
       "<matplotlib.figure.Figure at 0x1a2d900470>"
      ]
     },
     "metadata": {},
     "output_type": "display_data"
    },
    {
     "name": "stdout",
     "output_type": "stream",
     "text": [
      "[ 0.66833373  0.39338636  0.66006687  0.44613012  0.51918191  0.57195787\n",
      "  0.40905745  0.46099738  0.6484008   0.52853132  0.46918004  0.627769\n",
      "  0.46647077  0.48909989  0.40148437  0.45128728  0.60660766  0.27316793\n",
      "  0.51270018  0.58294984]\n"
     ]
    },
    {
     "data": {
      "image/png": "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\n",
      "text/plain": [
       "<matplotlib.figure.Figure at 0x1a2d4342b0>"
      ]
     },
     "metadata": {},
     "output_type": "display_data"
    },
    {
     "name": "stdout",
     "output_type": "stream",
     "text": [
      "[ 0.48488279  0.43381804  0.57166818  0.56735561  0.59059424  0.45555564\n",
      "  0.40104478  0.30169135  0.40220143  0.48306851  0.60043225  0.48806289\n",
      "  0.58081893  0.5688466   0.4283356   0.4272069   0.40192019  0.43763683\n",
      "  0.60373012  0.49584839]\n"
     ]
    },
    {
     "data": {
      "image/png": "iVBORw0KGgoAAAANSUhEUgAAAHgAAADuCAYAAADyW8OMAAAABHNCSVQICAgIfAhkiAAAAAlwSFlzAAALEgAACxIB0t1+/AAAADl0RVh0U29mdHdhcmUAbWF0cGxvdGxpYiB2ZXJzaW9uIDIuMS4yLCBodHRwOi8vbWF0cGxvdGxpYi5vcmcvNQv5yAAABwdJREFUeJztnV2O2zgQBsnFHmHyHB1i738C+xDzvHMH7ZMALqM/it1ys/QVEASZyDKtUjcpss3J8zwnweWvTzdA+CLBcCQYjgTDkWA4EgxHguFIMBwJhvN3y8FfX1/zNE1OTREtvN/vn3mefx0d1yR4mqb0er2ut0qYkXP+PnOcUjQcCYYjwXAkGI4Ew5FgOBIMR4LhSDAcCYYjwXAkGI4Ew5FgOBIMR4LhSDAcCYYjwXAkGI4Ew5FgOBIMp6kuOjo558uvpW5lgRHcI7d+PUm2UvQKvTdLJBCCSUKsGV6wl1zKTTN0H7wloaUPpYjcYljBFnLr44myh0/RnhCES3AB6fFoYUjBVun5CQwpeA3JXQcjWKwjwXAkGM6Qz8Hqb8+jCIYjwQWEiY0aCYYzZB98FmJEtqIIhiPBcCQYjgTDQQ+yrkyI0AZmimA4EgwHnaJboKXmBUVw4spNSYLRclN6QIqmCzxiaMHUL4xZMmyKriPz6ZG6xbCCPSBmgaFT9BmI0lpQBMORYDgSDEeC4UgwHJRgPQv/CUqw+JNhBT/9+fYswwreQmn6/wwtWFF8zNCCt7gaxcToH17wVhS3yiLKTQmy2DDP86ogqrQWEII9oPTvw6foBYoQa1ARvJWqW15PAyU4JaakHjApWqwjwXAkGI4Ew5FgOBIMR4LhSDAcCYYjwXAkGI4Ew5FgOBIMR4LhSDAcCYYjwXAkGI4Ew5FgOBIMR4Lh5JY64pzzvymlb7/miAZ+z/P86+igJsFiPJSi4UgwHAmGI8FwJBiOBMORYDgSDEeC4UgwHAmGI8FwJBiOBMORYDgSDEeC4TRtZfj19TVP0+TUFNHC+/3+OVOy0yR4mqb0er2ut+pGlk1Jj0qSzh53Nznn3TblnE/VxuFS9FVh0TYPt7rhULvNlnf9UQQsx6T0+ej1bEfYCM45X4qq5XVHe0cvx3xSbv0r6pd/W2YTtwjuTZXLBz4TiQv1ccs5yp9bp/CeG2StfdaYCLb68PXF793BvTxvea4rF3TtNXtZ5up7WI8FTATvRcqVc1lyJRO0nLskSp9eEmaQVd4Q0Ua0R9TdSs95rKPYLEWXo9eUrt/FVpmgpGVkfZa6XZGitsQsRae0Lqflg2+lPCssBjXWadj7xgjzmFSnJq/+rCcFlo9WHt2Ih2zTPri3gb0jXe/38RLrSZhB1sJdfdnV0fUd7bN8jzAp+hPUA8NevCctruASwRGfB5+KqeCoYvciNFpbrQk1yLLiU8+oUT5/SbhBlgURL/SnePQg6wlIMJxHCx5t0uIKjxYclXCrSdac+YCNO/R1vf4O6vIdK9wFX53dOSgZvXwuq9kmrxIea7oF70WHxeL3mff7FFvti5QdugRvLfT3zmgdFQ9EuoApXZdavs7rM3UJ3lro721sHaU9N8xaxF8tx7XkqETWquIy3CDLcj577QL1XLSjrqeUdvQeR+2yuqHMBFuOVKOl4C225rx7xx7luXoxeQ5eyljKPynFGhD1stYF9XwzYq/rGGLB3zMKz944ZdVG+TML1sp3euqv6+Cwwnw92LIuq/753v/vnc+TO0bCPZivB1tGS8QLVhJtUmMN8xRtkWrqPpzUl99NuMekBY9vIzyR8KtJkttHeMGijyEFK6rPM6RgcR4JhiPBcCQYTsjnYOuarCcTUvDWYrfVt/PL96ETUvCC5RSl14K6B5bLht198LJEZlUa0/O6Pdbquj4tubx29by7VfvMi+6s8Eqfn5ZaU16/UAv+3osAXiJ6V7v22tXT5rr7CFGT5SXZO332nttyAOhdMNDVB99RLbH8bXlX90RwnVJ72nVH7VrICE7Jdj048uZl3uve3RG8NgKMxghfMfHicgRv9RseFYxWExRRb8CU/PaONp/osG5gxLQ6ElpsCELIPljY4ZVhJBiOBMORYDgSDCf0ejCZenbNa8NUCW6g5WurR+epZwG3XtM7OWMuuGz8gkWZTYSJijPzxj1bPHngsoXDWnlMz1JapClGz+9Abx3bg9k+WXt9idc868jcdS1Mf2+SB5Gid2Fv6yOP9/rYIMv74kfczGXvYkdq50J3BHtXK1rWQnstX5bnjyb5EY9Ja5mgVfbZ11qmaYtxi/lMVuTy2Z49vEbd/+sREVxjtfuP5e5+NVZPHbcIpjwibdWeXY3srUkcy+vVvdusx36NUdkq3iv//6ycretjHQzmo+ijn9Po3Q/Ma6vFBXwfHPVGu2t2T+vBH+SOm0+C4UiwMdG6hNzSoJxzrNY/m/c8z/8cHaQIhiPBcCQYjgTDkWA4EgxHguFIMBwJhiPBcCQYjgTDkWA4EgxHguFIMBwJhiPBcCQYTmtd9E9K6dujIaKZ32cOaiq6E+OhFA1HguFIMBwJhiPBcCQYjgTDkWA4EgznP7CgqX607kKkAAAAAElFTkSuQmCC\n",
      "text/plain": [
       "<matplotlib.figure.Figure at 0x1a2d5acb38>"
      ]
     },
     "metadata": {},
     "output_type": "display_data"
    },
    {
     "name": "stdout",
     "output_type": "stream",
     "text": [
      "[ 0.55015801  0.46471234  0.51949314  0.48274139  0.55979025  0.49165204\n",
      "  0.5263565   0.47386882  0.51683487  0.32503522  0.55840531  0.60903996\n",
      "  0.57428939  0.61424463  0.37000029  0.35852524  0.51622742  0.60237609\n",
      "  0.74168761  0.5555207 ]\n"
     ]
    },
    {
     "data": {
      "image/png": "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\n",
      "text/plain": [
       "<matplotlib.figure.Figure at 0x1a25c80da0>"
      ]
     },
     "metadata": {},
     "output_type": "display_data"
    },
    {
     "name": "stdout",
     "output_type": "stream",
     "text": [
      "[ 0.28421287  0.39376487  0.50823491  0.51333119  0.77010595  0.38022043\n",
      "  0.49088901  0.69917741  0.40026254  0.61498044  0.55474297  0.70933221\n",
      "  0.42451877  0.36396495  0.54228989  0.50947927  0.48315333  0.39147334\n",
      "  0.65712851  0.40813693]\n"
     ]
    },
    {
     "data": {
      "image/png": "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\n",
      "text/plain": [
       "<matplotlib.figure.Figure at 0x1a25c3b940>"
      ]
     },
     "metadata": {},
     "output_type": "display_data"
    },
    {
     "name": "stdout",
     "output_type": "stream",
     "text": [
      "[ 0.47165897  0.44193624  0.35813118  0.52860708  0.31857806  0.52662662\n",
      "  0.41833221  0.3939436   0.40276853  0.50129092  0.36411756  0.36341528\n",
      "  0.44744995  0.43854168  0.40553282  0.56216439  0.65248888  0.739638\n",
      "  0.40434951  0.52593085]\n"
     ]
    },
    {
     "data": {
      "image/png": "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\n",
      "text/plain": [
       "<matplotlib.figure.Figure at 0x1a260345f8>"
      ]
     },
     "metadata": {},
     "output_type": "display_data"
    },
    {
     "name": "stdout",
     "output_type": "stream",
     "text": [
      "[ 0.58352588  0.58726483  0.59143208  0.46993236  0.27494164  0.42681534\n",
      "  0.5308796   0.59787106  0.46985729  0.58280749  0.42432328  0.6409537\n",
      "  0.46014165  0.39307588  0.5870188   0.51752453  0.6295718   0.58396866\n",
      "  0.53716292  0.42028634]\n"
     ]
    },
    {
     "data": {
      "image/png": "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\n",
      "text/plain": [
       "<matplotlib.figure.Figure at 0x1a25ac73c8>"
      ]
     },
     "metadata": {},
     "output_type": "display_data"
    },
    {
     "name": "stdout",
     "output_type": "stream",
     "text": [
      "[ 0.48265114  0.58700391  0.59143208  0.43072     0.54334995  0.56424909\n",
      "  0.28230758  0.42821647  0.2522211   0.66417185  0.48161969  0.43417384\n",
      "  0.52885679  0.40859144  0.73933992  0.40532148  0.44529996  0.34071997\n",
      "  0.63018016  0.50752239]\n"
     ]
    },
    {
     "data": {
      "image/png": "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\n",
      "text/plain": [
       "<matplotlib.figure.Figure at 0x1a25ac2f98>"
      ]
     },
     "metadata": {},
     "output_type": "display_data"
    },
    {
     "name": "stdout",
     "output_type": "stream",
     "text": [
      "[ 0.52103371  0.37989534  0.55504916  0.36320941  0.42668964  0.44104367\n",
      "  0.58132214  0.58772991  0.42808529  0.44254389  0.42034117  0.59426729\n",
      "  0.38688049  0.45762372  0.36691916  0.70152148  0.49503418  0.45815875\n",
      "  0.51429687  0.53161421]\n"
     ]
    },
    {
     "data": {
      "image/png": "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\n",
      "text/plain": [
       "<matplotlib.figure.Figure at 0x1a29e53c18>"
      ]
     },
     "metadata": {},
     "output_type": "display_data"
    },
    {
     "name": "stdout",
     "output_type": "stream",
     "text": [
      "[ 0.47243121  0.61140379  0.68956886  0.49394713  0.33184774  0.45012445\n",
      "  0.4667158   0.39989747  0.51764601  0.58023392  0.45018657  0.53865992\n",
      "  0.59049803  0.29780636  0.45447088  0.37124573  0.56580521  0.63251575\n",
      "  0.52210087  0.45948715]\n"
     ]
    },
    {
     "data": {
      "image/png": "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\n",
      "text/plain": [
       "<matplotlib.figure.Figure at 0x1a2d900518>"
      ]
     },
     "metadata": {},
     "output_type": "display_data"
    },
    {
     "name": "stdout",
     "output_type": "stream",
     "text": [
      "[ 0.59584891  0.62216684  0.46028691  0.57518893  0.44487291  0.29521374\n",
      "  0.57331137  0.49460443  0.59531923  0.4570871   0.52742382  0.57645851\n",
      "  0.48524927  0.55805708  0.40142271  0.54157926  0.55048114  0.3908921\n",
      "  0.51882041  0.54951263]\n"
     ]
    },
    {
     "data": {
      "image/png": "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\n",
      "text/plain": [
       "<matplotlib.figure.Figure at 0x1a2d8f6400>"
      ]
     },
     "metadata": {},
     "output_type": "display_data"
    },
    {
     "name": "stdout",
     "output_type": "stream",
     "text": [
      "[ 0.62296448  0.58147011  0.44297595  0.68625068  0.49324347  0.48143913\n",
      "  0.48195642  0.27360683  0.4940027   0.51465519  0.40209417  0.53195317\n",
      "  0.69336021  0.51127832  0.58162661  0.33995471  0.53227444  0.61441332\n",
      "  0.23735745  0.50113315]\n"
     ]
    },
    {
     "data": {
      "image/png": "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\n",
      "text/plain": [
       "<matplotlib.figure.Figure at 0x1a2738c2b0>"
      ]
     },
     "metadata": {},
     "output_type": "display_data"
    },
    {
     "name": "stdout",
     "output_type": "stream",
     "text": [
      "[ 0.40873794  0.56008325  0.41005727  0.63739316  0.31832134  0.59354857\n",
      "  0.66582469  0.36411756  0.43891464  0.43184337  0.7351533   0.63852448\n",
      "  0.72166868  0.3665414   0.61486302  0.37598244  0.75438618  0.63056543\n",
      "  0.48846202  0.45205455]\n"
     ]
    },
    {
     "data": {
      "image/png": "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\n",
      "text/plain": [
       "<matplotlib.figure.Figure at 0x1a2da0d588>"
      ]
     },
     "metadata": {},
     "output_type": "display_data"
    },
    {
     "name": "stdout",
     "output_type": "stream",
     "text": [
      "[ 0.61426184  0.41006805  0.49821856  0.56340125  0.58821856  0.50210943\n",
      "  0.45142195  0.67465564  0.57474985  0.51053436  0.64466579  0.37194535\n",
      "  0.42324674  0.55806814  0.44848474  0.43256916  0.35106628  0.47197581\n",
      "  0.55751248  0.49324347]\n"
     ]
    },
    {
     "data": {
      "image/png": "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\n",
      "text/plain": [
       "<matplotlib.figure.Figure at 0x1a273ccb00>"
      ]
     },
     "metadata": {},
     "output_type": "display_data"
    },
    {
     "name": "stdout",
     "output_type": "stream",
     "text": [
      "[ 0.51203273  0.61510161  0.36846101  0.61812156  0.42809794  0.52018984\n",
      "  0.54023285  0.39563447  0.47627722  0.46178964  0.28469718  0.46564923\n",
      "  0.62798615  0.59354857  0.59692655  0.40569785  0.5009258   0.45011946\n",
      "  0.67484378  0.39677598]\n"
     ]
    },
    {
     "data": {
      "image/png": "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\n",
      "text/plain": [
       "<matplotlib.figure.Figure at 0x1a24f6ef28>"
      ]
     },
     "metadata": {},
     "output_type": "display_data"
    },
    {
     "name": "stdout",
     "output_type": "stream",
     "text": [
      "[ 0.64696323  0.48968828  0.54253992  0.77010595  0.30492508  0.75674134\n",
      "  0.54834469  0.37744546  0.65930936  0.57670754  0.46247166  0.58144942\n",
      "  0.33134743  0.42425468  0.39031336  0.47600952  0.36907614  0.51746125\n",
      "  0.57964591  0.61257011]\n"
     ]
    },
    {
     "data": {
      "image/png": "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\n",
      "text/plain": [
       "<matplotlib.figure.Figure at 0x1a273326d8>"
      ]
     },
     "metadata": {},
     "output_type": "display_data"
    },
    {
     "name": "stdout",
     "output_type": "stream",
     "text": [
      "[ 0.5733215   0.31596174  0.65153322  0.61181814  0.55630253  0.33686947\n",
      "  0.43754501  0.50795584  0.61192559  0.43073221  0.48262416  0.59087407\n",
      "  0.49932589  0.50171031  0.39885914  0.374926    0.62946032  0.50119427\n",
      "  0.513288    0.31450191]\n"
     ]
    },
    {
     "data": {
      "image/png": "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\n",
      "text/plain": [
       "<matplotlib.figure.Figure at 0x1a26012a90>"
      ]
     },
     "metadata": {},
     "output_type": "display_data"
    },
    {
     "name": "stdout",
     "output_type": "stream",
     "text": [
      "[ 0.56859359  0.29167656  0.4476377   0.31542382  0.41607565  0.54330733\n",
      "  0.39791002  0.38792886  0.38745164  0.54051218  0.56979306  0.65233552\n",
      "  0.58173971  0.48818363  0.49605013  0.6455213   0.41282995  0.62294763\n",
      "  0.43801032  0.32096872]\n"
     ]
    },
    {
     "data": {
      "image/png": "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\n",
      "text/plain": [
       "<matplotlib.figure.Figure at 0x1a25c52438>"
      ]
     },
     "metadata": {},
     "output_type": "display_data"
    },
    {
     "name": "stdout",
     "output_type": "stream",
     "text": [
      "[ 0.35411572  0.47971666  0.39524157  0.55293863  0.37853562  0.33995471\n",
      "  0.42585149  0.45958592  0.58414432  0.52542633  0.62622385  0.46674966\n",
      "  0.35570971  0.37347396  0.39851702  0.59337876  0.61691775  0.68848045\n",
      "  0.48421975  0.59985339]\n"
     ]
    },
    {
     "data": {
      "image/png": "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\n",
      "text/plain": [
       "<matplotlib.figure.Figure at 0x1a25d320f0>"
      ]
     },
     "metadata": {},
     "output_type": "display_data"
    },
    {
     "name": "stdout",
     "output_type": "stream",
     "text": [
      "[ 0.577157    0.58180906  0.65264868  0.61946182  0.59970225  0.49158259\n",
      "  0.65576131  0.49744672  0.45865219  0.54385057  0.53821901  0.25062563\n",
      "  0.53075616  0.65180948  0.24918792  0.47215525  0.48274139  0.43631365\n",
      "  0.53345514  0.52142689]\n"
     ]
    },
    {
     "data": {
      "image/png": "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\n",
      "text/plain": [
       "<matplotlib.figure.Figure at 0x1a25d39860>"
      ]
     },
     "metadata": {},
     "output_type": "display_data"
    },
    {
     "name": "stdout",
     "output_type": "stream",
     "text": [
      "[ 0.55108841  0.64469705  0.49890743  0.62389532  0.56026814  0.48952063\n",
      "  0.45994486  0.46672774  0.52598838  0.36184164  0.45290596  0.55772975\n",
      "  0.40292222  0.71471362  0.41084836  0.61042667  0.43569376  0.57123863\n",
      "  0.40299721  0.45002326]\n"
     ]
    },
    {
     "data": {
      "image/png": "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\n",
      "text/plain": [
       "<matplotlib.figure.Figure at 0x1a25ee6898>"
      ]
     },
     "metadata": {},
     "output_type": "display_data"
    },
    {
     "name": "stdout",
     "output_type": "stream",
     "text": [
      "[ 0.35667936  0.75079314  0.43616339  0.53710288  0.3802462   0.36509942\n",
      "  0.33016999  0.54672631  0.55279342  0.47912463  0.35099458  0.39463753\n",
      "  0.46903261  0.54449344  0.3616167   0.36041425  0.39285853  0.43871186\n",
      "  0.6105501   0.48351498]\n"
     ]
    },
    {
     "data": {
      "image/png": "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\n",
      "text/plain": [
       "<matplotlib.figure.Figure at 0x1a26999550>"
      ]
     },
     "metadata": {},
     "output_type": "display_data"
    },
    {
     "name": "stdout",
     "output_type": "stream",
     "text": [
      "[ 0.44244465  0.48798682  0.47226904  0.60840144  0.48242237  0.61441332\n",
      "  0.38942778  0.66287138  0.57280434  0.46821219  0.52376994  0.47612107\n",
      "  0.6627008   0.49236534  0.41288576  0.3265026   0.53008114  0.47370618\n",
      "  0.58911628  0.62587281]\n"
     ]
    },
    {
     "data": {
      "image/png": "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\n",
      "text/plain": [
       "<matplotlib.figure.Figure at 0x1a24d4c5f8>"
      ]
     },
     "metadata": {},
     "output_type": "display_data"
    },
    {
     "name": "stdout",
     "output_type": "stream",
     "text": [
      "[ 0.43794042  0.5482912   0.39941573  0.67179182  0.48852386  0.56903412\n",
      "  0.64156971  0.74168761  0.42939555  0.49075418  0.73173124  0.51610189\n",
      "  0.6870154   0.45011946  0.45947505  0.44168668  0.55104661  0.39003183\n",
      "  0.56712729  0.50781719]\n"
     ]
    },
    {
     "data": {
      "image/png": "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\n",
      "text/plain": [
       "<matplotlib.figure.Figure at 0x109d7e8d0>"
      ]
     },
     "metadata": {},
     "output_type": "display_data"
    },
    {
     "name": "stdout",
     "output_type": "stream",
     "text": [
      "[ 0.47950235  0.4882109   0.60903996  0.57950043  0.65608337  0.48528844\n",
      "  0.46585061  0.58755727  0.50419752  0.44790081  0.62806724  0.50571085\n",
      "  0.55393682  0.26323839  0.59615484  0.63355631  0.3817464   0.41567246\n",
      "  0.45025831  0.48417972]\n"
     ]
    },
    {
     "data": {
      "image/png": "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\n",
      "text/plain": [
       "<matplotlib.figure.Figure at 0x1a366591d0>"
      ]
     },
     "metadata": {},
     "output_type": "display_data"
    },
    {
     "name": "stdout",
     "output_type": "stream",
     "text": [
      "[ 0.4308033   0.51739858  0.46199998  0.57643238  0.58059161  0.5593954\n",
      "  0.51461441  0.54780246  0.42295474  0.5244236   0.61424463  0.43360318\n",
      "  0.51015041  0.3136757   0.62020139  0.38736754  0.48888294  0.39339536\n",
      "  0.55641128  0.50325121]\n"
     ]
    },
    {
     "data": {
      "image/png": "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\n",
      "text/plain": [
       "<matplotlib.figure.Figure at 0x1a29e5e438>"
      ]
     },
     "metadata": {},
     "output_type": "display_data"
    },
    {
     "name": "stdout",
     "output_type": "stream",
     "text": [
      "[ 0.54865125  0.58942547  0.54330733  0.50525636  0.54913416  0.50441968\n",
      "  0.52918461  0.47887831  0.53563892  0.38048552  0.45060888  0.51323037\n",
      "  0.56510409  0.55301033  0.50643832  0.35065359  0.4527917   0.46928556\n",
      "  0.54381114  0.50728006]\n"
     ]
    },
    {
     "data": {
      "image/png": "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\n",
      "text/plain": [
       "<matplotlib.figure.Figure at 0x1a3652ed30>"
      ]
     },
     "metadata": {},
     "output_type": "display_data"
    },
    {
     "name": "stdout",
     "output_type": "stream",
     "text": [
      "[ 0.65837841  0.43173114  0.45447088  0.46174083  0.3617832   0.43319203\n",
      "  0.64207979  0.54533392  0.37470695  0.48084121  0.43207126  0.51935184\n",
      "  0.56989038  0.44466037  0.43346996  0.4977037   0.44819918  0.50441968\n",
      "  0.5345817   0.49588549]\n"
     ]
    },
    {
     "data": {
      "image/png": "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\n",
      "text/plain": [
       "<matplotlib.figure.Figure at 0x1a2633c8d0>"
      ]
     },
     "metadata": {},
     "output_type": "display_data"
    },
    {
     "name": "stdout",
     "output_type": "stream",
     "text": [
      "[ 0.56084306  0.38388095  0.58401838  0.64489386  0.46566528  0.32900786\n",
      "  0.64919858  0.40320471  0.2871      0.47708205  0.66900224  0.65651768\n",
      "  0.47640933  0.5699514   0.29167656  0.48747649  0.52493952  0.64448518\n",
      "  0.48649397  0.53221107]\n"
     ]
    },
    {
     "data": {
      "image/png": "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\n",
      "text/plain": [
       "<matplotlib.figure.Figure at 0x1a26977208>"
      ]
     },
     "metadata": {},
     "output_type": "display_data"
    },
    {
     "name": "stdout",
     "output_type": "stream",
     "text": [
      "[ 0.60233211  0.31451474  0.62438204  0.39696258  0.43502774  0.49608704\n",
      "  0.31665247  0.70452959  0.55803467  0.56091774  0.58051501  0.40937929\n",
      "  0.43890997  0.63613689  0.30445624  0.40285986  0.41306382  0.51743901\n",
      "  0.5023095   0.58663185]\n"
     ]
    },
    {
     "data": {
      "image/png": "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\n",
      "text/plain": [
       "<matplotlib.figure.Figure at 0x1a25e1dda0>"
      ]
     },
     "metadata": {},
     "output_type": "display_data"
    },
    {
     "name": "stdout",
     "output_type": "stream",
     "text": [
      "[ 0.50471804  0.34902024  0.37620715  0.53446567  0.33010477  0.59459699\n",
      "  0.61653909  0.53403748  0.41183764  0.65277096  0.57012511  0.48370507\n",
      "  0.48003678  0.51277174  0.46549507  0.57469907  0.44043087  0.47625125\n",
      "  0.6514204   0.58100471]\n"
     ]
    },
    {
     "data": {
      "image/png": "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\n",
      "text/plain": [
       "<matplotlib.figure.Figure at 0x1a25c3fa90>"
      ]
     },
     "metadata": {},
     "output_type": "display_data"
    },
    {
     "name": "stdout",
     "output_type": "stream",
     "text": [
      "[ 0.45942246  0.33794928  0.45830683  0.35450426  0.31067257  0.4384557\n",
      "  0.60992496  0.48455531  0.53665791  0.37269874  0.44069529  0.48417972\n",
      "  0.4272069   0.49394713  0.40472635  0.52958211  0.31832134  0.29495661\n",
      "  0.70865015  0.50302404]\n"
     ]
    },
    {
     "data": {
      "image/png": "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\n",
      "text/plain": [
       "<matplotlib.figure.Figure at 0x1a25a72278>"
      ]
     },
     "metadata": {},
     "output_type": "display_data"
    },
    {
     "name": "stdout",
     "output_type": "stream",
     "text": [
      "[ 0.32076408  0.42808529  0.50863658  0.46409903  0.31405229  0.4680807\n",
      "  0.49927915  0.34640949  0.42456703  0.48056     0.63322908  0.31300619\n",
      "  0.60111355  0.66800532  0.54711605  0.41563814  0.47102429  0.50932652\n",
      "  0.45285594  0.49113777]\n"
     ]
    },
    {
     "data": {
      "image/png": "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\n",
      "text/plain": [
       "<matplotlib.figure.Figure at 0x1a2608a2b0>"
      ]
     },
     "metadata": {},
     "output_type": "display_data"
    },
    {
     "name": "stdout",
     "output_type": "stream",
     "text": [
      "[ 0.66785252  0.50402786  0.4570871   0.64513816  0.57492953  0.56532304\n",
      "  0.45418439  0.45901253  0.61326789  0.42713683  0.38968324  0.64030007\n",
      "  0.54343747  0.55132382  0.6843938   0.58870578  0.39880204  0.4404026\n",
      "  0.49193311  0.35165091]\n"
     ]
    },
    {
     "data": {
      "image/png": "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\n",
      "text/plain": [
       "<matplotlib.figure.Figure at 0x1a25a857f0>"
      ]
     },
     "metadata": {},
     "output_type": "display_data"
    },
    {
     "name": "stdout",
     "output_type": "stream",
     "text": [
      "[ 0.57519235  0.45976665  0.45976665  0.63185428  0.47242194  0.2871\n",
      "  0.63185428  0.42075283  0.66900224  0.65248888  0.43778938  0.63185428\n",
      "  0.59372731  0.67336517  0.29730989  0.59372731  0.48736749  0.42834078\n",
      "  0.44847927  0.48201484]\n"
     ]
    },
    {
     "data": {
      "image/png": "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\n",
      "text/plain": [
       "<matplotlib.figure.Figure at 0x1a368ff630>"
      ]
     },
     "metadata": {},
     "output_type": "display_data"
    },
    {
     "name": "stdout",
     "output_type": "stream",
     "text": [
      "[ 0.55725163  0.49201308  0.50279135  0.47363735  0.65602942  0.27082415\n",
      "  0.34144103  0.71642399  0.42521073  0.51482347  0.49467237  0.43037538\n",
      "  0.70152148  0.45755762  0.59952289  0.54223676  0.44744995  0.50666485\n",
      "  0.37146621  0.32238304]\n"
     ]
    },
    {
     "data": {
      "image/png": "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\n",
      "text/plain": [
       "<matplotlib.figure.Figure at 0x1a2c041550>"
      ]
     },
     "metadata": {},
     "output_type": "display_data"
    },
    {
     "name": "stdout",
     "output_type": "stream",
     "text": [
      "[ 0.49242989  0.51258746  0.43325084  0.37023798  0.66326276  0.52967365\n",
      "  0.36241626  0.3508511   0.67007073  0.3893336   0.57950043  0.54407738\n",
      "  0.52519182  0.42750093  0.40664438  0.41768591  0.46174083  0.33664107\n",
      "  0.49145107  0.48711514]\n"
     ]
    },
    {
     "data": {
      "image/png": "iVBORw0KGgoAAAANSUhEUgAAAHgAAADuCAYAAADyW8OMAAAABHNCSVQICAgIfAhkiAAAAAlwSFlzAAALEgAACxIB0t1+/AAAADl0RVh0U29mdHdhcmUAbWF0cGxvdGxpYiB2ZXJzaW9uIDIuMS4yLCBodHRwOi8vbWF0cGxvdGxpYi5vcmcvNQv5yAAABv9JREFUeJztnUmSpDgQRVFbHSFqXRyi73+CiEPkuvMO9KKNNhXGoMEdXL/eM8tFWCgJoYdmB9KyLBPo8tfTGQBfECwOgsVBsDgIFgfB4iBYHASLg2BxftQkfr1eyzzPTlmBGj6fz/eyLD+v0lUJnud5er/f7bkCM1JKXyXpaKLFQbA4CBYHweIgWBwEi4NgcRAsDoLFQbA4CBYHweIgWBwEi4NgcRAsDoLFQbA4CBYHweIgWBwEi4NgcRAsDoLFQbA4CBYHweIgWBwEi1N1+6gVKaXLNDyBz4bba3CJ3Jp0cE7oJhrJ/YQWDP2EF0wt7uORQdaWfECFUFvC1+BpQnoPt9dgpj/3Eq4GcwHYEk4w2IJgcRAsDoLFQbA4CBYHweIgWBwEi4NgcULsJpXwxIaDwrLpMIKfQCF2jCa6k+hbmQg2IKUUVjSCxRmuD77q87Y1qSd9ba1MKYXrk4cRfFfB5ZLOfvNIfjTJNNGNLMsSSuQRCBYHwZ1Er8UIdiDSlAnBTkSRPMwoupU7CnpZljBCt1CDjYjaFyNYHARviFoTW5ET3CNITe40iQ6yFEW1IleD4XcQLA6CxUGwOAgWB8GG5IECUUbyQwiOUlglRMtrSMF5IUUrsNEIu9CBWBtC1mCwA8HiIFgcBIuDYHEQLA6CxUGwOAgWB8HiIFgcBIuDYHEQLA6CxUGwOAgWB8HiIFgcBIuDYHFSTfRiSumfaZq+/LIDFfxaluXnVaIqwTAeNNHiIFgcBIuDYHEQLA6CxUGwOAgWB8HiIFgcBIuDYHEQLA6CxUGwOAgWB8HiVD0I7fV6LfM8O2UFavh8Pt8lITtVgud5nt7vd3uuwIyUUlFsnPmjDNfXq9a+x3cESl5+Fe08TQXvvXs36hvBWiiRV/v+4Jryabl4ugVvM7h+zkUrSbZmT5rlS6abBW9F7n3/ZHPVc1HV5vuqLEqP4VFeTYJLTmituU9JbpHUklerczyqyWffl+A6Dy7NVErp/7+jz55YXohWx7FoFaapsQavtfOs4Gvk5mnzz3eInaYYI9+9AaoFzTU4f/FExJdRXBFJridmTfRIBbXWlkh59ppt3LIW3Tu6tGLtViKJ3XI07Wylex7cO1re/p/XG1dGaJKPxh49eTZbyTpaooyEh1yP6aDlsUwEb6+8aLXEu1nOL+xo5266Fh3t5FbuyFfUizzsi7FGJYrYFSI6xEGwOAgWB8HiIFgcBIsTXnDklbERCC0Yuf2EFuy9aBDpAsqjWCzzZRpVGW0V54wo24ZH5WeVP9PNhpwIBXiUhzzWqzbW+ah2PRmwd4ZbE92bcevmc1tTamPG8mCB7Z516zbpHRXAtQ+2ik3ulW0RErvXfG7FRurTV0IPsqZpnH7dIp/DxmQ9hVUY6p010/q3ugVHD9PxYO+cLcogzK0re4wouXQEfZTe4xbZvRivnigRt2mSAmet01k0aCu5yK3k1uMPEbLz5AV012+f3XYbImwW+tiTaHFxSY+iAcHyIFgcBIuD4IBYrikgWBymSY2M8qA3BDewtwAR7aazFdMm2jqeKD/uE/97drzepcq71u5D98F5FEWkzYwzmdF2lcwEe8UX9T4SMQ+38YpczH+rF+sIEZM+2Kt2Wdbc7Q5NLjlKv5m3VnshQS357K7B3oW0nmjr8c9altqAOc8oyKNj5+fecrGb7wd7PJTEkkh9+UpJnh7ZD75DpKWQs5pc+v8eDx/1LEPz50V70NNE/em4PC/6rrlnCXd2FR61u5euGnw1H4x2shYchdJEbV1cliqjLUxYs9dlRLsQV5qf+B71hO5khDJomgePcGLwH2HvLgQbQm82QD8IFgfBleRPB/DalbIkpOCohbZ99MPezpTF8Y8+txA2ZKfnrvxWSn7vKJJjT7JF/nunpI8JvtrGW9Pkn0vw3M2q3ZSozYfHsu/tz+ioOfE7dqqsd6tanyrg1S3dVoOfjp44uqm65xhXaWvSeZWLq+C8qbUuGAus18xr++A7Lvru7cISauRePSahhb3aa12orcc72uu2yl+o7cKj9D1X+nZqs/ddC94XidXxw06TciwC7o7mmK2DoVH2ukMudOS09pN7Td52BG/Vwuz9Xkv+POgOurv6vjfjrcHuV9/15MtjnOBFs+DaUXGE7UOPPHjdi2WVV/cmuido3eL/vWnN31HXkw8KLQjfB0eipEuywmqOjuAKzuKzrVoZ64D4IaZJkchH43vf1eI9QENwAx611eu3Us0BUkpxRzt/Hp9lWf6+SkQfLA6CxUGwOAgWB8HiIFgcBIuDYHEQLA6CxUGwOAgWB8HiIFgcBIuDYHEQLA6CxUGwOLVBd9/TNH15ZASq+VWSqCroDsaDJlocBIuDYHEQLA6CxUGwOAgWB8HiIFicfwEbsbgnA9zw7wAAAABJRU5ErkJggg==\n",
      "text/plain": [
       "<matplotlib.figure.Figure at 0x1a2b091c88>"
      ]
     },
     "metadata": {},
     "output_type": "display_data"
    },
    {
     "name": "stdout",
     "output_type": "stream",
     "text": [
      "[ 0.51949314  0.30900224  0.53849613  0.45142195  0.59059792  0.41772027\n",
      "  0.3986756   0.68120109  0.49553705  0.3622273   0.51089696  0.54527485\n",
      "  0.57058932  0.51408963  0.42619542  0.44614937  0.40080817  0.43357378\n",
      "  0.43628104  0.53532065]\n"
     ]
    },
    {
     "data": {
      "image/png": "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\n",
      "text/plain": [
       "<matplotlib.figure.Figure at 0x1a2c037320>"
      ]
     },
     "metadata": {},
     "output_type": "display_data"
    },
    {
     "name": "stdout",
     "output_type": "stream",
     "text": [
      "[ 0.56068857  0.43906797  0.51420119  0.39585201  0.57643238  0.55944604\n",
      "  0.42892619  0.58261353  0.58356132  0.44103695  0.40292222  0.57846222\n",
      "  0.45422859  0.7137956   0.48534805  0.45578245  0.60048635  0.51007703\n",
      "  0.4994627   0.38706598]\n"
     ]
    },
    {
     "data": {
      "image/png": "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\n",
      "text/plain": [
       "<matplotlib.figure.Figure at 0x1a27384c88>"
      ]
     },
     "metadata": {},
     "output_type": "display_data"
    },
    {
     "name": "stdout",
     "output_type": "stream",
     "text": [
      "[ 0.60001587  0.46279288  0.40116303  0.37753069  0.57261515  0.53825848\n",
      "  0.63123857  0.50756647  0.4376262   0.72166868  0.50297039  0.48264336\n",
      "  0.360118    0.31621281  0.51724714  0.31665247  0.67336517  0.38027546\n",
      "  0.42853173  0.46296703]\n"
     ]
    },
    {
     "data": {
      "image/png": "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\n",
      "text/plain": [
       "<matplotlib.figure.Figure at 0x1a29e3cb38>"
      ]
     },
     "metadata": {},
     "output_type": "display_data"
    },
    {
     "name": "stdout",
     "output_type": "stream",
     "text": [
      "[ 0.4373093   0.51206907  0.55900476  0.42808427  0.56420691  0.46769675\n",
      "  0.42060512  0.53660869  0.55682978  0.46245087  0.36690254  0.35905899\n",
      "  0.46297454  0.53674823  0.47985048  0.45682947  0.45994486  0.58920457\n",
      "  0.47602883  0.5957497 ]\n"
     ]
    },
    {
     "data": {
      "image/png": "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\n",
      "text/plain": [
       "<matplotlib.figure.Figure at 0x1a2c029ac8>"
      ]
     },
     "metadata": {},
     "output_type": "display_data"
    },
    {
     "name": "stdout",
     "output_type": "stream",
     "text": [
      "[ 0.42013697  0.67707084  0.56005998  0.54864246  0.66700951  0.57460465\n",
      "  0.50776513  0.48992656  0.72555659  0.61449129  0.45396907  0.68696119\n",
      "  0.43013568  0.53877376  0.30961158  0.52046754  0.48301025  0.50241823\n",
      "  0.442373    0.40148437]\n"
     ]
    },
    {
     "data": {
      "image/png": "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\n",
      "text/plain": [
       "<matplotlib.figure.Figure at 0x1a273128d0>"
      ]
     },
     "metadata": {},
     "output_type": "display_data"
    },
    {
     "name": "stdout",
     "output_type": "stream",
     "text": [
      "[ 0.37376373  0.46290079  0.56296838  0.39999529  0.4955585   0.4946785\n",
      "  0.6104447   0.60179035  0.37822418  0.49483781  0.42412699  0.46164991\n",
      "  0.63300132  0.48977717  0.49033442  0.40187501  0.48837412  0.53624159\n",
      "  0.38498811  0.36978892]\n"
     ]
    },
    {
     "data": {
      "image/png": "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\n",
      "text/plain": [
       "<matplotlib.figure.Figure at 0x1a26006128>"
      ]
     },
     "metadata": {},
     "output_type": "display_data"
    },
    {
     "name": "stdout",
     "output_type": "stream",
     "text": [
      "[ 0.51175896  0.58051501  0.6366257   0.52062527  0.63781658  0.33997763\n",
      "  0.62885501  0.5226997   0.52540151  0.57806442  0.60683717  0.61538368\n",
      "  0.50352715  0.59097362  0.71795019  0.64759662  0.34754005  0.69355276\n",
      "  0.56337225  0.62600883]\n"
     ]
    },
    {
     "data": {
      "image/png": "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\n",
      "text/plain": [
       "<matplotlib.figure.Figure at 0x1a25c4e518>"
      ]
     },
     "metadata": {},
     "output_type": "display_data"
    },
    {
     "name": "stdout",
     "output_type": "stream",
     "text": [
      "[ 0.45095476  0.56894208  0.45790888  0.36271286  0.59064326  0.65904513\n",
      "  0.27512414  0.45974252  0.63056543  0.55900476  0.40220143  0.54174633\n",
      "  0.52620457  0.65937933  0.6526621   0.40004264  0.42858782  0.40148437\n",
      "  0.49193311  0.4104477 ]\n"
     ]
    },
    {
     "data": {
      "image/png": "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\n",
      "text/plain": [
       "<matplotlib.figure.Figure at 0x1a261875f8>"
      ]
     },
     "metadata": {},
     "output_type": "display_data"
    },
    {
     "name": "stdout",
     "output_type": "stream",
     "text": [
      "[ 0.47806767  0.50626909  0.51439067  0.48180639  0.49144114  0.45497419\n",
      "  0.354097    0.41614682  0.6578901   0.55132898  0.54259722  0.51668126\n",
      "  0.51387983  0.54961262  0.37806377  0.47187751  0.52182588  0.6217892\n",
      "  0.33832681  0.48549885]\n"
     ]
    },
    {
     "data": {
      "image/png": "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\n",
      "text/plain": [
       "<matplotlib.figure.Figure at 0x1a25d2c3c8>"
      ]
     },
     "metadata": {},
     "output_type": "display_data"
    },
    {
     "name": "stdout",
     "output_type": "stream",
     "text": [
      "[ 0.55001003  0.6368486   0.5631605   0.54297953  0.47865084  0.46486208\n",
      "  0.38790996  0.40412029  0.39053486  0.43527427  0.60277291  0.55682978\n",
      "  0.47278295  0.56911317  0.3760473   0.4426907   0.71100458  0.32367752\n",
      "  0.59725452  0.5068946 ]\n"
     ]
    },
    {
     "data": {
      "image/png": "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\n",
      "text/plain": [
       "<matplotlib.figure.Figure at 0x1a25ed72e8>"
      ]
     },
     "metadata": {},
     "output_type": "display_data"
    },
    {
     "name": "stdout",
     "output_type": "stream",
     "text": [
      "[ 0.58772991  0.46489103  0.61532715  0.42585149  0.75921399  0.45587929\n",
      "  0.43271604  0.53633555  0.53133482  0.51053476  0.47232885  0.55581681\n",
      "  0.77010595  0.56367165  0.449095    0.42425468  0.57963964  0.3402207\n",
      "  0.53940016  0.49267725]\n"
     ]
    },
    {
     "data": {
      "image/png": "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\n",
      "text/plain": [
       "<matplotlib.figure.Figure at 0x1a24b40550>"
      ]
     },
     "metadata": {},
     "output_type": "display_data"
    },
    {
     "name": "stdout",
     "output_type": "stream",
     "text": [
      "[ 0.60978553  0.47204872  0.38628469  0.34168946  0.50817957  0.56589075\n",
      "  0.50740523  0.39443137  0.4528955   0.67913479  0.48055888  0.39243894\n",
      "  0.48419546  0.67707084  0.2871      0.52995906  0.65342618  0.5153599\n",
      "  0.64787615  0.40844658]\n"
     ]
    },
    {
     "data": {
      "image/png": "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\n",
      "text/plain": [
       "<matplotlib.figure.Figure at 0x1a24a46898>"
      ]
     },
     "metadata": {},
     "output_type": "display_data"
    },
    {
     "name": "stdout",
     "output_type": "stream",
     "text": [
      "[ 0.63479519  0.66900224  0.40554066  0.47219748  0.38499176  0.41364342\n",
      "  0.5520883   0.44613012  0.69328783  0.28133566  0.38671925  0.45913243\n",
      "  0.32735629  0.56443639  0.424992    0.49586721  0.60826441  0.41951637\n",
      "  0.31439947  0.64343294]\n"
     ]
    },
    {
     "data": {
      "image/png": "iVBORw0KGgoAAAANSUhEUgAAAHgAAADuCAYAAADyW8OMAAAABHNCSVQICAgIfAhkiAAAAAlwSFlzAAALEgAACxIB0t1+/AAAADl0RVh0U29mdHdhcmUAbWF0cGxvdGxpYiB2ZXJzaW9uIDIuMS4yLCBodHRwOi8vbWF0cGxvdGxpYi5vcmcvNQv5yAAABw5JREFUeJztnVuO4zYQRckgS/B8jxaR/a/AXkR/Z/bAfBEQGEoi6yEVr+8Bgpn0yDTFIxZf5XYupSSCy19PV4D4QsHgUDA4FAwOBYNDweBQMDgUDA4Fg/P3zMWv16ts2+ZUFTLD5/P5U0r5dXXdlOBt29L7/ZbXipiRc/4ZuY4hGhwKBoeCwaFgcCgYHAoGh4LBoWBwKBgcCgaHgsGZ2osmY+ScL6+5K12ZgpWMyDx63R2SKViAVOoTfIXglYRYAyl4BaEcgy+gxDGWERxZaASRR4QWHFVqZKEt4QTfJXUlSRoeF+whtJUXNRLcwWOCtY3+LT1Qy+M9eAZKnSecYEq0JdRpEuXa81gPpsx7CNWDiT0UDA4Fg0PB4FAwOBQMDgWDQ8HgUDA45jtZvVMi7lo9h6ngoyPA/c8p+15u34tmD7+XEMeF7OF+mAruyZnN3Di6nuJluPdgq/wo9nIZt4doC+H1NRrR3xIpHh+DNcItRPfKRJIcbqOjlDLdwNZpsTlnmFTbcIIrVfSobA8hCJLDCt4zKpuS/88SgvdciZYKQRp39ywnuHIlWSJaMv5HZ1nBKV33utXDqwVLC07JJmQjPyjLC66ghVYrYASnRMk9Ht/JsqaUYnbAgQBUD65oZ8Pta1eODJCCK1LRSCdX0IK1rC43JcAxuAeCKCnsweBQMDgUDA4Fg0PB4FAwOBQMDgWDQ8HgUDA4FAwOBYNDweBQMDgUDA4Fg0PB4FAwOBQMDgWDQ8HgUDA4FAwOBYNDweBQMDgUDA4Fg0PB4FAwOBQMDgWDQ8HgUDA4FAwOBYNDweBQMDgUDA4Fg5NnfklYzvnflNKPX3XIBL9LKb+uLpoSTNaDIRocCgaHgsGhYHAoGBwKBoeCwaFgcCgYHAoGh4LBoWBwKBgcCgaHgsGhYHAoGJyp7y58vV5l2zanqpAZPp/Pn5GUnSnB27al9/strxUxI+c8lBtnFqLbb9FG/lbtleAYDM5XfH/wCoxEPEkGLKzg2SFC+lXwVmnHtRzLMlNyEGw19rblzN70VYNpG3KVOYbpGFwbTfsE1sazKOuIUsqUJE+hnmWHDdFtD7QOXRo8hRw9eNJ7dxOskTHbu67YRwTLcnLOZmX32L+PFDPB1lI8GkxTv6P6eIq1IGyITknf8yKF9TM8h6CQgnuhcAVRGrwkhxSckn788V7GeJS/H+bav0sJuVVZb05zgyMPyP49pOVb09Zb+z7he7BFGUcSte/hLdmCsIItQR+/zzAN0d/ckFEJOQYTOygYHAoGh4LBCTuLPlufcjI3jliw5/bhVdmeJzhoqEK0x3bdyIPzpNhVMjkqYsG9M1EtHlGh1q/3n/X7WFy//7lFHVVjcCs5WsgcCfVR6uw17JhMsvaV2j91URrviGj1O2pHDS7LJItUk94nJerPRnuedZaJNx51dVsH14xISaW9Tn+i0XtgrYc7940OaXrq0Q1KEtr3DRmlR/c6QP2ZZahWrYP3FTtj9Gk8Cu3te0me8vZ6aS+xXp+fXWvRi1XLJIuxVvre0fBM0tegDtGasXaEXo5S7/+v6ljL8gzTkZZdFdO86P2fWkY+BmMVCi2IKDeloKdJvagQtQErUesW9jQppfXWsREJLTiluD1jFUKGaGIHBYNDweBQMDgUDM5tgmd2kDwyL9qyIi2/evdpVT+zZdLZEZ9kk8Ly+Oyq8Z7cRPF+bxPBZ5WU5Crty9JudhydtUoyT2bqEeVXNKkFn2VZ9BpzpsxeWbO0r9EcGfaute6B0jY7Qi14JJRaHAp4faI+Cl5Jd2aTrLOz4UgTmkqkfW7PRH7Tveg22yJSI1rQ3kvvoZZOJr0wP2yQTmBWoZcv9VRmywjqj65EvCkvehO26FFK/cmGnmTrWaV1mRWrMiNLNptFW+CdD+05XHgslSwIdeCPNl5LsF5X87AhGGHXwSQmFAwOBYNDweBQMDgUDE6odXBkrnaqoq7hXQVLFu2znxiUEOWzwXfgJrjNTIiWOTFLNHGjuPdg6esiNuhVvaR17rVT+L1o6Rlp5JOZIyweSK8H+itn0XecgM3g+VC75kVLGtLyRq1DfZvjbVm+dL5yhboH7w/8218D5DFb1WDdS6zrGTbpTpsqW9nnWFtj2dvO6hdtcuiS0SEVNLLOlJRnJfcqhEacHLr+KsMoWMo9+/dI91xxWSZ5TRiexmNyVfFqr5BfEB2Rq+Ej6jqYhw0CVkruX2KjI+Lkxfo3+3mxhOCUYjZkxDq1LCF4hYaMSp5pvJwzWzoOn1LKP1cXLdGDiRwKBoeCwaFgcCgYHAoGh4LBoWBwKBgcCgaHgsGhYHAoGBwKBoeCwaFgcCgYHAoGh4LBmc2L/pNS+vGoCJnm98hFU0l3ZD0YosGhYHAoGBwKBoeCwaFgcCgYHAoGh4LB+Q9derhjbb9P8gAAAABJRU5ErkJggg==\n",
      "text/plain": [
       "<matplotlib.figure.Figure at 0x1a273844a8>"
      ]
     },
     "metadata": {},
     "output_type": "display_data"
    },
    {
     "name": "stdout",
     "output_type": "stream",
     "text": [
      "[ 0.56716293  0.56265086  0.44912337  0.5364735   0.32184777  0.43557199\n",
      "  0.64512899  0.54881269  0.59224164  0.63123857  0.52730418  0.47232885\n",
      "  0.61765253  0.63053621  0.42647807  0.68244696  0.54287102  0.47164618\n",
      "  0.6019625   0.35862176]\n"
     ]
    },
    {
     "data": {
      "image/png": "iVBORw0KGgoAAAANSUhEUgAAAHgAAADuCAYAAADyW8OMAAAABHNCSVQICAgIfAhkiAAAAAlwSFlzAAALEgAACxIB0t1+/AAAADl0RVh0U29mdHdhcmUAbWF0cGxvdGxpYiB2ZXJzaW9uIDIuMS4yLCBodHRwOi8vbWF0cGxvdGxpYi5vcmcvNQv5yAAABt5JREFUeJztnVuSpDYQRYXDS+j5Hhbh/a+gahH97dmD/MUYyzz0yCyko3siOma6mgLBUSZCErDEGIPg8sfTBRC+SDAcCYYjwXAkGI4Ew5FgOBIMR4Lh/Fmy8NfXV1zX1akoooT3+/0rxvjjbrkiweu6htfrVV8qYcayLN85yylFw5FgOBIMR4LhSDAcCYYjwXAkGI4Ew5FgOBIMR4LhSDAcCYYjwXAkGI4Ew5FgOBIMR4LhSDAcCYYjwXAkGI4Ew5FgOBIMR4LhSDCcorsLP8myLP/7TA9tK0cRDEeC4UgwnG7PwS3o/P0vuAg+krt9fvY3MjjBd8wmejrBG7NIRgkulTaDZJTgI+4aV3TJQwkubUBtcmOMv39K1kugW8GtlzVn35/tcqlbwbmQo88CXEfHbBF6x/ARLK4ZTnBrSp4tpXctWOm2na4FW3MWveSKhGtkHXGVlslyQxhU8JWwZVn+I222c25K94JjjG59zPToDWGyc/CeGeSGMIhgSxlXfdJEhhAcgo2YmcRuDCN4Y7YIbKX7RtYZNUN/aQt7BoaL4DtmH+BPGTaCr7i7Dt5/Ro9oXASnzB7ReMEh5EmmTqedQnAI+amYJnkawSHwz7dHTCU4hPmuo6cTvDGLaORlUgl0ydNG8CxIMBwJhiPBcCQYjgTDkWA4EgxHguFIMBwJhiPBcCQYjgTDkWA4EgxHguFIMBwJhiPBcCQYjgTDkWA4EgxHguFIMBwJhiPBcCQYjgTDkWA4EgxHguEsJXe4L8vydwjh2684ooCfMcYfdwsVCRbjoRQNR4LhSDAcCYYjwXAkGI4Ew5FgOBIMR4LhSDAcCYYjwXAkGI4Ew5FgOBIMp+ilHF9fX3FdV6eiiBLe7/evnCk7RYLXdQ2v16u+VMKMZVmy5sYpRcORYDhdCfZ+CyjtxZM5dPXms20Kb67kwjndpm85S8vX6/RjE8FHB6/2AFiLsF7ntl/pW8ZLt1GSTVrK7hLB6c7m7oxHCvWoMOn6atef873WY2JyDo4xnqbV0gPca6oLwbayfGo/zSJ4f/7c/9sbRymWjHmK3qJ5+38p1o2rrTxX5SqJzKPy9VxZXM7B+5RtnZ5rM8NZ4yh3u9tyte2Lp3C7TOqpVu+jN4Tn03RupbAoX1fXwZ6kDcGWlq9F1JZkq/32Sss9hOCWHdzTSwu45JTQyhCCe0r3o9FVX7SwR4LhSDAcCYYjwXAkGI4EwxniOpjMXa9Yax/AEII9Bu239YbwfEfK2fYtukSbU/R+opznyIrHup8We4dFv7fpgL9F5/jV+mvwToGtHA1BWmIm+GySXW3hr75Xss67gf5aLGdVprNhLDERfDQA3lIrz3a05QC0VrirdW7rTT9rXed+vbWYXybFGH//1JDuUJr2PzVU18t6W+nqOjiVuI+2lkpztq3WtGqdUq9mp9bSnKLTHU3TVsucrB7uRLjbBw/Jlpieg9Pa53GHQg2eadnzWtqi8ph2dHieh/aR9MmZjHep2PvcO0VPVgjPNmKe2LZVa7+rRlYuvbZYrbC8lOtW8H4H6UL3WPdqdSt4VqwrswTDkWA4EgxHguFIMBzTjo5RnjzTG0MM+IdwPpZpcae/Kksdrim6VmxaMTz6oK8eGlOzHct5aV0NF6ZYpJuz71vPX7KakXH0WAevOWSluD0nq/Z7I3fsW8zxsp5I4PYQlqfJOUglUZvbJqid+zVEI6s37mZilB7UnLbAU1noDPfrYK/HE7ZSKzdnmZ4kmz2MNITjRos1HpPd7jhrbae/W00MtKwczYLPamuNiLNWcmlEWEdQL9FYQ5PguwNZc2ByZlberbe2chGpFnwWab1AFVZKdSOrJrLEMZ7HTaNJcCQYjsvNZ6IfFMFwJBjO9IJbL+0+8XySFoYebOihz7dl+3fvf7C4U7Mpgj9Ra3uNjJTScu77rvc/VzNNajBJ0RYpahSRG/vy1sg9Yy96/1nNdkJoTNHp4EAvDxa7wjKtWzwU5urvFg+0MYvgrVD733vFqnytD5wp2UYt3Xd0PDH+S8LsISytEqxnTPayrRw854CbDPiH4Hve7U2IBZ+a2N/tdfAnKs5TqT9napNV2UxfL2vBXqx3Vnjy+17rSmkWbL2jPcwlfpopHsLyCXqsIEPcuiLyOeu1ssL8DeBeeNxwtuF5w5z3d+8YIkV7tna9G3NPM4RgsoArpn2UochnKbwlZM5Q6pN3jPGvu4UUwXAkGI4Ew5FgOBIMR4LhSDAcCYYjwXAkGI4Ew5FgOBIMR4LhSDAcCYYjwXAkGI4EwymdF/0rhPDtURBRzM+chYom3YnxUIqGI8FwJBiOBMORYDgSDEeC4UgwHAmG8w8oin8hyevJFwAAAABJRU5ErkJggg==\n",
      "text/plain": [
       "<matplotlib.figure.Figure at 0x1a36913780>"
      ]
     },
     "metadata": {},
     "output_type": "display_data"
    },
    {
     "name": "stdout",
     "output_type": "stream",
     "text": [
      "[ 0.71905309  0.5680964   0.50626909  0.72844526  0.4020864   0.55565601\n",
      "  0.53091241  0.26420876  0.63069704  0.34316967  0.31961048  0.50348264\n",
      "  0.42808795  0.44433954  0.47812057  0.655742    0.61373846  0.48341788\n",
      "  0.59603446  0.33918652]\n"
     ]
    },
    {
     "data": {
      "image/png": "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\n",
      "text/plain": [
       "<matplotlib.figure.Figure at 0x1a2699c208>"
      ]
     },
     "metadata": {},
     "output_type": "display_data"
    },
    {
     "name": "stdout",
     "output_type": "stream",
     "text": [
      "[ 0.51812985  0.64453066  0.48970618  0.4790392   0.37796756  0.53868227\n",
      "  0.47925196  0.5987542   0.58633422  0.56091498  0.34820043  0.62275411\n",
      "  0.54240624  0.66820345  0.48903706  0.55427197  0.70152148  0.65049154\n",
      "  0.5967484   0.57794445]\n"
     ]
    },
    {
     "data": {
      "image/png": "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\n",
      "text/plain": [
       "<matplotlib.figure.Figure at 0x1a2730c358>"
      ]
     },
     "metadata": {},
     "output_type": "display_data"
    },
    {
     "name": "stdout",
     "output_type": "stream",
     "text": [
      "[ 0.54521428  0.53647025  0.51891047  0.40157817  0.52486285  0.59097362\n",
      "  0.5613914   0.57131965  0.52719475  0.51927055  0.4949137   0.50146662\n",
      "  0.49163523  0.37353048  0.43787823  0.49597866  0.52621624  0.47600635\n",
      "  0.58960361  0.41865986]\n"
     ]
    },
    {
     "data": {
      "image/png": "iVBORw0KGgoAAAANSUhEUgAAAHgAAADuCAYAAADyW8OMAAAABHNCSVQICAgIfAhkiAAAAAlwSFlzAAALEgAACxIB0t1+/AAAADl0RVh0U29mdHdhcmUAbWF0cGxvdGxpYiB2ZXJzaW9uIDIuMS4yLCBodHRwOi8vbWF0cGxvdGxpYi5vcmcvNQv5yAAAB21JREFUeJztnUGanDgMRuX55giVdTjE3P8EVYfo9eQOzMoTNzFgWxLIP//bJF1NgdsPCYMFpHVdheDy190NIL5QMDgUDA4Fg0PB4FAwOBQMDgWDQ8Hg/N2z8Ov1WpdlcWoK6eHz+fxa1/XH2XJdgpdlkff7Pd4qYkZK6atlOaZocCgYHAoGh4LBoWBwKBgcCgaHgsGhYHAoGBwKBoeCwaFgcLpmk6KRUvrjMxbyf4cRDA6c4FpUPxk4wSKUXAIpmPxm6kFWHlC1RKwmqmceuEFEcE1AFppSUqfsmVM+hGCRY8kWzCoZRjCpQ8HgTD3I2rKu624q7R0ozZqStzCCwXmMYJSI7AVO8MznrB7ACRah5BJIweQ3FAwOBYNDwRWQRtxQFzpE/OTMOnBjBIMDJdgiepHSswhIiraSYnUdOxLTRzDlHjO1YLR06sF0KbpF6tG0Yc86Z49ekckEt8rVrhNBbGbqFF2yrutpleX28yekeAjBIxGHnJZLpkrR5bFVI+IJkZuZSrCIPsKO5KJFrwhIiib7TBfBLZSR2JqOEaNXBDyCny5XBDSCewZRyHJFAAUzar8DJ/iMp4jNQAl+2ilQC1CCazxVbAZ6FP10uSLgggkFw0PB4FAwONCCnzQtuAe0YBGbxyjNDLzgzFMlQwk+O+99omS4K1lnJbMjkme+YAIVwZmZhVgDKViEkjOwgkW+10o/FWjBmSeLhhtkHfFEyY+I4CdDweBQMDgUDA4Fg0PB4FAwOBQMDgWDQ8HgUDA4FAwOBYNDweBQMDgUDA4Fg0PB4FAwOBQMDgWDQ8HgUDA4FAwOBYNDweBQMDgUDA4Fg0PB4KSeWypTSv+KyJdfc0gHP9d1/XG2UJdgMh9M0eBQMDgUDA4Fg0PB4FAwOBQMDgWDQ8HgUDA4FAwOBYNDweBQMDgUDA4Fg0PB4HQ98f31eq3Lsjg1hfTw+Xx+tZTsdAlelkXe7/d4q8g3NK+kTyk11caZvLMhpfR/g2qNZt3Xn5R9Vvvd0e97MBGc3zZWe7tJhNfJtbShtzM9d+QyWLTrNHvrSik5GrU2aduq2ZFbt23Rp+av1dE2SHNcGtlWxB2yJEQEW6fhvYiz3kbLOvMy0XeEPdTnwWUHzNAJeQDTu8Mcfac3E3i8IXUPVQTX/rBt46NI10Zi+b1yXRoZ234qB6ohRtFnDYgiNzPSnppEi1HuVYNS00uV5fmb9g+PxF6bNGOFqwZ4ZoJnH4z0EG0HPMJEsDZqZ6CM4vz/GURzNqmTbaaKLtnt/cHWx5gI2aF2xiAy9rdeNdYwE2zZ2Agye9im757vjfyuB7PJhuh4tzHi6F+Ex2B4KNiQiJmMgsGhYHAuFRxxEIIOIxic4dMk62vPvdF954BmhkqQzLDg8nqsRc1TrcbJohPPqhdr225d7+h3r0SVosvJ6VoE3n3MzXL32qedILny4sbodtyuZG07VtuZFpPrVuv1iFqvHcVtskHk+8X4u49bZQXFSD1WXkftcyuOJi9Gt2Ve0VHjrrniUmbZabk9I8XuXvVmXv3jGsGZO6P3LD23rsMbrz66RHAPXseiaLfUXFV5qkrRrYXjvadLlil9b/uj2xitq66xt33L0blZ4btIvCjZQ9sui53vTGKICf9aXdJeWctd7HWkxc5ncdz07h/Xio4oo0zrdlhcxSpH99vPLFN0uEHWDFilaO9tiHA2CR4KBoeCwaFgcCgYHAoGx0Ww9hxuljv3ZsDtBvBRQdvHGMxKlLabX+go51zvnCbUdPDdl1ctCXcl66xze3aa7YNTziZDzrJG62Mcetp6VCRhgangq9KqNjP0zsUelexo2nJFKZBLBHumOO3xPa+j/Ll1u3ufaSbvp5hNKrn72Ftrh1cNs7Yq44o+Ugve+yMtOtWq8N0bS1HWwWE6H+wxn6nlLB1Hea6VV5ZxeZRh/jdCPfTehHr57xlX7LDW2S/jXvh+ZyR7VXJs8SiAD1HR0VJ/dfdgy5La32J1850X4S50zMZo6a3m+z1MNZsU4ZiupbzWnn+uLWPFFBF85R5vRUs7jySHvFTpxSxSRwl76wrp5+qdlYLBoWBwKBgcCgYnzCjau7Lhqbi82q5EMwFeuwNvdL2WzPKMLBHnio6eqbjye3vry8vO0LFRCJOivaRpM0qNu2fJeggxyOq5gXy0NKaWVbSltZ6SrZ4FEkJwDau513KHKCVbyfF8KpBFtjF7MZam07wjoaS3muOIqw4rGkyespP3Nqta5bOnz/R2gFVatmpP2RbLxzLVgB9k1QoCPbYxMqVZOyW0Jozg8vTnrP7Jqgb57qcAbeu2PTKNWvCRjNGqxVlOQbRYjgf2CPfms6PaaquR5ZMIk6Jrt5hQpp4wgkUo1IOwFzqIDRQMTupJiykl5tA4fNZ1/edsIUYwOBQMDgWDQ8HgUDA4FAwOBYNDweBQMDgUDA4Fg0PB4FAwOBQMDgWDQ8HgUDA4FAwOBYPTWzb7S0S+PBpCuvnZslBX0R2ZD6ZocCgYHAoGh4LBoWBwKBgcCgaHgsGhYHD+A1HyCV42e272AAAAAElFTkSuQmCC\n",
      "text/plain": [
       "<matplotlib.figure.Figure at 0x1a2b1380b8>"
      ]
     },
     "metadata": {},
     "output_type": "display_data"
    },
    {
     "name": "stdout",
     "output_type": "stream",
     "text": [
      "[ 0.43919355  0.53466947  0.4913795   0.55559974  0.55833565  0.35106628\n",
      "  0.36951321  0.41791117  0.43466932  0.57567768  0.5359118   0.39304115\n",
      "  0.56451269  0.62533945  0.43174134  0.5798837   0.42225019  0.4485127\n",
      "  0.44686944  0.53373632]\n"
     ]
    },
    {
     "data": {
      "image/png": "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\n",
      "text/plain": [
       "<matplotlib.figure.Figure at 0x1a29e1bda0>"
      ]
     },
     "metadata": {},
     "output_type": "display_data"
    },
    {
     "name": "stdout",
     "output_type": "stream",
     "text": [
      "[ 0.39534366  0.46922647  0.38006174  0.509124    0.56827629  0.48750132\n",
      "  0.54518675  0.54166716  0.50168862  0.41532024  0.45845419  0.31658666\n",
      "  0.37000514  0.46590231  0.63117612  0.38067114  0.45234365  0.56538971\n",
      "  0.58554406  0.48141497]\n"
     ]
    },
    {
     "data": {
      "image/png": "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\n",
      "text/plain": [
       "<matplotlib.figure.Figure at 0x1a25b8ab70>"
      ]
     },
     "metadata": {},
     "output_type": "display_data"
    },
    {
     "name": "stdout",
     "output_type": "stream",
     "text": [
      "[ 0.3125725   0.50708371  0.54858677  0.44813023  0.53279108  0.57402246\n",
      "  0.41768591  0.47382211  0.38651072  0.4187519   0.33250392  0.29621859\n",
      "  0.26323839  0.48931966  0.66452385  0.47222766  0.48784194  0.37124573\n",
      "  0.36121221  0.4348667 ]\n"
     ]
    },
    {
     "data": {
      "image/png": "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\n",
      "text/plain": [
       "<matplotlib.figure.Figure at 0x1a25c2a518>"
      ]
     },
     "metadata": {},
     "output_type": "display_data"
    },
    {
     "name": "stdout",
     "output_type": "stream",
     "text": [
      "[ 0.33576469  0.31906746  0.29583864  0.3363612   0.55163615  0.61882181\n",
      "  0.42225019  0.55796633  0.63246317  0.72225261  0.37543545  0.33916462\n",
      "  0.62587281  0.56754245  0.66180383  0.48747649  0.42565852  0.35696145\n",
      "  0.4306488   0.47743034]\n"
     ]
    },
    {
     "data": {
      "image/png": "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\n",
      "text/plain": [
       "<matplotlib.figure.Figure at 0x1a25a71470>"
      ]
     },
     "metadata": {},
     "output_type": "display_data"
    },
    {
     "name": "stdout",
     "output_type": "stream",
     "text": [
      "[ 0.36821954  0.44102493  0.26795528  0.48769964  0.38651072  0.45726242\n",
      "  0.39516792  0.35583043  0.41698344  0.58141596  0.34423719  0.59043\n",
      "  0.32633103  0.59784236  0.49424611  0.60020005  0.53871008  0.6268448\n",
      "  0.47881472  0.36121221]\n"
     ]
    },
    {
     "data": {
      "image/png": "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\n",
      "text/plain": [
       "<matplotlib.figure.Figure at 0x1a25eb8978>"
      ]
     },
     "metadata": {},
     "output_type": "display_data"
    },
    {
     "name": "stdout",
     "output_type": "stream",
     "text": [
      "[ 0.45017756  0.50296641  0.61205633  0.33364798  0.43919355  0.38701981\n",
      "  0.44433954  0.51217473  0.53987868  0.48990394  0.52393553  0.6247097\n",
      "  0.55057831  0.43997684  0.52135839  0.42378283  0.48869656  0.5557303\n",
      "  0.43360318  0.5423611 ]\n"
     ]
    },
    {
     "data": {
      "image/png": "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\n",
      "text/plain": [
       "<matplotlib.figure.Figure at 0x1a26074080>"
      ]
     },
     "metadata": {},
     "output_type": "display_data"
    },
    {
     "name": "stdout",
     "output_type": "stream",
     "text": [
      "[ 0.6455213   0.53656018  0.42823517  0.50453109  0.46617689  0.39590664\n",
      "  0.49515114  0.67049947  0.45374951  0.42933448  0.51045716  0.54306021\n",
      "  0.77010595  0.47629944  0.4780087   0.43824816  0.54439517  0.43843343\n",
      "  0.40998467  0.60785237]\n"
     ]
    },
    {
     "data": {
      "image/png": "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\n",
      "text/plain": [
       "<matplotlib.figure.Figure at 0x1a2da24208>"
      ]
     },
     "metadata": {},
     "output_type": "display_data"
    },
    {
     "name": "stdout",
     "output_type": "stream",
     "text": [
      "[ 0.6012383   0.49127928  0.37936254  0.27316793  0.51474166  0.4012605\n",
      "  0.63546177  0.40587432  0.76354544  0.43801032  0.4949137   0.4833122\n",
      "  0.29944921  0.62224516  0.27273032  0.41875425  0.47891984  0.57195808\n",
      "  0.45892331  0.45862176]\n"
     ]
    },
    {
     "data": {
      "image/png": "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\n",
      "text/plain": [
       "<matplotlib.figure.Figure at 0x1a1942fef0>"
      ]
     },
     "metadata": {},
     "output_type": "display_data"
    },
    {
     "name": "stdout",
     "output_type": "stream",
     "text": [
      "[ 0.62573936  0.27512414  0.56313372  0.32256086  0.29001576  0.35018819\n",
      "  0.33243012  0.5690835   0.45208293  0.44193624  0.65791611  0.36722884\n",
      "  0.57114238  0.45290227  0.53814211  0.45727312  0.69328783  0.44165019\n",
      "  0.52827578  0.48197481]\n"
     ]
    },
    {
     "data": {
      "image/png": "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\n",
      "text/plain": [
       "<matplotlib.figure.Figure at 0x1a24d1b630>"
      ]
     },
     "metadata": {},
     "output_type": "display_data"
    },
    {
     "name": "stdout",
     "output_type": "stream",
     "text": [
      "[ 0.44327056  0.55380406  0.64447192  0.64343294  0.44125215  0.65049154\n",
      "  0.54166716  0.48995455  0.73991239  0.43381804  0.52748964  0.55917192\n",
      "  0.4076765   0.71240306  0.43645846  0.28743239  0.53839604  0.5193551\n",
      "  0.54166716  0.36646135]\n"
     ]
    },
    {
     "data": {
      "image/png": "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\n",
      "text/plain": [
       "<matplotlib.figure.Figure at 0x1a3692a9e8>"
      ]
     },
     "metadata": {},
     "output_type": "display_data"
    },
    {
     "name": "stdout",
     "output_type": "stream",
     "text": [
      "[ 0.5962115   0.68590283  0.43890997  0.53435912  0.48202507  0.51171891\n",
      "  0.70933221  0.72995211  0.46442609  0.63221377  0.42196927  0.52676508\n",
      "  0.66613708  0.33791285  0.47100711  0.25437248  0.49078399  0.59049803\n",
      "  0.51132982  0.57745139]\n"
     ]
    },
    {
     "data": {
      "image/png": "iVBORw0KGgoAAAANSUhEUgAAAHgAAADuCAYAAADyW8OMAAAABHNCSVQICAgIfAhkiAAAAAlwSFlzAAALEgAACxIB0t1+/AAAADl0RVh0U29mdHdhcmUAbWF0cGxvdGxpYiB2ZXJzaW9uIDIuMS4yLCBodHRwOi8vbWF0cGxvdGxpYi5vcmcvNQv5yAAAB2tJREFUeJztnUt22zgQRQt9egnKOFpE738F0iI8bu8BGeQwoWGQxKcKLDy8O/MxRZG4rMKXUIgxCsHln7svgNhCweBQMDgUDA4Fg0PB4FAwOBQMDgWD82/NwY/HIz6fT6NLITW83+/PGOOPq+OqBD+fT3m9Xu1XRdQIIXyUHMcUDQ4Fg0PB4FAwOBQMDgWDQ8HgUDA4FAwOBYNDweBQMDgUDA4Fg0PB4FAwOBQMTtWKDm+EEL78zRfpvgMVwalwAiaYfIeCwZlacK7OZZr+ytSCj6Dkv0zdihb5G8Wp1O1vrZb1/vwztdZhItiq0EMIhw/PDMAIFtGtk3NiNc47GijBR9TKKD1+BslLCBaZQ4YFcILP6uISyVbRfheuWtG5wmppPMUYmwr+6DNHLfUZcB/B2oWaO99Zg2r/gM3UPdpwL1ikTXKJjKuWcqlQz5E9hWARO8kWn/XENIJF9CKlJ3JnE+9KcIzxsgBrJdcKmU3gFa4Eb2hKrjkWTa6IU8Ei19F8lWa3Y2q+rwevDS1X/eAcV31ajYJFjNwNtxG8x0LAliFaB1JyeIziKQSLlDXARuLpWs5wn6JT9gXrMWK8MZ3gPXePNLWOeY9kmhTtle0h81aFbFCwAh7FbsAL9p5CrYEXvDpDGllaE/laeE6p2kzZivb2wHiGKRocaMGrN7BEwAWTBQWvVldP2chaTVIPsBHM+vc3twmmgDEMETw6pZYsYl8F2BSdsqJcEUDBTP1fgROcY9XoFVlE8MrcKnhEOl05ekUYwfAMEzwiktjA+s7tEaz5xmDK6ulZZLBgy72sSJ7bI9gKRu9vphfM1HzOlNOFIhxvLmXKCGadW85UEUyx9UwhuFQs0/N3XAjO7e28+t4aWgwXfPbKJaXqc0sjq1cO5ZZzW4qufXmaUtu4tQ6+2sWVUvtx0ciiSDumHOgg5VAwOBQMDgWDQ8HgUDA4FAwOBYNDweBQMDgUDA4Fg0PB4FAwOBQMDgWDQ8HgUDA4FAwOBYMTaha8hRD+F5EPu8shFfyMMf64OqhKMJkPpmhwKBgcCgaHgsGhYHAoGBwKBoeCwaFgcCgYHAoGh4LBoWBwKBgcCgaHgsGhYHCq9sl6PB7x+XwaXQqp4f1+f5Ys2akS/Hw+5fV6tV8VUSOEULQ2rjtFhxC4UbdjurYyDCH82VT0TPIKC/tye157oHuvypIb83rzmuw3VvV0n12CS29kH+Uln5n5p3K2e61cb/7ns9oM2222Z3/onjq+5LMaBbv/nlq5uWpOS7aL7YQ3jp5kyx3iazLL/jPpeWsf4O082zlaPl+Cq4GOGOPwVFz7fVaNyf1Do1kGrgQf0fNklxRWS/UxS5vAVYrO0Vv/aou4ehi0vk/r2ocJrhGVO9a6+1HT+k0le47moRFc061KaY1ky1G23r5v2kg7+l8PzYJr+m53df75s/JKY9E9/5+VfZqGTdFnI1Q1dVT6EHgusD0zXGez4PQJ7h1ezI1cXf1wFrlGbSxa82nOiZ0hWjziuh9Mqf24GMmiSDtcCCZ2uBfMBlYf7gWTPswEM/J8YD6SRe5lSIpe5SHweJ+sgyuxlOhyyU7JaojW9UbelqBueIzUI5aI4G1CREPMbOPjrocqNUizgEZW8LrIPcewRpaXgtCeFPEeyaYR7G3BnMUEvXfJKu8m5QpM822B3nPl5pc9Sp761ZUa0sLqEbKXOmIBnjdUXh/V5Gg1R+93eRVgzZC3C3vOu6oYLdz1gylUF3eCiS4UDA4Fg0PB4FAwOBQMjsuRrBk4GhXz1s1zK3iGjdVyL9y1jLgdfUZjpNBtit72wdjvQqOxN4bGeLT2BEtusmI/RNuDqmDP02YiY66vdWZp/znNac3uyQZL9ufvSVfW04UppecesReJ6hYO1tNxGntheKJkL5Ke+xbpTNHWBae9xaAXare96CmHqVJ0C70RcERvN+msoaZZrl1bOFij9R2pZI3zHp2j5GFKJVpu5uK2m6TNfsOYlXA70GGBVUbQON+G9gO4TARrcyS3R7pFql4qgrXpjeIR+4NRcCetUTeqb84U3YHG2Lg1FKyAZ8kUDA4Fg0PBztDuB7MV7QDLTVeH7JO12vBgLVqrVXKo/vpobtnJLHI1r9PTPXen6KOZke1/d1GyaC+91ru26N+PiGlPbaqnaI+d/7MUmC7s84CL+eAjPKWnjXQuWGN9V4qH1Z451AQfpbvtf3dFx9kKCa31XWlbo/e8LiPYKjJy31NzPSXrnzQ2N/OS3lNUU3TrHOlZI6NHQO7Ng6PraWlgaTQuras0s4GOmpu8asH2Fv7ZNbU2sDRbvpbRryLYchGb5s1bTrB7XbMNO1Q5ok48ep/IU30MK9gaTxLP4GwSOBQMDgWDQ8EOUW3dV/Yt52hZrME7xvjf1UGMYHAoGBwKBoeCwaFgcCgYHAoGh4LBoWBwKBgcCgaHgsGhYHAoGBwKBoeCwaFgcCgYHAoGp3bh+6eIfFhcCKnmZ8lBVYvuyHwwRYNDweBQMDgUDA4Fg0PB4FAwOBQMDgWD8wtepM1KE9j2+gAAAABJRU5ErkJggg==\n",
      "text/plain": [
       "<matplotlib.figure.Figure at 0x1a24995b70>"
      ]
     },
     "metadata": {},
     "output_type": "display_data"
    },
    {
     "name": "stdout",
     "output_type": "stream",
     "text": [
      "[ 0.4528955   0.53932318  0.31813734  0.55416845  0.39791002  0.55337364\n",
      "  0.25894391  0.58809752  0.35099175  0.53816858  0.6780634   0.53373632\n",
      "  0.38868291  0.70861353  0.45518426  0.45117687  0.62911818  0.37558849\n",
      "  0.50658711  0.62706658]\n"
     ]
    },
    {
     "data": {
      "text/plain": [
       "True"
      ]
     },
     "execution_count": 480,
     "metadata": {},
     "output_type": "execute_result"
    }
   ],
   "source": [
    "from tpot import TPOTRegressor\n",
    "\n",
    "tpot_config_regressor = {\n",
    "    'sklearn.ensemble.RandomForestRegressor': {\n",
    "    'n_estimators': [5,10,20,50,100,250],\n",
    "    'min_samples_split': range(2, 21),\n",
    "    'min_samples_leaf': range(1, 21),\n",
    "    'max_features': [\"auto\", \"sqrt\", \"log2\"],\n",
    "    'n_jobs': [-1]\n",
    "    }\n",
    "}\n",
    "# 'max_depth': [2, 3, 4, 5, 6, 8, 10]        \n",
    "            \n",
    "    \n",
    "pipeline_optimizer_regressor = TPOTRegressor(generations=5, population_size=20, verbosity=2,\n",
    "                      config_dict=tpot_config_regressor)\n",
    "\n",
    "#Pairwise training instances creator, shaped for input in sklearn\n",
    "X_train, y_train = training_dataset_shaper(5000,False)\n",
    "\n",
    "pipeline_optimizer_regressor.fit(X_train, y_train)\n",
    "\n",
    "# calling score inside this function\n",
    "pipeline_score_test_regressor(100, False)\n",
    "\n",
    "for i in range(100):\n",
    "    X_test, _ = testing_dataset_shaper(20, 1)\n",
    "    results = pipeline_optimizer_regressor.predict(X_test)\n",
    "    print(results)\n",
    "\n",
    "#print(pipeline_optimizer_regressor.score(X_test, y_test))\n",
    "\n",
    "pipeline_optimizer_regressor.export('tpot_REGRESSOR_pipeline.py')"
   ]
  },
  {
   "cell_type": "code",
   "execution_count": 411,
   "metadata": {},
   "outputs": [
    {
     "name": "stdout",
     "output_type": "stream",
     "text": [
      "The total average score for 100# of runs was: -0.25945194593192333\n",
      "[ 0.43621466  0.46844895  0.49855135  0.49331865  0.49815488  0.50806607\n",
      "  0.60254379  0.59529056  0.34975262  0.39650047  0.34553322  0.47141318\n",
      "  0.4634443   0.52356156  0.5962314   0.64465393  0.42040722  0.35602034\n",
      "  0.3987375   0.42045262]\n",
      "[ 0.6047783   0.49864691  0.34552285  0.60974832  0.48453777  0.57226698\n",
      "  0.38463461  0.44136002  0.46163732  0.34677431  0.55239521  0.38995578\n",
      "  0.41127521  0.61302073  0.56301012  0.49199251  0.49202948  0.34076587\n",
      "  0.58329541  0.46481518]\n",
      "[ 0.45487627  0.43450948  0.56350265  0.55731699  0.5589978   0.3845105\n",
      "  0.45996526  0.61390973  0.63528392  0.33965109  0.62777996  0.50065994\n",
      "  0.38414627  0.51953663  0.45585733  0.49122943  0.5697502   0.55000823\n",
      "  0.47390811  0.58615767]\n",
      "[ 0.62859666  0.37418487  0.59435446  0.31336166  0.52356156  0.36640505\n",
      "  0.69640131  0.58145663  0.34264805  0.4193157   0.69249231  0.46784677\n",
      "  0.61204154  0.5015553   0.44642688  0.34746565  0.29921227  0.42818335\n",
      "  0.65376719  0.4765062 ]\n",
      "[ 0.4235901   0.5485985   0.4354029   0.59336996  0.67997619  0.42275457\n",
      "  0.56448738  0.50317114  0.45061854  0.48767598  0.33405411  0.72170644\n",
      "  0.32991108  0.34053497  0.563109    0.5432522   0.32711301  0.60135914\n",
      "  0.42125631  0.58071641]\n",
      "[ 0.43540267  0.33079308  0.62777996  0.5273027   0.46198752  0.40229618\n",
      "  0.38865893  0.53431834  0.41188415  0.34438494  0.30066117  0.58345968\n",
      "  0.51159707  0.55271565  0.46053066  0.37533532  0.42224643  0.4702255\n",
      "  0.49104396  0.42071634]\n",
      "[ 0.57223681  0.48253212  0.46970848  0.42069235  0.42706226  0.60974832\n",
      "  0.50867281  0.44857112  0.42581423  0.48474294  0.49831331  0.44017247\n",
      "  0.47029907  0.39715922  0.5585306   0.55993865  0.43051395  0.50486483\n",
      "  0.4951419   0.71265118]\n",
      "[ 0.54213115  0.69003871  0.42355466  0.43875327  0.44657182  0.40230825\n",
      "  0.6183764   0.4323205   0.36464695  0.35232433  0.45504324  0.61082418\n",
      "  0.34511745  0.2924787   0.53815898  0.55202668  0.56168171  0.47250988\n",
      "  0.50066919  0.61035809]\n",
      "[ 0.30917306  0.46812791  0.40960617  0.50090202  0.31123745  0.37292376\n",
      "  0.33338827  0.2889265   0.36521245  0.41933316  0.59063424  0.52493333\n",
      "  0.49697108  0.67207204  0.56558362  0.34728755  0.56977299  0.65509121\n",
      "  0.46527196  0.44924231]\n",
      "[ 0.37847081  0.36533594  0.45985697  0.62572697  0.46189711  0.48825832\n",
      "  0.4323205   0.53725483  0.64639339  0.41806062  0.33216272  0.5777115\n",
      "  0.50181041  0.53897698  0.48772306  0.43569253  0.39222622  0.32896728\n",
      "  0.48764497  0.66460411]\n",
      "20 way TPOT RandomForest Regressor Accuracy in 10 runs was: 0.0%\n"
     ]
    },
    {
     "data": {
      "text/plain": [
       "True"
      ]
     },
     "execution_count": 411,
     "metadata": {},
     "output_type": "execute_result"
    }
   ],
   "source": [
    "# calling TPOT score method inside this function\n",
    "pipeline_score_test_regressor(100, False)\n",
    "print(\"\\n\")\n",
    "\n",
    "cant=0\n",
    "total_runs = 10;\n",
    "N_ways=20\n",
    "for i in range(total_runs):\n",
    "    X_test, y_test = testing_dataset_shaper(N_ways, 1)\n",
    "    results = pipeline_optimizer_regressor.predict(X_test)\n",
    "    print(results)\n",
    "    if np.argmax(y_test) == np.argmin(results):\n",
    "        print(\"CORRECT!\")\n",
    "        cant = cant+1 \n",
    "\n",
    "print(\"{0} way TPOT RandomForest Regressor Accuracy in {1} runs was: {2}%\".format(N_ways,total_runs,cant*100/total_runs))\n",
    "# 1000 inputs: 21.4% accuracy -> 5 Way \n",
    "# 1000 inputs: 36% accuracy -> 20 Way \n",
    "\n",
    "# 100 inputs: 20% accuracy -> 5 Way \n",
    "# 100 inputs: 6% accuracy -> 20 Way \n",
    "\n",
    "\n",
    "#print(pipeline_optimizer_regressor.score(X_test, y_test))\n",
    "\n",
    "pipeline_optimizer_regressor.export('tpot_REGRESSOR_pipeline.py')"
   ]
  },
  {
   "cell_type": "code",
   "execution_count": 467,
   "metadata": {},
   "outputs": [
    {
     "data": {
      "text/plain": [
       "KNeighborsClassifier(algorithm='auto', leaf_size=30,\n",
       "           metric=<function custom_distance at 0x1a2b0662f0>,\n",
       "           metric_params=None, n_jobs=1, n_neighbors=1, p=2,\n",
       "           weights='uniform')"
      ]
     },
     "execution_count": 467,
     "metadata": {},
     "output_type": "execute_result"
    }
   ],
   "source": [
    "from sklearn.neighbors import KNeighborsClassifier\n",
    "\n",
    "# Custom distance function for KNN\n",
    "def custom_distance(X, Y):\n",
    "    img1 = pipeline_optimizer_regressor.predict(X.reshape(1,1))\n",
    "    img2 = pipeline_optimizer_regressor.predict(Y.reshape(1,1))\n",
    "    dist=abs(img1-img2)\n",
    "    #print(img1, img2, dist)\n",
    "    #print(\"X: \", X, X.shape)\n",
    "    #print(\"Y: \", Y, Y.shape)\n",
    "    #returns a float with the distance between the two images.\n",
    "    #return abs(dist1 - dist2)\n",
    "    return dist\n",
    "\n",
    "X_train, Y_train = training_dataset_shaper(20,False) #impossible to calculate with 100 runs which is 600 pairs\n",
    "\n",
    "knnCustomMetric = KNeighborsClassifier(n_neighbors=1, metric=custom_distance) #algorithm='ball_tree'\n",
    "knnCustomMetric.fit(X_train, Y_train)"
   ]
  },
  {
   "cell_type": "code",
   "execution_count": 477,
   "metadata": {},
   "outputs": [],
   "source": [
    "def knn_custom_metric_acc(nWay=5, tot_runs=10):\n",
    "    cant=0\n",
    "    total_runs = tot_runs;\n",
    "    N_ways=nWay\n",
    "    for i in range(total_runs):\n",
    "        X_test, y_test = testing_dataset_shaper(N_ways, 1)\n",
    "        #results = knnCustomMetric.predict(X_test)\n",
    "        results = knnCustomMetric.kneighbors(X_test,1,return_distance=False) \n",
    "        print(results)\n",
    "        print(\"*******\")\n",
    "        if np.argmax(y_test) == np.argmin(results):\n",
    "            print(\"CORRECT!\")\n",
    "            cant = cant+1 \n",
    "\n",
    "    print(\"{0} way KNN Custom Distance Metric Accuracy in {1} runs was: {2}%\".format(N_ways,total_runs,cant*100/total_runs))"
   ]
  },
  {
   "cell_type": "code",
   "execution_count": 478,
   "metadata": {},
   "outputs": [
    {
     "data": {
      "image/png": "iVBORw0KGgoAAAANSUhEUgAAAHgAAADuCAYAAADyW8OMAAAABHNCSVQICAgIfAhkiAAAAAlwSFlzAAALEgAACxIB0t1+/AAAADl0RVh0U29mdHdhcmUAbWF0cGxvdGxpYiB2ZXJzaW9uIDIuMS4yLCBodHRwOi8vbWF0cGxvdGxpYi5vcmcvNQv5yAAABOpJREFUeJzt3UuSm0gYAOEqxxxBXptDzP1PIB2i1+471CwmCGMaCVDXg8rKb+lQGEzqL9ADOaaUgrh+tN4BlWVgOAPDGRjOwHAGhjMwnIHhDAz3z5kH3263NE1ToV3RGY/H4zOl9HPvcacCT9MU7vf7+3ulbGKMH0ce5xINZ2A4A8MZGM7AcAaGMzCcgeEMDGdgOAPDGRjOwHAGhjMwnIHhDAxnYDgDwxkYzsBwBoYzMNyp70VfTYzxy5/5kxR/c4LhDAxnYDgDwxkYzsBwXb9MqqXnl2MGfmErbG9cop8gxA3BwHgG3kCZ3hA8B3/xLG4vF1VrTvACaXJn3QbOHePV39fr9IYw+BJ95EnSc9wQYIHPxNiL23vYGSrwESNM7VK35+B3jBY3hIEmeJQleW2ICR41bggDBB45bgjwwKPHDQEc2Lj/QwY27h/DXEWHMFbYGW6CaZ8GfRcu8JZR44YwSOCR4QKvp3Xk6Q0BepE1etSlbifYST2m6wk26r5uJ1jHGBjOwHAGhjMwnIHhDAxnYDgDwxkYzsBwBoYzMJyB4QwMZ2A4A8MZGM7AcAaGMzCcgeEMDGdgOAPDGRjOwHAGhjMwnIHhDAxnYDgDwxkYzsBwBoYzMJyB4QwMZ2A4A8PFk/9b2O8Qwke53dEJv1JKP/cedCqw+uMSDWdgOAPDGRjOwHAGhjMwnIHhDAxnYDgDwxkYzsBwBoYzMJyB4QwMd+o/p7zdbmmapkK7ojMej8fnka/snAo8TVO43+/v75WyiTEe+m6cSzScgeEMDGdgOAPDGTijGGOIMbbejb8gA7c60PNdIvP2rxAbGbillFJY3g7UOrKBC7lK5CqBl0vWVZauWcn9eRW51jEoGvjVwWsd+QpPtBrbP/Ve9BnLnd+6RbXkPy6l9PLv39u3XF5tZ97H+TGl9qNY4BD2dzrGWPQAb21vVnq7W9tax9x7IuYwzEVW67jPrOPn1ixwrcldn2trrhhnt1UicvMJrnWhs359Wso759SS+9U8cEnzOb721L6zvVJLdbOXSbNSB7922BxKRC4W+MgVtL7K/cRs+jKptwnrEf4qenToi6yrafGkNnBltSMbGM7AcAaGMzCcgeEMDGdgOAPDFX0vmqqnD0qcYDgDwxkYzsBw6Ius9cXQiJ9BDzXBPV395vLtwFc9aOvvQpf+gvlVISd4+d3k5bI8YuQsgXs6YKNFRk7w7Nn9yCNF/nbg9e9SXNWokbO8TFreBrl1wGrfRjriy6FnqrwObnV3nzIGnqd4727+Iz/p4JMgn6rvZF3ll2dGkj3w0fPp+ucLck9tq7saryZr4K0fFlkvz1e4w/7qV/w5ZX8dvLUM154Wp/ePIufgVwdwvSzXmqT16lFz2y1Vu8jaemOh9QEeYZKrfx68Pqi5I7c6LVwV+r1oXSBwiUkrvUr0BPmVnXfeD6fCBR415DPNl2iVVTXw1tI58vmxhqYTbNzyqp+DvQCqq9nHharDiyw4A8PFM8tmjNE19joeKaV/9x7kBMMZGM7AcAaGMzCcgeEMDGdgOAPDGRjOwHAGhjMwnIHhDAxnYDgDwxkYzsBwBoYzMJyB4QwMZ2A4A8MZGM7AcAaGMzCcgeEMDGdguLO/0fEZQvgosSM67deRB526w1/9cYmGMzCcgeEMDGdgOAPDGRjOwHAGhvsPGeeEdklv0K4AAAAASUVORK5CYII=\n",
      "text/plain": [
       "<matplotlib.figure.Figure at 0x1a29e65e80>"
      ]
     },
     "metadata": {},
     "output_type": "display_data"
    },
    {
     "name": "stdout",
     "output_type": "stream",
     "text": [
      "[[ 33]\n",
      " [ 71]\n",
      " [104]\n",
      " [ 64]\n",
      " [ 33]]\n",
      "*******\n"
     ]
    },
    {
     "data": {
      "image/png": "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\n",
      "text/plain": [
       "<matplotlib.figure.Figure at 0x1a3692e9e8>"
      ]
     },
     "metadata": {},
     "output_type": "display_data"
    },
    {
     "name": "stdout",
     "output_type": "stream",
     "text": [
      "[[112]\n",
      " [ 31]\n",
      " [ 71]\n",
      " [ 33]\n",
      " [106]]\n",
      "*******\n"
     ]
    },
    {
     "data": {
      "image/png": "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\n",
      "text/plain": [
       "<matplotlib.figure.Figure at 0x1a2d8f6710>"
      ]
     },
     "metadata": {},
     "output_type": "display_data"
    },
    {
     "name": "stdout",
     "output_type": "stream",
     "text": [
      "[[15]\n",
      " [11]\n",
      " [28]\n",
      " [ 5]\n",
      " [68]]\n",
      "*******\n",
      "5 way KNN Custom Distance Metric Accuracy in 3 runs was: 0.0%\n"
     ]
    }
   ],
   "source": [
    "knn_custom_metric_acc(5,3)"
   ]
  },
  {
   "cell_type": "code",
   "execution_count": 412,
   "metadata": {},
   "outputs": [
    {
     "name": "stdout",
     "output_type": "stream",
     "text": [
      "(2, 5, 105, 105, 1)\n",
      "[ 0.  0.  0.  1.  0.]\n"
     ]
    },
    {
     "data": {
      "image/png": "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\n",
      "text/plain": [
       "<matplotlib.figure.Figure at 0x1a24d4ccc0>"
=======
      "image/png": "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\n",
      "text/plain": [
       "<matplotlib.figure.Figure at 0x1a1c40ab00>"
>>>>>>> af54a17f2b9fb6e4fe080d554e70a998ee0d4f9f
      ]
     },
     "metadata": {},
     "output_type": "display_data"
    }
   ],
   "source": [
<<<<<<< HEAD
    "# Showing/Plotting the characters\n",
=======
    "\n",
>>>>>>> af54a17f2b9fb6e4fe080d554e70a998ee0d4f9f
    "def concat_images(X):\n",
    "    \"\"\"Concatenates a bunch of images into a big matrix for plotting purposes.\"\"\"\n",
    "    nc,h,w,_ = X.shape\n",
    "    X = X.reshape(nc,h,w)\n",
    "    n = np.ceil(np.sqrt(nc)).astype(\"int8\")\n",
    "    img = np.zeros((n*w,n*h))\n",
    "    x = 0\n",
    "    y = 0\n",
    "    for example in range(nc):\n",
    "        img[x*w:(x+1)*w,y*h:(y+1)*h] = X[example]\n",
    "        y += 1\n",
    "        if y >= n:\n",
    "            y = 0\n",
    "            x += 1\n",
    "    return img\n",
    "\n",
    "\n",
    "def plot_oneshot_task(pairs):\n",
    "    \"\"\"Takes a one-shot task (in pairs) given and returns the plot of the selected characters to train \"\"\"\n",
    "    fig,(ax1,ax2) = plt.subplots(2)\n",
    "    ax1.matshow(pairs[0][0].reshape(105,105),cmap='gray')\n",
    "    img = concat_images(pairs[1])\n",
    "    ax1.get_yaxis().set_visible(False)\n",
    "    ax1.get_xaxis().set_visible(False)\n",
    "    ax2.matshow(img,cmap='gray')\n",
    "    plt.xticks([])\n",
    "    plt.yticks([])\n",
    "    plt.show()\n",
    "\n",
<<<<<<< HEAD
    "def plot_oneshot_task_n(pairs,i):\n",
    "    \"\"\"Takes a one-shot task (in pairs) given and returns the plot of the selected characters to train \"\"\"\n",
    "    fig,(ax1,ax2) = plt.subplots(2)\n",
    "    #ax1.matshow(pairs[0][0].reshape(105,105),cmap='gray')\n",
    "    \"\"\"\n",
    "    if i <= 1:\n",
    "        ax1.matshow(pairs[i][0].reshape(105,105),cmap='gray')\n",
    "    else:\n",
    "        ax1.matshow(pairs[1][i-1].reshape(105,105),cmap='gray')\n",
    "    \"\"\"\n",
    "    # show all the characters selected to train/train in the array\n",
    "    ax1.matshow(pairs[0][i].reshape(105,105),cmap='gray')\n",
    "\n",
    "    img = concat_images(pairs[1])\n",
    "    ax1.get_yaxis().set_visible(False)\n",
    "    ax1.get_xaxis().set_visible(False)\n",
    "    ax2.matshow(img,cmap='gray')\n",
    "    plt.xticks([])\n",
    "    plt.yticks([])\n",
    "    plt.show()\n",
    "\n",
    "    \n",
    "#Examples of one-shot learning tasks in the training dataset \n",
    "pairs, targets = loader.make_oneshot_task(5,\"train\",\"Greek\")\n",
    "#plot_oneshot_task(pairs)\n",
    "print(array(pairs).shape)\n",
    "print (targets)\n",
    "\n",
    "\"\"\"\n",
    "for i in range(0, 5):\n",
    "    plot_oneshot_task_n(pairs,i)\n",
    "\"\"\"\n",
    "\n",
    "pairs, targets = loader.make_oneshot_task(5,\"train\",\"Japanese_(katakana)\")\n",
    "plot_oneshot_task(pairs)\n"
   ]
  },
  {
   "cell_type": "markdown",
   "metadata": {},
   "source": [
    " "
   ]
  },
  {
   "cell_type": "code",
   "execution_count": null,
   "metadata": {},
   "outputs": [],
   "source": []
  },
  {
   "cell_type": "code",
   "execution_count": 433,
   "metadata": {},
   "outputs": [],
   "source": [
    "from scipy.spatial.distance import directed_hausdorff\n",
    "from scipy.spatial.distance import cosine\n",
    "\n",
    "def k_nearest_neighbour_correct(pairs,targets):\n",
    "    \"\"\"returns 1 if nearest neighbour gets the correct answer for a one-shot task\n",
    "        given by (pairs, targets)\"\"\"\n",
    "    L2_distances = np.zeros_like(targets)\n",
    "    for i in range(len(targets)):\n",
    "        L2_distances[i] = np.sum(np.sqrt(pairs[0][i]**2 - pairs[1][i]**2))\n",
    "    if np.argmin(L2_distances) == np.argmax(targets):\n",
    "        return 1\n",
    "    return 0\n",
    "\n",
    "######################################################\n",
    "# Test Knn accuracy with L2 distance\n",
    "def test_knn_accuracy(N_ways,n_trials,loader):\n",
    "    \"\"\"Returns accuracy of one shot \"\"\"\n",
    "    print(\"Evaluating KNN with L2 DISTANCE on {} unique {} way one-shot learning tasks ...\".format(n_trials,N_ways))\n",
    "\n",
    "    n_right = 0\n",
    "    \n",
    "    for i in range(n_trials):\n",
    "        pairs,targets = loader.make_oneshot_task(N_ways,\"val\")\n",
    "        correct = k_nearest_neighbour_correct(pairs,targets)\n",
    "        n_right += correct\n",
    "    return 100.0 * n_right / n_trials\n",
    "\n",
    "\n",
    "####################################################\n",
    "\n",
    "def k_nearest_neighbour_hausdorff(pairs,targets):\n",
    "    \"\"\"returns 1 if nearest neighbour gets the correct answer for a one-shot task\n",
    "        given by (pairs, targets)\"\"\"\n",
    "\n",
    "    hausdorff_distances=[None]*len(targets)\n",
    "    for i in range(0,len(targets)):\n",
    "        hausdorff_distances[i] = directed_hausdorff(pairs[0][0].reshape(105,105), pairs[1][i].reshape(105,105),13)\n",
    "        #print(\"The distance is: {0}\".format(hausdorff_distances[i][0]))    \n",
    "    if np.argmin(hausdorff_distances) == np.argmax(targets):\n",
    "        return 1\n",
    "    return 0\n",
    "\n",
    "def test_knn_hausdorff_accuracy(N_ways,n_trials,loader):\n",
    "    \"\"\"Returns accuracy of one shot \"\"\"\n",
    "    print(\"Evaluating KNN with HAUSDORFF on {} unique {} way one-shot learning tasks ...\".format(n_trials,N_ways))\n",
    "\n",
    "    n_right = 0\n",
    "    \n",
    "    for i in range(n_trials):\n",
    "        pairs,targets = loader.make_oneshot_task(N_ways,\"val\")\n",
    "        correct = k_nearest_neighbour_hausdorff(pairs,targets)\n",
    "        n_right += correct\n",
    "    return 100.0 * n_right / n_trials\n",
    "\n",
    "######################################################\n",
    "\n",
    "def k_nearest_neighbour_cosine(pairs,targets):\n",
    "    \"\"\"returns 1 if nearest neighbour gets the correct answer for a one-shot task\n",
    "        given by (pairs, targets)\"\"\"\n",
    "\n",
    "    cosine_distances=[None]*len(targets)\n",
    "    for i in range(0,len(targets)):\n",
    "        cosine_distances[i] = cosine(pairs[0][i].reshape(105,105).flatten(), pairs[1][i].reshape(105,105).flatten())\n",
    "    if np.argmin(cosine_distances) == np.argmax(targets):\n",
    "        return 1\n",
    "    return 0\n",
    "\n",
    "def test_knn_cosine_accuracy(N_ways,n_trials,loader):\n",
    "    \"\"\"Returns accuracy of one shot \"\"\"\n",
    "    print(\"Evaluating KNN with COSINE distance on {} unique {} way one-shot learning tasks ...\".format(n_trials,N_ways))\n",
    "    n_right = 0\n",
    "    for i in range(n_trials):\n",
    "        pairs,targets = loader.make_oneshot_task(N_ways,\"val\")\n",
    "        correct = k_nearest_neighbour_cosine(pairs,targets)\n",
    "        n_right += correct\n",
    "    return 100.0 * n_right / n_trials\n",
    "\n",
    "######################################################\n",
    "\n",
    "\n",
    "ways = np.arange(1, 60, 2)\n",
    "resume =  False\n",
    "val_accs, train_accs,knn_accs = [], [], []\n",
    "trials = 450\n",
    "#for N in ways:\n",
    "    #val_accs.append(loader.test_oneshot(siamese_net, N,trials, \"val\", verbose=True))\n",
    "    #train_accs.append(loader.test_oneshot(siamese_net, N,trials, \"train\", verbose=True))\n",
    "    #knn_accs.append(test_knn_accuracy(N,trials, loader))\n",
    "    \n",
    "#plot the accuracy vs num categories for each\n",
    "#plt.plot(ways, val_accs, \"m\")\n",
    "#plt.plot(ways, train_accs, \"y\")\n",
    "#plt.plot(ways, knn_accs, \"c\")\n",
    "\n",
    "#plt.plot(ways,100.0/ways,\"r\")\n",
    "#plt.show()"
   ]
  },
  {
   "cell_type": "code",
   "execution_count": 434,
   "metadata": {},
   "outputs": [
    {
     "name": "stdout",
     "output_type": "stream",
     "text": [
      "Evaluating KNN with L2 DISTANCE on 1000 unique 5 way one-shot learning tasks ...\n",
      "46.5\n"
     ]
    }
   ],
   "source": [
    "# KNN with L2 distances for 5 way one-shot learning\n",
    "a=test_knn_accuracy(5,1000,loader)\n",
    "print(a)"
   ]
  },
  {
   "cell_type": "code",
   "execution_count": 430,
   "metadata": {},
   "outputs": [
    {
     "name": "stdout",
     "output_type": "stream",
     "text": [
      "Evaluating KNN with L2 DISTANCE on 1000 unique 20 way one-shot learning tasks ...\n",
      "27.7\n"
     ]
    }
   ],
   "source": [
    "# KNN with L2 distances for 20 way one-shot learning\n",
    "a=test_knn_accuracy(20,1000,loader)\n",
    "print(a)"
   ]
  },
  {
   "cell_type": "code",
   "execution_count": 431,
   "metadata": {},
   "outputs": [
    {
     "name": "stdout",
     "output_type": "stream",
     "text": [
      "Evaluating KNN with HAUSDORFF on 1000 unique 5 way one-shot learning tasks ...\n",
      "8.8\n"
     ]
    }
   ],
   "source": [
    "a=test_knn_hausdorff_accuracy(5,1000,loader)\n",
    "print(a)"
   ]
  },
  {
   "cell_type": "code",
   "execution_count": 479,
   "metadata": {},
   "outputs": [
    {
     "name": "stdout",
     "output_type": "stream",
     "text": [
      "Evaluating KNN with HAUSDORFF on 1000 unique 20 way one-shot learning tasks ...\n",
      "1.8\n"
     ]
    }
   ],
   "source": [
    "a=test_knn_hausdorff_accuracy(20,1000,loader)\n",
    "print(a)"
   ]
  },
  {
   "cell_type": "code",
   "execution_count": 435,
   "metadata": {},
   "outputs": [
    {
     "name": "stdout",
     "output_type": "stream",
     "text": [
      "Evaluating KNN with COSINE distance on 1000 unique 5 way one-shot learning tasks ...\n",
      "35.5\n"
     ]
    }
   ],
   "source": [
    "a=test_knn_cosine_accuracy(5,1000,loader)\n",
    "print(a)"
   ]
  },
  {
   "cell_type": "code",
   "execution_count": 436,
   "metadata": {},
   "outputs": [
    {
     "name": "stdout",
     "output_type": "stream",
     "text": [
      "Evaluating KNN with COSINE distance on 1000 unique 20 way one-shot learning tasks ...\n",
      "14.2\n"
     ]
    }
   ],
   "source": [
    "a=test_knn_cosine_accuracy(20,1000,loader)\n",
    "print(a)"
=======
    "#Examples of one-shot learning tasks in the training dataset \n",
    "pairs, targets = loader.make_oneshot_task(2,\"train\",\"Japanese_(katakana)\")\n",
    "plot_oneshot_task(pairs)\n",
    "\n",
    "pairs, targets = loader.make_oneshot_task(1,\"train\",\"Greek\")\n",
    "plot_oneshot_task(pairs)\n",
    "\n",
    "pairs, targets = loader.make_oneshot_task(12,\"train\",\"Armenian\")\n",
    "plot_oneshot_task(pairs)\n",
    "\n",
    "pairs, targets = loader.make_oneshot_task(20,\"train\",\"Tifinagh\")\n",
    "plot_oneshot_task(pairs)\n",
    "\n",
    "pairs, targets = loader.make_oneshot_task(25,\"train\",\"Futurama\")\n",
    "plot_oneshot_task(pairs)"
>>>>>>> af54a17f2b9fb6e4fe080d554e70a998ee0d4f9f
   ]
  },
  {
   "cell_type": "code",
   "execution_count": null,
   "metadata": {},
   "outputs": [],
   "source": []
<<<<<<< HEAD
  },
  {
   "cell_type": "markdown",
   "metadata": {},
   "source": [
    "# Visualization / Interpretation of Hausdorff Distance\n",
    "* Based on the 105 x 105 px centered images of the Omniglot Dataset"
   ]
  },
  {
   "cell_type": "code",
   "execution_count": 420,
   "metadata": {},
   "outputs": [
    {
     "name": "stdout",
     "output_type": "stream",
     "text": [
      "The distance is: 845.739321540627\n",
      "The distance is: 919.4155752433172\n",
      "The distance is: 845.739321540627\n",
      "The distance is: 883.3459118601274\n",
      "The distance is: 721.2489168102785\n"
     ]
    },
    {
     "data": {
      "image/png": "iVBORw0KGgoAAAANSUhEUgAAAHgAAADuCAYAAADyW8OMAAAABHNCSVQICAgIfAhkiAAAAAlwSFlzAAALEgAACxIB0t1+/AAAADl0RVh0U29mdHdhcmUAbWF0cGxvdGxpYiB2ZXJzaW9uIDIuMS4yLCBodHRwOi8vbWF0cGxvdGxpYi5vcmcvNQv5yAAABLlJREFUeJzt3U2y2jgUQOGrrl4CGceL6P2vABbxxv324AzSdBECPItYknXu+aoySMoD44PkH2ynrOsa4vpr9AqoLQPDGRjOwHAGhjMwnIHhDAxnYLi/axY+nU7rsiyNVkU1LpfL57qu375arirwsixxPp/fXyvtppTysWU5p2g4A8MZGM7AcAaGMzCcgeEMDGdgOAPDGRjOwHAGhjMwnIHhDAxnYDgDwxkYzsBwBoYzMJyB4QwMZ2A4A8MZGM7AcAaGMzCcgeEMDGdguKon/GdSSvnt3zK+eNURDGdgOAPDGRjOwHAGhjMwnIHhDAxnYDgDwxkYLlXgRz9A0KUKnBE2cMafBh/BBtZPBoYzMJyB4QwMZ2A4A8MZGM7AcAaGMzCcgeEMDGdgOAPDGRjOwHAGhjMwnIHhDAxnYDgDw6ULnO3phnSBs0EH9ukGeGAZGM/AcCkDv3skXUr5/88sUgaOqI98v/wskfGBsx9J4wNH5I6cIvAzW6bZ2fa599IEfjaKn8V7FHbGmSBN4Bqvol/NEhv7fzbUqJ2CZ4kbYeAqM4W9coreaMa4EckCvxtp1rgRCafomWO9I9UIzsjAcAaGMzCcgeEMDGdguFJzXlhK+TciPtqtjip8X9f121cLVQXWfJyi4QwMZ2A4A8MZGM7AcAaGMzCcgeEMDGdgOAPDGRjOwHAGhjMwnIHhqh5dOZ1O67IsjVZFNS6Xy+eWW3aqAi/LEufz+f210m5KKZvujXOKhjMwXIrAs78p5080fT5460b11t12mgZ+FS7riOqt+xP+M76KaGZdAxv3p69mrz23TbfA1w81KuwRvlDPvuCP3mS71/p2Cez+9lf38e7/fj3q3yNy19OkI4yiUWpmsOsyewyM5oFHT81HMHIbpLjQMaO9vgxNAzt6x2+DNCM464FemsAjjZzBDHxQe804KQLvedoxm+Y/Ntz+VHeEg61HkVuv155Xpmo1v5J1jRwx9ohy5CXS2itTe26nLlP0uq4vr72qne6XKjPuD2s+896z3JCDrCPsi3vbErnFlz7dK/2PAPl78K1M0/OtV8chrWY17+gYpNfn77YPNu4Y3Q+yjNtXtynasGOkuBadmYHhDAznhY43zHQe7wiGMzAcPnDmZ4MjEu2DayNTztuHjuAeI+udUJS4EQNHcM9p81GwI90n1tLQETxq42aJG5HgICs7A8MZGM7AcGnOg2/dP3Fx++80u47gma4avTp1Itk18NYbvI+4Ie+fvqDYfR88y5MLWW4CbHKQNUvkCHbciIZH0UfecF7JEka6wJlGb0TCwNl0e9Pd0Rx1vfbWPPDRpsJsbxoYNoJHhs8Uucs++HYjHmWD3kc+ynrtrWng+3dyHO0INsPLYbr8mnSUoM/cvuqJxtMkOAPDGTiY+94rA984+rHCOwz8H2LcCANHBDduRESp+XClFO6WmM9lXdd/vlrIEQxnYDgDwxkYzsBwBoYzMJyB4QwMZ2A4A8MZGM7AcAaGMzCcgeEMDGdgOAPDGRjOwHAGhjMwnIHhDAxnYDgDwxkYzsBwBoYzMJyB4Wrfk/UZER8tVkTVvm9ZqOoJf83HKRrOwHAGhjMwnIHhDAxnYDgDwxkY7geY6VdFcUUrbwAAAABJRU5ErkJggg==\n",
      "text/plain": [
       "<matplotlib.figure.Figure at 0x1a2635f7b8>"
      ]
     },
     "metadata": {},
     "output_type": "display_data"
    },
    {
     "name": "stdout",
     "output_type": "stream",
     "text": [
      "Each number corresponds in order (from left to right) to the distance of each image with respect of the original letter(input) in the last array displayed \n"
     ]
    }
   ],
   "source": [
    "pairs, targets = loader.make_oneshot_task(5,\"train\",\"Greek\")\n",
    "\n",
    "for i in range(len(targets)):\n",
    "    hausdorff_distance = directed_hausdorff(pairs[0][i].reshape(105,105), pairs[1][i].reshape(105,105))\n",
    "    print(\"The distance is: {0}\".format(hausdorff_distance[0])) \n",
    "\n",
    "plot_oneshot_task(pairs)\n",
    "print(\"Each number corresponds in order (from left to right) to the distance \\\n",
    "of each image with respect of the original letter(input) in the last array displayed \")"
   ]
  },
  {
   "cell_type": "markdown",
   "metadata": {},
   "source": [
    "# Visualization / Interpretation of Jaccard Similarity\n",
    "* Based on the 105 x 105 px centered images of the Omniglot Dataset"
   ]
  },
  {
   "cell_type": "code",
   "execution_count": 424,
   "metadata": {},
   "outputs": [
    {
     "name": "stdout",
     "output_type": "stream",
     "text": [
      "The distance is: 0.9059410430839002\n",
      "The distance is: 0.9016780045351473\n",
      "The distance is: 0.9338775510204081\n",
      "The distance is: 0.910657596371882\n",
      "The distance is: 0.9022222222222223\n"
     ]
    },
    {
     "data": {
      "image/png": "iVBORw0KGgoAAAANSUhEUgAAAHgAAADuCAYAAADyW8OMAAAABHNCSVQICAgIfAhkiAAAAAlwSFlzAAALEgAACxIB0t1+/AAAADl0RVh0U29mdHdhcmUAbWF0cGxvdGxpYiB2ZXJzaW9uIDIuMS4yLCBodHRwOi8vbWF0cGxvdGxpYi5vcmcvNQv5yAAABQxJREFUeJzt3U2y4jYUQGEplSXQ4/Yisv8VwCLeOG8P6hEVijx+ZCzp6uh8s1SRxu3jKxswdC6lJHH9NXoD1JaB4QwMZ2A4A8MZGM7AcAaGMzDc3zUPPp1OZdu2RpuiGpfL5buU8uvV46oCb9uWzufz/q3SYXLOX+88ziUazsBwBoYzMJyB4QwMZ2A4A8MZGM7AcAaGMzCcgeEMDGdgOAPDGRjOwHAGhjMwnIHhDAxnYDgDwxkYzsBwBoYzMJyB4QwMZ2A4A8MZGM7AcAaGMzCcgeGqfmWnt5zz7v/36B86v92WmX5EPXTgTxwZ5P5Au/73DKGXWKI/WQlG/LlHWiLwp55NavTIoZfovUtgi51eSgkf8yfICf7pwDgizgzn3HvIwL1FnmwDV5ptig0MZ+CDRF2mDbzDTMu0geEMDGdgOAPDGRjOwHAGhjMwnIF3+Oldq6hvfhi4UtS3JB8x8AGiTm9KBsYzcIXZlueUDPyxyMtzSgZ+24zTm5KB8Qz8hkfTG315TsnAu80QNyUDvzTrufcq9DcbRnoWdpbpTWmxCZ59GvdYboI/jTzT9KYEnuAWIWaLmxI48NFmjJsSfIm+jbJ3aZ417BU68K3ZQ+3lEg1nYDgDwxkYzsBwBoYzMJyB4QwMZ2A4A8MZGM7AcAaGMzCcgeEMDGdgOAPDGRjOwHAGhjMwXK65Xzjn/G9K6avd5qjC71LKr1cPqgqs+bhEwxkYzsBwBoYzMJyB4QwMZ2A4A8MZGM7AcAaGMzCcgeEMDGdgOAPDVf2U4el0Ktu2NdoU1bhcLt/v3LJTFXjbtnQ+n/dvlQ6Tc37r3jiXaDgDw6F/Tvjd34gm31nafIJX/IcwIukywTnnIVPy6DlvD7qI03vk/uq2REf5d4iixz0a+hx8q3fY6/ONPoi6BR79F73qvR2jQze9yBr9lxu5HaWUXc939EXpMq+DRx9ko+ADr/4yDR94tNErR7fXwY+03AFRrgFSqntte+T2OsFwXSZ4xARFmt6Rmk/w6ju4RosLQpfoDkYe5AaGMzBc84uskR8V5pxDfej/bF+0uihsOsHXja3Z0S2eP4JH+6L1vmk+wddJSunxVWLLEK/+7J4H3qt90WI/dH0d/GhnjlrGR33K1PP5u37g/84tNL1EeCOkx3Mvc0dHSv8/kCKdo1tZ9mXSCnFTCjDBvS9yVjN0giOcB+mGTrBh21v2HLwKA8MNv8ia0Uw38jnBcAaGMzCcgeEMDGdgOOTLpBE3FkSF/urKTx+ur6b7BN/f3dHim/crTuojw87B1y9I309Zy0lbcYpD3LLjUtpOyKvoFpFf3fhHFTKwjtN1iY4yPaNu0x0hxDn4VsuD4PbG81WEW6JXmaxewgVu6f47QSsIF3iVHd9LuMCt3N6iu9JpIGTgVgFWCnsVMvDRnn2rkS5M4FbvQz/69sQq09wl8LO3Ce/DHrnj/WpM59+LfjalR0d4dzWgHwTh3sk6wrvRVnhnK8w5eJT7H0ehBUcGrn2te/9YUmTkTXd7UM/ByAnWfwwMZ2A4A8PlmouLnDPzSmROl1LKP68e5ATDGRjOwHAGhjMwnIHhDAxnYDgDwxkYzsBwBoYzMJyB4QwMZ2A4A8MZGM7AcAaGMzCcgeEMDGdgOAPDGRjOwHAGhjMwnIHhDAxnYLjaX9n5Til9tdgQVfv9zoOqvuGv+bhEwxkYzsBwBoYzMJyB4QwMZ2A4A8P9AQLDhEo5Pb0PAAAAAElFTkSuQmCC\n",
      "text/plain": [
       "<matplotlib.figure.Figure at 0x1a2b144160>"
      ]
     },
     "metadata": {},
     "output_type": "display_data"
    },
    {
     "name": "stdout",
     "output_type": "stream",
     "text": [
      "Each number corresponds in order (from left to right) to the distance of each image with respect of the original letter(input) in the last array displayed \n"
     ]
    }
   ],
   "source": [
    "from sklearn.metrics import jaccard_similarity_score\n",
    "\n",
    "pairs, targets = loader.make_oneshot_task(5,\"train\",\"Greek\")\n",
    "\n",
    "for i in range(len(targets)):\n",
    "    jacc = jaccard_similarity_score(pairs[0][i].reshape(105,105).flatten(), pairs[1][i].reshape(105,105).flatten())\n",
    "    print(\"The distance is: {0}\".format(jacc)) \n",
    "plot_oneshot_task(pairs)\n",
    "print(\"Each number corresponds in order (from left to right) to the distance of each image with respect \\\n",
    "of the original letter(input) in the last array displayed \")"
   ]
  },
  {
   "cell_type": "markdown",
   "metadata": {},
   "source": [
    "# Visualization / Interpretation of Cosine Distance\n",
    "* Based on the 105 x 105 px centered images of the Omniglot Dataset\n",
    "* This distance is the one used to achieve state-of-the-art results in past papers (as mentioned in mine)"
   ]
  },
  {
   "cell_type": "code",
   "execution_count": 182,
   "metadata": {},
   "outputs": [
    {
     "name": "stdout",
     "output_type": "stream",
     "text": [
      "The distance is: 0.05650226497830746\n",
      "The distance is: 0.04259592942974666\n",
      "The distance is: 0.05143660472908207\n",
      "The distance is: 0.032087352213636455\n",
      "The distance is: 0.05898739493833238\n"
     ]
    },
    {
     "data": {
      "image/png": "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\n",
      "text/plain": [
       "<matplotlib.figure.Figure at 0x1a2738cba8>"
      ]
     },
     "metadata": {},
     "output_type": "display_data"
    }
   ],
   "source": [
    "from scipy.spatial.distance import cosine\n",
    "\n",
    "pairs, targets = loader.make_oneshot_task(5,\"train\",\"Greek\")\n",
    "for i in range(len(targets)):\n",
    "    cosd = cosine(pairs[0][i].reshape(105,105).flatten(), pairs[1][i].reshape(105,105).flatten())\n",
    "    print(\"The distance is: {0}\".format(cosd)) \n",
    "plot_oneshot_task(pairs)"
   ]
  }
 ],
 "metadata": {
=======
  }
 ],
 "metadata": {
  "celltoolbar": "Raw Cell Format",
>>>>>>> af54a17f2b9fb6e4fe080d554e70a998ee0d4f9f
  "kernelspec": {
   "display_name": "Python 3",
   "language": "python",
   "name": "python3"
  },
  "language_info": {
   "codemirror_mode": {
    "name": "ipython",
    "version": 3
   },
   "file_extension": ".py",
   "mimetype": "text/x-python",
   "name": "python",
   "nbconvert_exporter": "python",
   "pygments_lexer": "ipython3",
   "version": "3.6.4"
  }
 },
 "nbformat": 4,
 "nbformat_minor": 1
}
